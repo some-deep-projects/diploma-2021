{
 "cells": [
  {
   "cell_type": "markdown",
   "id": "royal-steps",
   "metadata": {},
   "source": [
    "all submissions were made with original file. This is only for p = 1, norm_p = 2"
   ]
  },
  {
   "cell_type": "code",
   "execution_count": 1,
   "id": "pointed-aquatic",
   "metadata": {},
   "outputs": [],
   "source": [
    "import re\n",
    "import os\n",
    "import json\n",
    "import numpy as np\n",
    "import pandas as pd\n",
    "import random\n",
    "import matplotlib.pyplot as plt\n",
    "from collections import defaultdict"
   ]
  },
  {
   "cell_type": "markdown",
   "id": "legislative-degree",
   "metadata": {},
   "source": [
    "# Merging data from NKRYa into one json"
   ]
  },
  {
   "cell_type": "code",
   "execution_count": 2,
   "id": "endless-spectrum",
   "metadata": {},
   "outputs": [],
   "source": [
    "words_num = 99\n",
    "data_files_format = 'data/RuShiftEval/test/eval_23_True_True/2-3_{0}.data'"
   ]
  },
  {
   "cell_type": "code",
   "execution_count": 3,
   "id": "configured-celtic",
   "metadata": {},
   "outputs": [],
   "source": [
    "def load_words(data_files_format, words_num=99):\n",
    "    all_words = []\n",
    "    \n",
    "    for word_id in range(words_num):\n",
    "        current_file = data_files_format.format(word_id)\n",
    "        with open(current_file) as f:\n",
    "            word_examples = json.load(f)\n",
    "            all_words.extend(word_examples)\n",
    "            \n",
    "    return all_words"
   ]
  },
  {
   "cell_type": "code",
   "execution_count": 45,
   "id": "completed-determination",
   "metadata": {},
   "outputs": [
    {
     "data": {
      "text/plain": [
       "9149"
      ]
     },
     "execution_count": 45,
     "metadata": {},
     "output_type": "execute_result"
    }
   ],
   "source": [
    "all_words = load_words(data_files_format, words_num=words_num)\n",
    "\n",
    "len(all_words)"
   ]
  },
  {
   "cell_type": "code",
   "execution_count": 46,
   "id": "urban-softball",
   "metadata": {},
   "outputs": [
    {
     "data": {
      "text/plain": [
       "{'id': 'test.scd_2.31',\n",
       " 'lemma': 'апостол',\n",
       " 'pos': 'NOUN',\n",
       " 'sentence1': 'Ложные пророки ее и апостолы -- Юнг-Штиллинг, Эккартсгаузен, Гион, Беме, Лабзин, Госнер, Фесслер, методисты, гернгутеры\"...',\n",
       " 'sentence2': 'Муки совести, трагедийное чувство вины приобретают у Петрухи едва ли не христианский характер и отделяют его от остальных \"апостолов\" нового мира, идущих \"без имени святого\".',\n",
       " 'start1': 20,\n",
       " 'end1': 28,\n",
       " 'start2': 123,\n",
       " 'end2': 132,\n",
       " 'grp': 'COMPARE'}"
      ]
     },
     "execution_count": 46,
     "metadata": {},
     "output_type": "execute_result"
    }
   ],
   "source": [
    "all_words[200]"
   ]
  },
  {
   "cell_type": "code",
   "execution_count": 47,
   "id": "associate-harris",
   "metadata": {},
   "outputs": [],
   "source": [
    "with open('data/RuShiftEval/test/eval_23.json', 'w', encoding='utf-8') as f:\n",
    "    json.dump(all_words, f, indent=4, ensure_ascii=False)"
   ]
  },
  {
   "cell_type": "markdown",
   "id": "sublime-production",
   "metadata": {},
   "source": [
    "# Getting average score per word"
   ]
  },
  {
   "cell_type": "code",
   "execution_count": 196,
   "id": "neutral-underwear",
   "metadata": {},
   "outputs": [],
   "source": [
    "preds_filename = 'data/RuShiftEval/RuShiftEvalPreds/large/preds_eval_23.json'\n",
    "data_files_format = 'data/RuShiftEval/test/eval_23_True_True/2-3_{0}.data'\n",
    "output_epochs_filename = 'data/RuShiftEval/RuShiftEvalPreds/words_23.json'"
   ]
  },
  {
   "cell_type": "code",
   "execution_count": 197,
   "id": "eleven-corrections",
   "metadata": {},
   "outputs": [
    {
     "data": {
      "text/plain": [
       "9149"
      ]
     },
     "execution_count": 197,
     "metadata": {},
     "output_type": "execute_result"
    }
   ],
   "source": [
    "all_words = load_words(data_files_format, words_num=words_num)\n",
    "all_words = {word['id']: word for word in all_words}\n",
    "\n",
    "len(all_words)"
   ]
  },
  {
   "cell_type": "code",
   "execution_count": 198,
   "id": "parental-lotus",
   "metadata": {},
   "outputs": [],
   "source": [
    "class VectorsDotPredictor:\n",
    "    def __init__(self, threshold=None, normalize=True, norm_ord=2):\n",
    "        self.threshold = threshold\n",
    "        self.normalize = normalize\n",
    "        self.norm_ord = norm_ord\n",
    "    \n",
    "    def predict(self, out_vector_1, out_vector_2):\n",
    "        return self.predict_proba(out_vector_1, out_vector_2) > self.threshold\n",
    "    \n",
    "    def predict_proba(self, out_vector_1, out_vector_2):\n",
    "        out_vector_1 = np.array(out_vector_1)\n",
    "        out_vector_2 = np.array(out_vector_2)\n",
    "        \n",
    "        if self.normalize:\n",
    "            out_vector_1 /= np.linalg.norm(out_vector_1, ord=self.norm_ord)\n",
    "            out_vector_2 /= np.linalg.norm(out_vector_2, ord=self.norm_ord)\n",
    "            \n",
    "        return sum(out_vector_1 * out_vector_2)"
   ]
  },
  {
   "cell_type": "code",
   "execution_count": 199,
   "id": "opponent-illustration",
   "metadata": {},
   "outputs": [],
   "source": [
    "class VectorsDistPredictor:\n",
    "    def __init__(self, threshold, normalize=True, norm_ord=2, dist_ord=None):\n",
    "        self.threshold = threshold\n",
    "        self.normalize = normalize\n",
    "        self.norm_ord = norm_ord\n",
    "        self.dist_ord = dist_ord\n",
    "        if self.dist_ord is None:\n",
    "            self.dist_ord = self.norm_ord\n",
    "    \n",
    "    def predict(self, out_vector_1, out_vector_2):\n",
    "        return self.predict_proba(out_vector_1, out_vector_2) < self.threshold\n",
    "    \n",
    "    def predict_proba(self, out_vector_1, out_vector_2):\n",
    "        out_vector_1 = np.array(out_vector_1)\n",
    "        out_vector_2 = np.array(out_vector_2)\n",
    "        \n",
    "        if self.normalize:\n",
    "            out_vector_1 /= np.linalg.norm(out_vector_1, ord=self.norm_ord)\n",
    "            out_vector_2 /= np.linalg.norm(out_vector_2, ord=self.norm_ord)\n",
    "        \n",
    "        return np.linalg.norm(out_vector_1 - out_vector_2, ord=self.dist_ord)"
   ]
  },
  {
   "cell_type": "code",
   "execution_count": 200,
   "id": "central-secretary",
   "metadata": {},
   "outputs": [],
   "source": [
    "with open(preds_filename) as f:\n",
    "    eval_samples = json.load(f)"
   ]
  },
  {
   "cell_type": "code",
   "execution_count": 201,
   "id": "understood-million",
   "metadata": {},
   "outputs": [
    {
     "data": {
      "text/plain": [
       "99"
      ]
     },
     "execution_count": 201,
     "metadata": {},
     "output_type": "execute_result"
    }
   ],
   "source": [
    "word_to_dists = defaultdict(list)\n",
    "predictor = VectorsDistPredictor(threshold=None, normalize=True, norm_ord=2, dist_ord=1)\n",
    "# predictor = VectorsDistPredictor(threshold=None, normalize=True, norm_ord=2)\n",
    "# predictor = VectorsDotPredictor(threshold=None, normalize=True, norm_ord=2)\n",
    "\n",
    "for sample in eval_samples:\n",
    "    dist = predictor.predict_proba(sample['context_output1'], sample['context_output2'])\n",
    "    current_lemma = all_words[sample['id']]['lemma']\n",
    "    word_to_dists[current_lemma].append(dist)\n",
    "    \n",
    "len(word_to_dists)"
   ]
  },
  {
   "cell_type": "code",
   "execution_count": 202,
   "id": "dedicated-siemens",
   "metadata": {},
   "outputs": [
    {
     "data": {
      "text/plain": [
       "99"
      ]
     },
     "execution_count": 202,
     "metadata": {},
     "output_type": "execute_result"
    }
   ],
   "source": [
    "word_to_score = {}\n",
    "\n",
    "for word, dists in word_to_dists.items():\n",
    "    word_to_score[word] = np.mean(dists)    \n",
    "        \n",
    "len(word_to_score)"
   ]
  },
  {
   "cell_type": "code",
   "execution_count": 203,
   "id": "immediate-being",
   "metadata": {},
   "outputs": [],
   "source": [
    "with open(output_epochs_filename, 'w', encoding='utf-8') as f:\n",
    "    json.dump(word_to_score, f, indent=4, ensure_ascii=False)"
   ]
  },
  {
   "cell_type": "markdown",
   "id": "indirect-chapter",
   "metadata": {},
   "source": [
    "# Geeting final results"
   ]
  },
  {
   "cell_type": "code",
   "execution_count": 204,
   "id": "specific-portfolio",
   "metadata": {},
   "outputs": [],
   "source": [
    "output_epochs_12_filename = 'data/RuShiftEval/RuShiftEvalPreds/words_12.json'\n",
    "output_epochs_13_filename = 'data/RuShiftEval/RuShiftEvalPreds/words_13.json'\n",
    "output_epochs_23_filename = 'data/RuShiftEval/RuShiftEvalPreds/words_23.json'\n",
    "\n",
    "prediction_filename = 'data/RuShiftEval/RuShiftEvalPreds/post_preds/prediction_large_glm_l1n2_v2.tsv'"
   ]
  },
  {
   "cell_type": "code",
   "execution_count": 205,
   "id": "ruled-development",
   "metadata": {},
   "outputs": [],
   "source": [
    "def load_scores(filename):\n",
    "    with open(filename) as f:\n",
    "        return json.load(f)"
   ]
  },
  {
   "cell_type": "code",
   "execution_count": 206,
   "id": "retired-religion",
   "metadata": {},
   "outputs": [
    {
     "data": {
      "text/plain": [
       "(99, 99, 99)"
      ]
     },
     "execution_count": 206,
     "metadata": {},
     "output_type": "execute_result"
    }
   ],
   "source": [
    "scores_12 = load_scores(output_epochs_12_filename)\n",
    "scores_13 = load_scores(output_epochs_13_filename)\n",
    "scores_23 = load_scores(output_epochs_23_filename)\n",
    "\n",
    "len(scores_12), len(scores_13), len(scores_23)"
   ]
  },
  {
   "cell_type": "code",
   "execution_count": 207,
   "id": "incomplete-circuit",
   "metadata": {},
   "outputs": [],
   "source": [
    "with open(prediction_filename, 'w', encoding='utf-8') as f:\n",
    "    for word, score_12 in scores_12.items():\n",
    "        score_12 = 1 / score_12\n",
    "        score_13 = 1 / scores_13[word]\n",
    "        score_23 = 1 / scores_23[word]\n",
    "        f.write(f'{word}\\t{score_12}\\t{score_23}\\t{score_13}\\n')"
   ]
  },
  {
   "cell_type": "code",
   "execution_count": null,
   "id": "secret-macedonia",
   "metadata": {},
   "outputs": [],
   "source": []
  }
 ],
 "metadata": {
  "kernelspec": {
   "display_name": "Python 3",
   "language": "python",
   "name": "python3"
  },
  "language_info": {
   "codemirror_mode": {
    "name": "ipython",
    "version": 3
   },
   "file_extension": ".py",
   "mimetype": "text/x-python",
   "name": "python",
   "nbconvert_exporter": "python",
   "pygments_lexer": "ipython3",
   "version": "3.7.3"
  }
 },
 "nbformat": 4,
 "nbformat_minor": 5
}
