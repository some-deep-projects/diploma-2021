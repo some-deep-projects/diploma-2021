{
 "cells": [
  {
   "cell_type": "code",
   "execution_count": 1,
   "id": "russian-italy",
   "metadata": {},
   "outputs": [],
   "source": [
    "import re\n",
    "import os\n",
    "import json\n",
    "import numpy as np\n",
    "import pandas as pd\n",
    "import random\n",
    "import matplotlib.pyplot as plt\n",
    "from collections import defaultdict"
   ]
  },
  {
   "cell_type": "code",
   "execution_count": 54,
   "id": "checked-acquisition",
   "metadata": {},
   "outputs": [],
   "source": [
    "prediction_filename = 'data/RuShiftEval/RuShiftEvalPreds/prediction_7.tsv'\n",
    "# prediction_filename = 'data/RuShiftEval/RuShiftEvalPreds/MLM_preds/prediction_1.tsv'\n",
    "annotated_filename = 'data/RuShiftEval/results/annotated_testset.tsv'"
   ]
  },
  {
   "cell_type": "code",
   "execution_count": 55,
   "id": "static-tension",
   "metadata": {},
   "outputs": [
    {
     "data": {
      "text/html": [
       "<div>\n",
       "<style scoped>\n",
       "    .dataframe tbody tr th:only-of-type {\n",
       "        vertical-align: middle;\n",
       "    }\n",
       "\n",
       "    .dataframe tbody tr th {\n",
       "        vertical-align: top;\n",
       "    }\n",
       "\n",
       "    .dataframe thead th {\n",
       "        text-align: right;\n",
       "    }\n",
       "</style>\n",
       "<table border=\"1\" class=\"dataframe\">\n",
       "  <thead>\n",
       "    <tr style=\"text-align: right;\">\n",
       "      <th></th>\n",
       "      <th>0</th>\n",
       "      <th>1</th>\n",
       "      <th>2</th>\n",
       "      <th>3</th>\n",
       "    </tr>\n",
       "  </thead>\n",
       "  <tbody>\n",
       "    <tr>\n",
       "      <th>0</th>\n",
       "      <td>авторитет</td>\n",
       "      <td>3.109916</td>\n",
       "      <td>3.109870</td>\n",
       "      <td>2.959128</td>\n",
       "    </tr>\n",
       "    <tr>\n",
       "      <th>1</th>\n",
       "      <td>амбиция</td>\n",
       "      <td>3.498983</td>\n",
       "      <td>3.533736</td>\n",
       "      <td>3.427597</td>\n",
       "    </tr>\n",
       "    <tr>\n",
       "      <th>2</th>\n",
       "      <td>апостол</td>\n",
       "      <td>3.385864</td>\n",
       "      <td>3.462552</td>\n",
       "      <td>3.484160</td>\n",
       "    </tr>\n",
       "    <tr>\n",
       "      <th>3</th>\n",
       "      <td>благодарность</td>\n",
       "      <td>3.580604</td>\n",
       "      <td>3.596568</td>\n",
       "      <td>3.623178</td>\n",
       "    </tr>\n",
       "    <tr>\n",
       "      <th>4</th>\n",
       "      <td>блин</td>\n",
       "      <td>2.622852</td>\n",
       "      <td>1.704130</td>\n",
       "      <td>1.784910</td>\n",
       "    </tr>\n",
       "  </tbody>\n",
       "</table>\n",
       "</div>"
      ],
      "text/plain": [
       "               0         1         2         3\n",
       "0      авторитет  3.109916  3.109870  2.959128\n",
       "1        амбиция  3.498983  3.533736  3.427597\n",
       "2        апостол  3.385864  3.462552  3.484160\n",
       "3  благодарность  3.580604  3.596568  3.623178\n",
       "4           блин  2.622852  1.704130  1.784910"
      ]
     },
     "execution_count": 55,
     "metadata": {},
     "output_type": "execute_result"
    }
   ],
   "source": [
    "preds_df = pd.read_csv(prediction_filename, sep='\\t', header=None)\n",
    "\n",
    "preds_df.head()"
   ]
  },
  {
   "cell_type": "code",
   "execution_count": 56,
   "id": "horizontal-smell",
   "metadata": {},
   "outputs": [
    {
     "data": {
      "text/html": [
       "<div>\n",
       "<style scoped>\n",
       "    .dataframe tbody tr th:only-of-type {\n",
       "        vertical-align: middle;\n",
       "    }\n",
       "\n",
       "    .dataframe tbody tr th {\n",
       "        vertical-align: top;\n",
       "    }\n",
       "\n",
       "    .dataframe thead th {\n",
       "        text-align: right;\n",
       "    }\n",
       "</style>\n",
       "<table border=\"1\" class=\"dataframe\">\n",
       "  <thead>\n",
       "    <tr style=\"text-align: right;\">\n",
       "      <th></th>\n",
       "      <th>0</th>\n",
       "      <th>1</th>\n",
       "      <th>2</th>\n",
       "      <th>3</th>\n",
       "    </tr>\n",
       "  </thead>\n",
       "  <tbody>\n",
       "    <tr>\n",
       "      <th>0</th>\n",
       "      <td>авторитет</td>\n",
       "      <td>3.233333</td>\n",
       "      <td>2.955556</td>\n",
       "      <td>2.844444</td>\n",
       "    </tr>\n",
       "    <tr>\n",
       "      <th>1</th>\n",
       "      <td>амбиция</td>\n",
       "      <td>3.111111</td>\n",
       "      <td>3.444444</td>\n",
       "      <td>3.333333</td>\n",
       "    </tr>\n",
       "    <tr>\n",
       "      <th>2</th>\n",
       "      <td>апостол</td>\n",
       "      <td>3.494118</td>\n",
       "      <td>3.426966</td>\n",
       "      <td>3.423529</td>\n",
       "    </tr>\n",
       "    <tr>\n",
       "      <th>3</th>\n",
       "      <td>благодарность</td>\n",
       "      <td>3.233333</td>\n",
       "      <td>3.566667</td>\n",
       "      <td>3.655556</td>\n",
       "    </tr>\n",
       "    <tr>\n",
       "      <th>4</th>\n",
       "      <td>блин</td>\n",
       "      <td>3.213483</td>\n",
       "      <td>1.662921</td>\n",
       "      <td>2.577778</td>\n",
       "    </tr>\n",
       "  </tbody>\n",
       "</table>\n",
       "</div>"
      ],
      "text/plain": [
       "               0         1         2         3\n",
       "0      авторитет  3.233333  2.955556  2.844444\n",
       "1        амбиция  3.111111  3.444444  3.333333\n",
       "2        апостол  3.494118  3.426966  3.423529\n",
       "3  благодарность  3.233333  3.566667  3.655556\n",
       "4           блин  3.213483  1.662921  2.577778"
      ]
     },
     "execution_count": 56,
     "metadata": {},
     "output_type": "execute_result"
    }
   ],
   "source": [
    "gold_df = pd.read_csv(annotated_filename, sep='\\t', header=None)\n",
    "\n",
    "gold_df.head()"
   ]
  },
  {
   "cell_type": "code",
   "execution_count": 57,
   "id": "lonely-hawaiian",
   "metadata": {},
   "outputs": [
    {
     "data": {
      "text/plain": [
       "1    0.758398\n",
       "2    0.783777\n",
       "3    0.813079\n",
       "dtype: float64"
      ]
     },
     "execution_count": 57,
     "metadata": {},
     "output_type": "execute_result"
    }
   ],
   "source": [
    "corrs = preds_df.corrwith(gold_df, method='spearman')\n",
    "\n",
    "corrs"
   ]
  },
  {
   "cell_type": "code",
   "execution_count": 58,
   "id": "structural-genealogy",
   "metadata": {},
   "outputs": [
    {
     "data": {
      "text/plain": [
       "0.785"
      ]
     },
     "execution_count": 58,
     "metadata": {},
     "output_type": "execute_result"
    }
   ],
   "source": [
    "round(np.mean(corrs), ndigits=3)"
   ]
  },
  {
   "cell_type": "code",
   "execution_count": 59,
   "id": "enclosed-canadian",
   "metadata": {},
   "outputs": [
    {
     "data": {
      "text/plain": [
       "[75.8, 78.4, 81.3]"
      ]
     },
     "execution_count": 59,
     "metadata": {},
     "output_type": "execute_result"
    }
   ],
   "source": [
    "[100 * round(corr, ndigits=3) for corr in corrs]"
   ]
  },
  {
   "cell_type": "code",
   "execution_count": null,
   "id": "documentary-gallery",
   "metadata": {},
   "outputs": [],
   "source": []
  }
 ],
 "metadata": {
  "kernelspec": {
   "display_name": "Python 3",
   "language": "python",
   "name": "python3"
  },
  "language_info": {
   "codemirror_mode": {
    "name": "ipython",
    "version": 3
   },
   "file_extension": ".py",
   "mimetype": "text/x-python",
   "name": "python",
   "nbconvert_exporter": "python",
   "pygments_lexer": "ipython3",
   "version": "3.7.3"
  }
 },
 "nbformat": 4,
 "nbformat_minor": 5
}
