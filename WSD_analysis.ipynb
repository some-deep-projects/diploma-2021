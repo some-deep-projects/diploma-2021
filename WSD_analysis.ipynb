{
 "cells": [
  {
   "cell_type": "code",
   "execution_count": 60,
   "id": "cleared-cincinnati",
   "metadata": {},
   "outputs": [
    {
     "name": "stdout",
     "output_type": "stream",
     "text": [
      "Requirement already satisfied: scikit-learn in ./venv/lib/python3.7/site-packages (0.24.0)\n",
      "Requirement already satisfied: scipy>=0.19.1 in ./venv/lib/python3.7/site-packages (from scikit-learn) (1.6.0)\n",
      "Requirement already satisfied: joblib>=0.11 in ./venv/lib/python3.7/site-packages (from scikit-learn) (1.0.0)\n",
      "Requirement already satisfied: numpy>=1.13.3 in ./venv/lib/python3.7/site-packages (from scikit-learn) (1.19.5)\n",
      "Requirement already satisfied: threadpoolctl>=2.0.0 in ./venv/lib/python3.7/site-packages (from scikit-learn) (2.1.0)\n",
      "Requirement already satisfied: scipy in ./venv/lib/python3.7/site-packages (1.6.0)\n",
      "Requirement already satisfied: numpy>=1.16.5 in ./venv/lib/python3.7/site-packages (from scipy) (1.19.5)\n",
      "Collecting wordfreq\n",
      "  Downloading wordfreq-2.3.2.tar.gz (32.8 MB)\n",
      "\u001b[K     |████████████████████████████████| 32.8 MB 166 kB/s eta 0:00:01\n",
      "\u001b[?25hRequirement already satisfied: regex in ./venv/lib/python3.7/site-packages (from wordfreq) (2020.11.13)\n",
      "Collecting langcodes>=2\n",
      "  Downloading langcodes-2.1.0.tar.gz (5.0 MB)\n",
      "\u001b[K     |████████████████████████████████| 5.0 MB 4.0 MB/s eta 0:00:01\n",
      "\u001b[?25hCollecting msgpack>=1.0\n",
      "  Downloading msgpack-1.0.2-cp37-cp37m-macosx_10_14_x86_64.whl (72 kB)\n",
      "\u001b[K     |████████████████████████████████| 72 kB 1.4 MB/s eta 0:00:01\n",
      "\u001b[?25hCollecting marisa-trie\n",
      "  Downloading marisa-trie-0.7.5.tar.gz (270 kB)\n",
      "\u001b[K     |████████████████████████████████| 270 kB 4.4 MB/s eta 0:00:01\n",
      "\u001b[?25hUsing legacy 'setup.py install' for wordfreq, since package 'wheel' is not installed.\n",
      "Using legacy 'setup.py install' for langcodes, since package 'wheel' is not installed.\n",
      "Using legacy 'setup.py install' for marisa-trie, since package 'wheel' is not installed.\n",
      "Installing collected packages: marisa-trie, msgpack, langcodes, wordfreq\n",
      "    Running setup.py install for marisa-trie ... \u001b[?25ldone\n",
      "\u001b[?25h    Running setup.py install for langcodes ... \u001b[?25ldone\n",
      "\u001b[?25h    Running setup.py install for wordfreq ... \u001b[?25ldone\n",
      "\u001b[?25hSuccessfully installed langcodes-2.1.0 marisa-trie-0.7.5 msgpack-1.0.2 wordfreq-2.3.2\n"
     ]
    }
   ],
   "source": [
    "!pip install scikit-learn\n",
    "!pip install scipy\n",
    "!pip install wordfreq"
   ]
  },
  {
   "cell_type": "code",
   "execution_count": 1,
   "id": "personalized-great",
   "metadata": {},
   "outputs": [],
   "source": [
    "import numpy as np\n",
    "import pandas as pd\n",
    "import matplotlib.pyplot as plt\n",
    "import json\n",
    "from scipy import stats"
   ]
  },
  {
   "cell_type": "code",
   "execution_count": 2,
   "id": "contained-conflict",
   "metadata": {},
   "outputs": [],
   "source": [
    "pred_train_filename = 'data/bem/train_predictions.txt'\n",
    "pred_dev_filename = 'data/bem/dev_predictions.txt'\n",
    "pred_test_filename = 'data/bem/test_en_en_predictions.txt'\n",
    "#'data/bem/trial_predictions.txt'"
   ]
  },
  {
   "cell_type": "code",
   "execution_count": 3,
   "id": "amino-extension",
   "metadata": {},
   "outputs": [],
   "source": [
    "def construct_preds(pred_filename):\n",
    "    preds = []\n",
    "\n",
    "    with open(pred_filename) as f:\n",
    "        for line in f:\n",
    "            preds.append(json.loads(line))\n",
    "            \n",
    "    return preds"
   ]
  },
  {
   "cell_type": "raw",
   "id": "horizontal-bangladesh",
   "metadata": {},
   "source": [
    "preds = []\n",
    "\n",
    "with open(pred_filename) as f:\n",
    "    for line in f:\n",
    "        preds.append(json.loads(line))\n",
    "        \n",
    "print(len(preds))"
   ]
  },
  {
   "cell_type": "code",
   "execution_count": 9,
   "id": "central-aberdeen",
   "metadata": {},
   "outputs": [],
   "source": [
    "data_train_files = 'data/MCL-WiC/training/training_v2.en-en'\n",
    "data_dev_files = 'data/MCL-WiC/dev/multilingual/dev.en-en'\n",
    "data_test_files = 'data/MCL-WiC/test/multilingual/test.en-en'\n",
    "#'data/trial/multilingual/trial.en-en'"
   ]
  },
  {
   "cell_type": "code",
   "execution_count": 10,
   "id": "graduate-basement",
   "metadata": {},
   "outputs": [],
   "source": [
    "def construct_data_samples(data_files):\n",
    "    with open(data_files + '.data') as f_data, open(data_files + '.gold') as f_labels:\n",
    "        data_json = json.load(f_data)\n",
    "        labels_json = json.load(f_labels)\n",
    "    \n",
    "    labels_dict = {sample['id']: sample for sample in labels_json}\n",
    "    for sample in data_json:\n",
    "        sample['tag'] = labels_dict[sample['id']]['tag']\n",
    "\n",
    "    return data_json"
   ]
  },
  {
   "cell_type": "code",
   "execution_count": 11,
   "id": "occasional-explosion",
   "metadata": {},
   "outputs": [],
   "source": [
    "def construct_test_data_samples(data_files):\n",
    "    with open(data_files + '.data') as f_data:\n",
    "        data_json = json.load(f_data)\n",
    "\n",
    "    return data_json"
   ]
  },
  {
   "cell_type": "code",
   "execution_count": 12,
   "id": "boxed-cemetery",
   "metadata": {},
   "outputs": [],
   "source": [
    "def construct_samples(data_files, pred_filename, with_labels=True):\n",
    "    preds = construct_preds(pred_filename)\n",
    "    if with_labels:\n",
    "        samples = construct_data_samples(data_files)\n",
    "    else:\n",
    "        samples = construct_test_data_samples(data_files)\n",
    "    \n",
    "    preds_dict = {pred['sample_id']: pred for pred in preds}\n",
    "\n",
    "    for sample in samples:\n",
    "        pred_1 = preds_dict.get(sample['id'] + '#1', {'probs': None})\n",
    "        pred_2 = preds_dict.get(sample['id'] + '#2', {'probs': None})\n",
    "\n",
    "        sample['probs1'] = pred_1['probs']\n",
    "        sample['probs2'] = pred_2['probs']\n",
    "    \n",
    "    return samples"
   ]
  },
  {
   "cell_type": "code",
   "execution_count": 13,
   "id": "fewer-childhood",
   "metadata": {},
   "outputs": [],
   "source": [
    "train_samples = construct_samples(data_train_files, pred_train_filename)\n",
    "dev_samples = construct_samples(data_dev_files, pred_dev_filename)\n",
    "test_samples = construct_samples(data_test_files, pred_test_filename, with_labels=False)"
   ]
  },
  {
   "cell_type": "code",
   "execution_count": 14,
   "id": "honey-afghanistan",
   "metadata": {},
   "outputs": [
    {
     "data": {
      "text/plain": [
       "{'id': 'dev.en-en.0',\n",
       " 'lemma': 'superior',\n",
       " 'pos': 'NOUN',\n",
       " 'sentence1': 'No clause in a contract shall be interpreted as evading the responsibility of superiors under international law.',\n",
       " 'sentence2': 'While fully aware that bishops and major superiors of religious institutes do not act as representatives or delegates of the Roman Pontiff, the Committee notes that subordinates in Catholic religious orders are bound by obedience to the Pope, in accordance with Canons 331 and 590 of the Code of canon Law.',\n",
       " 'start1': '78',\n",
       " 'end1': '87',\n",
       " 'start2': '41',\n",
       " 'end2': '50',\n",
       " 'tag': 'F',\n",
       " 'probs1': {'superior%1:18:01::': 2.4651036262512207,\n",
       "  'superior%1:18:02::': 5.800511360168457,\n",
       "  'superior%1:18:03::': 1.963192343711853,\n",
       "  'superior%1:17:00::': -2.89689302444458,\n",
       "  'superior%1:15:00::': -1.4309850931167603,\n",
       "  'superior%1:10:00::': -2.7062292098999023},\n",
       " 'probs2': {'superior%1:18:01::': 3.1954145431518555,\n",
       "  'superior%1:18:02::': 10.759631156921387,\n",
       "  'superior%1:18:03::': 2.908627510070801,\n",
       "  'superior%1:17:00::': -0.4005865454673767,\n",
       "  'superior%1:15:00::': 0.9868532419204712,\n",
       "  'superior%1:10:00::': -1.101855993270874}}"
      ]
     },
     "execution_count": 14,
     "metadata": {},
     "output_type": "execute_result"
    }
   ],
   "source": [
    "dev_samples[0]"
   ]
  },
  {
   "cell_type": "code",
   "execution_count": 15,
   "id": "ecological-tribune",
   "metadata": {},
   "outputs": [],
   "source": [
    "from abc import ABC, abstractmethod"
   ]
  },
  {
   "cell_type": "code",
   "execution_count": 16,
   "id": "unexpected-sleeve",
   "metadata": {},
   "outputs": [],
   "source": [
    "class AbsPredictor(ABC):\n",
    "    @abstractmethod\n",
    "    def predict(self, probs_1, probs_2):\n",
    "        pass\n",
    "    \n",
    "    @abstractmethod\n",
    "    def predict_proba(self, probs_1, probs_2):\n",
    "        pass"
   ]
  },
  {
   "cell_type": "code",
   "execution_count": 17,
   "id": "bizarre-maker",
   "metadata": {},
   "outputs": [],
   "source": [
    "class SimpleMatchPredictor(AbsPredictor):\n",
    "    def predict(self, probs_1, probs_2):\n",
    "        def get_biggest(d):\n",
    "            return list(sorted(d.items(), key=lambda item: item[1], reverse=True))[0][0]\n",
    "\n",
    "        return get_biggest(probs_1) == get_biggest(probs_2)\n",
    "    \n",
    "    def predict_proba(self, probs_1, probs_2):\n",
    "        return None"
   ]
  },
  {
   "cell_type": "code",
   "execution_count": 18,
   "id": "extraordinary-converter",
   "metadata": {},
   "outputs": [],
   "source": [
    "class ConfidentPredictor(AbsPredictor):\n",
    "    def __init__(self, threshold):\n",
    "        self.threshold = threshold\n",
    "        self.simple_predictor = SimpleMatchPredictor()\n",
    "    \n",
    "    def predict(self, probs_1, probs_2):\n",
    "        is_conf_1 = max(probs_1.values()) >= self.threshold\n",
    "        is_conf_2 = max(probs_2.values()) >= self.threshold\n",
    "        conf_sum = sum([is_conf_1, is_conf_2])\n",
    "        \n",
    "        if conf_sum == 1:\n",
    "            return False\n",
    "    \n",
    "        return self.simple_predictor.predict(probs_1, probs_2)\n",
    "    \n",
    "    def predict_proba(self, probs_1, probs_2):\n",
    "        return None"
   ]
  },
  {
   "cell_type": "code",
   "execution_count": 19,
   "id": "naked-commissioner",
   "metadata": {},
   "outputs": [],
   "source": [
    "class CorrPredictor(AbsPredictor):\n",
    "    def __init__(self, threshold, stats_corr='pears'):\n",
    "        assert stats_corr in ['pears', 'spearm']\n",
    "        \n",
    "        self.threshold = threshold\n",
    "        self.stats_corr = stats_corr\n",
    "    \n",
    "    def predict_proba(self, probs_1, probs_2):\n",
    "        if len(probs_1) < 2:\n",
    "            return True\n",
    "        \n",
    "        lst_probs_1, lst_probs_2 = [], []\n",
    "        for key in probs_1:\n",
    "            lst_probs_1.append(probs_1[key])\n",
    "            lst_probs_2.append(probs_2[key])\n",
    "            \n",
    "        if self.stats_corr == 'pears':\n",
    "            corr, _ = stats.pearsonr(lst_probs_1, lst_probs_2)\n",
    "        elif self.stats_corr == 'spearm':\n",
    "            corr, _ = stats.spearmanr(lst_probs_1, lst_probs_2)\n",
    "            \n",
    "        return corr\n",
    "    \n",
    "    def predict(self, probs_1, probs_2):\n",
    "        return self.predict_proba(probs_1, probs_2) >= self.threshold"
   ]
  },
  {
   "cell_type": "code",
   "execution_count": 20,
   "id": "fluid-atlas",
   "metadata": {},
   "outputs": [],
   "source": [
    "class DiffPredictor(AbsPredictor):\n",
    "    def __init__(self, threshold, normalize=True):\n",
    "        self.threshold = threshold\n",
    "        self.normalize = normalize\n",
    "        \n",
    "    def predict_proba(self, probs_1, probs_2):\n",
    "        diff_sum = 0\n",
    "        \n",
    "        for key in probs_1:\n",
    "            diff_sum += abs(probs_1[key] - probs_2[key])\n",
    "        \n",
    "        if self.normalize:\n",
    "            diff_sum /= len(probs_1)\n",
    "            \n",
    "        return diff_sum\n",
    "    \n",
    "    def predict(self, probs_1, probs_2):\n",
    "        return self.predict_proba(probs_1, probs_2) < self.threshold"
   ]
  },
  {
   "cell_type": "code",
   "execution_count": 21,
   "id": "embedded-panama",
   "metadata": {},
   "outputs": [],
   "source": [
    "class DivergencePredictor(AbsPredictor):\n",
    "    def __init__(self, threshold, normalize=True, divergence='Kullback–Leibler'):\n",
    "        assert divergence in ['Kullback–Leibler', 'Jensen–Shannon']\n",
    "        \n",
    "        self.threshold = threshold\n",
    "        self.normalize = normalize\n",
    "        self.divergence = divergence\n",
    "        \n",
    "    @staticmethod\n",
    "    def _kullback_leibler(probs_1, probs_2):\n",
    "        return sum(probs_1 * np.log(probs_1 / probs_2))\n",
    "        \n",
    "    def predict_proba(self, probs_1, probs_2):\n",
    "        if len(probs_1) < 2:\n",
    "            return True\n",
    "        \n",
    "        lst_probs_1, lst_probs_2 = [], []\n",
    "        for key in probs_1:\n",
    "            lst_probs_1.append(probs_1[key])\n",
    "            lst_probs_2.append(probs_2[key])\n",
    "            \n",
    "        lst_probs_1 = np.exp(lst_probs_1) / sum(np.exp(lst_probs_1))\n",
    "        lst_probs_2 = np.exp(lst_probs_2) / sum(np.exp(lst_probs_2))\n",
    "        \n",
    "        if self.divergence == 'Kullback–Leibler':\n",
    "            diver = self._kullback_leibler(lst_probs_1, lst_probs_2)\n",
    "        elif self.divergence == 'Jensen–Shannon':\n",
    "            m = (lst_probs_1 + lst_probs_2) / 2\n",
    "            diver = (self._kullback_leibler(lst_probs_1, m)\n",
    "                   + self._kullback_leibler(lst_probs_2, m)) / 2\n",
    "        \n",
    "        if self.normalize:\n",
    "            diver /= len(probs_1)\n",
    "        \n",
    "        return diver\n",
    "    \n",
    "    def predict(self, probs_1, probs_2):\n",
    "        return self.predict_proba(probs_1, probs_2) < self.threshold"
   ]
  },
  {
   "cell_type": "code",
   "execution_count": 22,
   "id": "adult-thing",
   "metadata": {},
   "outputs": [],
   "source": [
    "def get_predictions(predictor, samples):\n",
    "    return [predictor.predict(sample['probs1'], sample['probs2']) for sample in samples]"
   ]
  },
  {
   "cell_type": "code",
   "execution_count": 23,
   "id": "choice-edmonton",
   "metadata": {},
   "outputs": [],
   "source": [
    "from sklearn.metrics import accuracy_score"
   ]
  },
  {
   "cell_type": "code",
   "execution_count": 24,
   "id": "august-diabetes",
   "metadata": {},
   "outputs": [],
   "source": [
    "y_train_true = [sample['tag'] == 'T' for sample in train_samples]\n",
    "y_dev_true = [sample['tag'] == 'T' for sample in dev_samples]"
   ]
  },
  {
   "cell_type": "markdown",
   "id": "accomplished-miracle",
   "metadata": {},
   "source": [
    "Simple matching"
   ]
  },
  {
   "cell_type": "code",
   "execution_count": 25,
   "id": "meaningful-thing",
   "metadata": {},
   "outputs": [
    {
     "data": {
      "text/plain": [
       "0.7405506883604506"
      ]
     },
     "execution_count": 25,
     "metadata": {},
     "output_type": "execute_result"
    }
   ],
   "source": [
    "y_train_pred = get_predictions(SimpleMatchPredictor(), train_samples)\n",
    "\n",
    "accuracy_score(y_train_true, y_train_pred)"
   ]
  },
  {
   "cell_type": "code",
   "execution_count": 26,
   "id": "backed-franklin",
   "metadata": {},
   "outputs": [
    {
     "data": {
      "text/plain": [
       "0.753"
      ]
     },
     "execution_count": 26,
     "metadata": {},
     "output_type": "execute_result"
    }
   ],
   "source": [
    "y_dev_pred = get_predictions(SimpleMatchPredictor(), dev_samples)\n",
    "\n",
    "accuracy_score(y_dev_true, y_dev_pred)"
   ]
  },
  {
   "cell_type": "markdown",
   "id": "elect-participation",
   "metadata": {},
   "source": [
    "Matching with thresholds"
   ]
  },
  {
   "cell_type": "code",
   "execution_count": 27,
   "id": "designed-listening",
   "metadata": {},
   "outputs": [],
   "source": [
    "def plot_thresholds(predictor_class, samples, y_true, thresholds, **args):\n",
    "    scores = []\n",
    "\n",
    "    for threshold in thresholds:\n",
    "        y_pred = get_predictions(predictor_class(threshold=threshold, **args), samples)\n",
    "        scores.append(accuracy_score(y_true, y_pred))\n",
    "\n",
    "    plt.plot(thresholds, scores)\n",
    "    \n",
    "    args_str = str(args) if len(args) > 0 else ''\n",
    "    plt.title(predictor_class.__name__ + ' ' + args_str)\n",
    "    plt.xlabel('thresholds')\n",
    "    plt.ylabel('accuracy')\n",
    "\n",
    "    print('Best score:', max(scores), 'at threshold:', thresholds[np.argmax(scores)])"
   ]
  },
  {
   "cell_type": "code",
   "execution_count": 49,
   "id": "continent-poultry",
   "metadata": {},
   "outputs": [
    {
     "name": "stdout",
     "output_type": "stream",
     "text": [
      "Best score: 0.7421777221526908 at threshold: -0.5886287625418065\n",
      "Best score: 0.766 at threshold: 0.3143812709030094\n"
     ]
    },
    {
     "data": {
      "image/png": "[encoded data removed]",
      "text/plain": [
       "<Figure size 432x288 with 1 Axes>"
      ]
     },
     "metadata": {
      "needs_background": "light"
     },
     "output_type": "display_data"
    }
   ],
   "source": [
    "plot_thresholds(ConfidentPredictor, train_samples, y_train_true, np.linspace(-7, 20, 300))\n",
    "plot_thresholds(ConfidentPredictor, dev_samples, y_dev_true, np.linspace(-7, 20, 300))\n",
    "\n",
    "plt.legend(['train', 'dev']);"
   ]
  },
  {
   "cell_type": "code",
   "execution_count": 50,
   "id": "sunset-madrid",
   "metadata": {},
   "outputs": [
    {
     "name": "stdout",
     "output_type": "stream",
     "text": [
      "Best score: 0.7809762202753442 at threshold: 0.888888888888889\n",
      "Best score: 0.815 at threshold: 0.8080808080808082\n"
     ]
    },
    {
     "data": {
      "image/png": "[encoded data removed]",
      "text/plain": [
       "<Figure size 432x288 with 1 Axes>"
      ]
     },
     "metadata": {
      "needs_background": "light"
     },
     "output_type": "display_data"
    }
   ],
   "source": [
    "plot_thresholds(CorrPredictor, train_samples, y_train_true, np.linspace(0, 1, 100), stats_corr='pears')\n",
    "plot_thresholds(CorrPredictor, dev_samples, y_dev_true, np.linspace(0, 1, 100), stats_corr='pears')\n",
    "\n",
    "plt.legend(['train', 'dev']);"
   ]
  },
  {
   "cell_type": "code",
   "execution_count": 51,
   "id": "under-fraud",
   "metadata": {},
   "outputs": [
    {
     "name": "stdout",
     "output_type": "stream",
     "text": [
      "Best score: 0.7461827284105131 at threshold: 0.797979797979798\n",
      "Best score: 0.785 at threshold: 0.7676767676767677\n"
     ]
    },
    {
     "data": {
      "image/png": "[encoded data removed]",
      "text/plain": [
       "<Figure size 432x288 with 1 Axes>"
      ]
     },
     "metadata": {
      "needs_background": "light"
     },
     "output_type": "display_data"
    }
   ],
   "source": [
    "plot_thresholds(CorrPredictor, train_samples, y_train_true, np.linspace(0, 1, 100), stats_corr='spearm')\n",
    "plot_thresholds(CorrPredictor, dev_samples, y_dev_true, np.linspace(0, 1, 100), stats_corr='spearm')\n",
    "\n",
    "plt.legend(['train', 'dev']);"
   ]
  },
  {
   "cell_type": "code",
   "execution_count": 52,
   "id": "secret-acceptance",
   "metadata": {},
   "outputs": [
    {
     "name": "stdout",
     "output_type": "stream",
     "text": [
      "Best score: 0.7267834793491865 at threshold: 1.8181818181818181\n",
      "Best score: 0.756 at threshold: 1.8181818181818181\n"
     ]
    },
    {
     "data": {
      "image/png": "[encoded data removed]",
      "text/plain": [
       "<Figure size 432x288 with 1 Axes>"
      ]
     },
     "metadata": {
      "needs_background": "light"
     },
     "output_type": "display_data"
    }
   ],
   "source": [
    "plot_thresholds(DiffPredictor, train_samples, y_train_true, np.linspace(0, 20, 100), normalize=True)\n",
    "plot_thresholds(DiffPredictor, dev_samples, y_dev_true, np.linspace(0, 20, 100), normalize=True)\n",
    "\n",
    "plt.legend(['train', 'dev']);"
   ]
  },
  {
   "cell_type": "code",
   "execution_count": 53,
   "id": "criminal-vietnam",
   "metadata": {},
   "outputs": [
    {
     "name": "stdout",
     "output_type": "stream",
     "text": [
      "Best score: 0.727784730913642 at threshold: 7.474747474747475\n",
      "Best score: 0.745 at threshold: 8.282828282828282\n"
     ]
    },
    {
     "data": {
      "image/png": "[encoded data removed]",
      "text/plain": [
       "<Figure size 432x288 with 1 Axes>"
      ]
     },
     "metadata": {
      "needs_background": "light"
     },
     "output_type": "display_data"
    }
   ],
   "source": [
    "plot_thresholds(DiffPredictor, train_samples, y_train_true, np.linspace(0, 20, 100), normalize=False)\n",
    "plot_thresholds(DiffPredictor, dev_samples, y_dev_true, np.linspace(0, 20, 100), normalize=False)\n",
    "\n",
    "plt.legend(['train', 'dev']);"
   ]
  },
  {
   "cell_type": "code",
   "execution_count": 54,
   "id": "spectacular-lesson",
   "metadata": {},
   "outputs": [
    {
     "name": "stdout",
     "output_type": "stream",
     "text": [
      "Best score: 0.7760951188986233 at threshold: 0.10101010101010101\n",
      "Best score: 0.829 at threshold: 0.10101010101010101\n"
     ]
    },
    {
     "data": {
      "image/png": "[encoded data removed]",
      "text/plain": [
       "<Figure size 432x288 with 1 Axes>"
      ]
     },
     "metadata": {
      "needs_background": "light"
     },
     "output_type": "display_data"
    }
   ],
   "source": [
    "plot_thresholds(DivergencePredictor, train_samples, y_train_true,\n",
    "                np.linspace(0, 10, 100), divergence='Kullback–Leibler', normalize=True)\n",
    "plot_thresholds(DivergencePredictor, dev_samples, y_dev_true,\n",
    "                np.linspace(0, 10, 100), divergence='Kullback–Leibler', normalize=True)\n",
    "\n",
    "plt.legend(['train', 'dev']);"
   ]
  },
  {
   "cell_type": "code",
   "execution_count": 55,
   "id": "critical-aircraft",
   "metadata": {},
   "outputs": [
    {
     "name": "stdout",
     "output_type": "stream",
     "text": [
      "Best score: 0.793241551939925 at threshold: 0.20202020202020202\n",
      "Best score: 0.836 at threshold: 0.40404040404040403\n"
     ]
    },
    {
     "data": {
      "image/png": "[encoded data removed]",
      "text/plain": [
       "<Figure size 432x288 with 1 Axes>"
      ]
     },
     "metadata": {
      "needs_background": "light"
     },
     "output_type": "display_data"
    }
   ],
   "source": [
    "plot_thresholds(DivergencePredictor, train_samples, y_train_true,\n",
    "                np.linspace(0, 10, 100), divergence='Kullback–Leibler', normalize=False)\n",
    "plot_thresholds(DivergencePredictor, dev_samples, y_dev_true,\n",
    "                np.linspace(0, 10, 100), divergence='Kullback–Leibler', normalize=False)\n",
    "\n",
    "plt.legend(['train', 'dev']);"
   ]
  },
  {
   "cell_type": "code",
   "execution_count": 56,
   "id": "stylish-breach",
   "metadata": {},
   "outputs": [
    {
     "name": "stdout",
     "output_type": "stream",
     "text": [
      "Best score: 0.7842302878598247 at threshold: 0.013377926421404682\n",
      "Best score: 0.834 at threshold: 0.016722408026755852\n"
     ]
    },
    {
     "data": {
      "image/png": "[encoded data removed]",
      "text/plain": [
       "<Figure size 432x288 with 1 Axes>"
      ]
     },
     "metadata": {
      "needs_background": "light"
     },
     "output_type": "display_data"
    }
   ],
   "source": [
    "plot_thresholds(DivergencePredictor, train_samples, y_train_true, \n",
    "                np.linspace(0, 1, 300), divergence='Jensen–Shannon', normalize=True)\n",
    "plot_thresholds(DivergencePredictor, dev_samples, y_dev_true, \n",
    "                np.linspace(0, 1, 300), divergence='Jensen–Shannon', normalize=True)\n",
    "\n",
    "plt.legend(['train', 'dev']);"
   ]
  },
  {
   "cell_type": "code",
   "execution_count": 28,
   "id": "varying-intention",
   "metadata": {},
   "outputs": [
    {
     "name": "stdout",
     "output_type": "stream",
     "text": [
      "Best score: 0.7911138923654568 at threshold: 0.07357859531772575\n",
      "Best score: 0.84 at threshold: 0.07357859531772575\n"
     ]
    },
    {
     "data": {
      "image/png": "[encoded data removed]",
      "text/plain": [
       "<Figure size 432x288 with 1 Axes>"
      ]
     },
     "metadata": {
      "needs_background": "light"
     },
     "output_type": "display_data"
    }
   ],
   "source": [
    "plot_thresholds(DivergencePredictor, train_samples, y_train_true, \n",
    "                np.linspace(0, 1, 300), divergence='Jensen–Shannon', normalize=False)\n",
    "plot_thresholds(DivergencePredictor, dev_samples, y_dev_true, \n",
    "                np.linspace(0, 1, 300), divergence='Jensen–Shannon', normalize=False)\n",
    "\n",
    "plt.legend(['train', 'dev']);"
   ]
  },
  {
   "cell_type": "markdown",
   "id": "secret-double",
   "metadata": {},
   "source": [
    "Creating log-reg with params"
   ]
  },
  {
   "cell_type": "code",
   "execution_count": 20,
   "id": "dressed-blackjack",
   "metadata": {},
   "outputs": [],
   "source": [
    "from sklearn.linear_model import LogisticRegression\n",
    "from sklearn.model_selection import GridSearchCV\n",
    "import inspect"
   ]
  },
  {
   "cell_type": "code",
   "execution_count": 21,
   "id": "lyric-absolute",
   "metadata": {},
   "outputs": [],
   "source": [
    "def get_probs(predictor, samples):\n",
    "    return [predictor.predict_proba(sample['probs1'], sample['probs2']) for sample in samples]"
   ]
  },
  {
   "cell_type": "code",
   "execution_count": 22,
   "id": "extended-diana",
   "metadata": {},
   "outputs": [],
   "source": [
    "def construct_X_lr(base_predictors, samples):\n",
    "    predictors_train_probs = [get_probs(predictor, samples) for predictor in base_predictors]\n",
    "    return np.vstack(predictors_train_probs).T"
   ]
  },
  {
   "cell_type": "code",
   "execution_count": 23,
   "id": "mature-removal",
   "metadata": {},
   "outputs": [],
   "source": [
    "lr_base_predictors = [\n",
    "    CorrPredictor(threshold=None, stats_corr='pears'),\n",
    "    CorrPredictor(threshold=None, stats_corr='spearm'),\n",
    "    DiffPredictor(threshold=None, normalize=True),\n",
    "    #DiffPredictor(threshold=None, normalize=False),\n",
    "    #DivergencePredictor(threshold=None, divergence='Kullback–Leibler', normalize=True),\n",
    "    DivergencePredictor(threshold=None, divergence='Kullback–Leibler', normalize=False),\n",
    "    #DivergencePredictor(threshold=None, divergence='Jensen–Shannon', normalize=True),\n",
    "    DivergencePredictor(threshold=None, divergence='Jensen–Shannon', normalize=False)\n",
    "]\n",
    "\n",
    "X_train = construct_X_lr(lr_base_predictors, train_samples)\n",
    "X_dev = construct_X_lr(lr_base_predictors, dev_samples)"
   ]
  },
  {
   "cell_type": "code",
   "execution_count": 24,
   "id": "accessible-market",
   "metadata": {},
   "outputs": [
    {
     "name": "stdout",
     "output_type": "stream",
     "text": [
      "Best model params: {'C': 0.7368421052631579, 'penalty': 'l2'}\n",
      "Train accuracy: 0.7981226533166458\n",
      "Dev accuracy: 0.841\n"
     ]
    },
    {
     "name": "stderr",
     "output_type": "stream",
     "text": [
      "/Users/maxim_rachinskiy/Develop/Education/Coursework_2020-2021/MCL_WiC/venv/lib/python3.7/site-packages/sklearn/model_selection/_search.py:921: UserWarning: One or more of the test scores are non-finite: [       nan        nan        nan 0.79536921        nan 0.79612015\n",
      "        nan 0.79586984        nan 0.79574468        nan 0.79586984\n",
      "        nan 0.79624531        nan 0.79599499        nan 0.79624531\n",
      "        nan 0.79662078        nan 0.79674593        nan 0.79662078\n",
      "        nan 0.7971214         nan 0.79737171        nan 0.79749687\n",
      "        nan 0.79749687        nan 0.79737171        nan 0.79737171\n",
      "        nan 0.79724656        nan 0.79724656]\n",
      "  category=UserWarning\n"
     ]
    }
   ],
   "source": [
    "grid_params = {\n",
    "    'C': np.linspace(0, 1, 20),\n",
    "    'penalty': ['l1', 'l2']\n",
    "}\n",
    "\n",
    "lr = LogisticRegression(max_iter=300)\n",
    "clf = GridSearchCV(lr, param_grid=grid_params, cv=5, n_jobs=-1)\n",
    "\n",
    "clf.fit(X_train, y_train_true)\n",
    "print('Best model params:', clf.best_params_)\n",
    "best_clf = clf.best_estimator_\n",
    "print('Train accuracy:', accuracy_score(y_train_true, best_clf.predict(X_train)))\n",
    "print('Dev accuracy:', accuracy_score(y_dev_true, best_clf.predict(X_dev)))"
   ]
  },
  {
   "cell_type": "code",
   "execution_count": 236,
   "id": "employed-fields",
   "metadata": {},
   "outputs": [],
   "source": [
    "def get_obj_info(obj):\n",
    "    return obj.__class__.__name__ + \": \" + str(obj.__dict__)"
   ]
  },
  {
   "cell_type": "code",
   "execution_count": 237,
   "id": "liquid-justice",
   "metadata": {},
   "outputs": [
    {
     "data": {
      "text/html": [
       "<div>\n",
       "<style scoped>\n",
       "    .dataframe tbody tr th:only-of-type {\n",
       "        vertical-align: middle;\n",
       "    }\n",
       "\n",
       "    .dataframe tbody tr th {\n",
       "        vertical-align: top;\n",
       "    }\n",
       "\n",
       "    .dataframe thead th {\n",
       "        text-align: right;\n",
       "    }\n",
       "</style>\n",
       "<table border=\"1\" class=\"dataframe\">\n",
       "  <thead>\n",
       "    <tr style=\"text-align: right;\">\n",
       "      <th></th>\n",
       "      <th>coef</th>\n",
       "      <th>base_model</th>\n",
       "    </tr>\n",
       "  </thead>\n",
       "  <tbody>\n",
       "    <tr>\n",
       "      <th>0</th>\n",
       "      <td>0.461818</td>\n",
       "      <td>CorrPredictor: {'threshold': None, 'stats_corr': 'pears'}</td>\n",
       "    </tr>\n",
       "    <tr>\n",
       "      <th>1</th>\n",
       "      <td>0.358924</td>\n",
       "      <td>CorrPredictor: {'threshold': None, 'stats_corr': 'spearm'}</td>\n",
       "    </tr>\n",
       "    <tr>\n",
       "      <th>2</th>\n",
       "      <td>-0.420496</td>\n",
       "      <td>DiffPredictor: {'threshold': None, 'normalize': True}</td>\n",
       "    </tr>\n",
       "    <tr>\n",
       "      <th>3</th>\n",
       "      <td>-0.727151</td>\n",
       "      <td>DivergencePredictor: {'threshold': None, 'normalize': False, 'divergence': 'Kullback–Leibler'}</td>\n",
       "    </tr>\n",
       "    <tr>\n",
       "      <th>4</th>\n",
       "      <td>-4.458015</td>\n",
       "      <td>DivergencePredictor: {'threshold': None, 'normalize': False, 'divergence': 'Jensen–Shannon'}</td>\n",
       "    </tr>\n",
       "  </tbody>\n",
       "</table>\n",
       "</div>"
      ],
      "text/plain": [
       "       coef  \\\n",
       "0  0.461818   \n",
       "1  0.358924   \n",
       "2 -0.420496   \n",
       "3 -0.727151   \n",
       "4 -4.458015   \n",
       "\n",
       "                                                                                       base_model  \n",
       "0                                       CorrPredictor: {'threshold': None, 'stats_corr': 'pears'}  \n",
       "1                                      CorrPredictor: {'threshold': None, 'stats_corr': 'spearm'}  \n",
       "2                                           DiffPredictor: {'threshold': None, 'normalize': True}  \n",
       "3  DivergencePredictor: {'threshold': None, 'normalize': False, 'divergence': 'Kullback–Leibler'}  \n",
       "4    DivergencePredictor: {'threshold': None, 'normalize': False, 'divergence': 'Jensen–Shannon'}  "
      ]
     },
     "execution_count": 237,
     "metadata": {},
     "output_type": "execute_result"
    }
   ],
   "source": [
    "importance_df = pd.DataFrame({\n",
    "    'coef': best_clf.coef_[0],\n",
    "    'base_model': [get_obj_info(pred) for pred in lr_base_predictors]\n",
    "})\n",
    "\n",
    "pd.set_option('max_colwidth', None)\n",
    "importance_df.sort_values(by='coef', ascending=False)"
   ]
  },
  {
   "cell_type": "markdown",
   "id": "antique-plumbing",
   "metadata": {},
   "source": [
    "Analysis of train and dev dataset"
   ]
  },
  {
   "cell_type": "code",
   "execution_count": 20,
   "id": "minimal-console",
   "metadata": {},
   "outputs": [],
   "source": [
    "from sklearn.model_selection import KFold"
   ]
  },
  {
   "cell_type": "code",
   "execution_count": 21,
   "id": "attempted-shell",
   "metadata": {},
   "outputs": [],
   "source": [
    "def test_folds(predictor, samples, y_true, n_splits=8, random_state=42):\n",
    "    kf = KFold(n_splits=n_splits, shuffle=True, random_state=random_state)\n",
    "    samples_np = np.array(samples)\n",
    "    y_true_np = np.array(y_true)\n",
    "\n",
    "    for i, (_, test_index) in enumerate(kf.split(samples_np)):\n",
    "        y_train_pred = get_predictions(predictor, samples_np[test_index])\n",
    "        print(f'Fold #{i}', accuracy_score(y_true_np[test_index], y_train_pred))"
   ]
  },
  {
   "cell_type": "code",
   "execution_count": 22,
   "id": "infrared-helping",
   "metadata": {},
   "outputs": [],
   "source": [
    "div_predictor = DivergencePredictor(threshold=0.07357859531772575, divergence='Jensen–Shannon', normalize=False)"
   ]
  },
  {
   "cell_type": "code",
   "execution_count": 23,
   "id": "unauthorized-holder",
   "metadata": {},
   "outputs": [
    {
     "name": "stdout",
     "output_type": "stream",
     "text": [
      "Train results:\n",
      "Fold #0 0.8048048048048048\n",
      "Fold #1 0.7827827827827828\n",
      "Fold #2 0.8158158158158159\n",
      "Fold #3 0.7907907907907908\n",
      "Fold #4 0.7777777777777778\n",
      "Fold #5 0.7837837837837838\n",
      "Fold #6 0.7775551102204409\n",
      "Fold #7 0.7955911823647295\n"
     ]
    }
   ],
   "source": [
    "print('Train results:')\n",
    "test_folds(div_predictor, train_samples, y_train_true, n_splits=8, random_state=42)"
   ]
  },
  {
   "cell_type": "code",
   "execution_count": 24,
   "id": "fallen-lunch",
   "metadata": {},
   "outputs": [
    {
     "name": "stdout",
     "output_type": "stream",
     "text": [
      "Dev results:\n",
      "Fold #0 0.848\n",
      "Fold #1 0.848\n",
      "Fold #2 0.832\n",
      "Fold #3 0.864\n",
      "Fold #4 0.792\n",
      "Fold #5 0.832\n",
      "Fold #6 0.888\n",
      "Fold #7 0.816\n"
     ]
    }
   ],
   "source": [
    "print('Dev results:')\n",
    "test_folds(div_predictor, dev_samples, y_dev_true, n_splits=8, random_state=42)"
   ]
  },
  {
   "cell_type": "markdown",
   "id": "manufactured-parcel",
   "metadata": {},
   "source": [
    "Analysis of frequencies of words in train and dev"
   ]
  },
  {
   "cell_type": "code",
   "execution_count": 61,
   "id": "charged-syracuse",
   "metadata": {},
   "outputs": [],
   "source": [
    "from wordfreq import word_frequency"
   ]
  },
  {
   "cell_type": "code",
   "execution_count": 72,
   "id": "static-spread",
   "metadata": {},
   "outputs": [],
   "source": [
    "def calculate_frequencies(samples):\n",
    "    return [word_frequency(sample['lemma'], 'en') for sample in samples]"
   ]
  },
  {
   "cell_type": "code",
   "execution_count": 257,
   "id": "adult-modeling",
   "metadata": {},
   "outputs": [
    {
     "name": "stdout",
     "output_type": "stream",
     "text": [
      "Aver frequency for dev: 7.850000000000001e-06\n",
      "Aver frequency for train: 9.55e-06\n"
     ]
    }
   ],
   "source": [
    "dev_freqs = calculate_frequencies(dev_samples)\n",
    "train_freqs = calculate_frequencies(train_samples)\n",
    "\n",
    "print('Aver frequency for dev:', np.quantile(dev_freqs, q=0.5))\n",
    "print('Aver frequency for train:', np.quantile(train_freqs, q=0.5))"
   ]
  },
  {
   "cell_type": "code",
   "execution_count": 85,
   "id": "large-means",
   "metadata": {},
   "outputs": [
    {
     "data": {
      "image/png": "[encoded data removed]",
      "text/plain": [
       "<Figure size 1080x432 with 2 Axes>"
      ]
     },
     "metadata": {
      "needs_background": "light"
     },
     "output_type": "display_data"
    }
   ],
   "source": [
    "fig, axes = plt.subplots(1, 2, figsize=(15, 6))\n",
    "\n",
    "axes[0].hist(dev_freqs, log=True, density=True)\n",
    "axes[0].set_title('Dev')\n",
    "axes[1].hist(train_freqs, log=True, density=True)\n",
    "axes[1].set_title('Train');"
   ]
  },
  {
   "cell_type": "markdown",
   "id": "exact-safety",
   "metadata": {},
   "source": [
    "Analysis of senses number in train and dev"
   ]
  },
  {
   "cell_type": "code",
   "execution_count": 87,
   "id": "interior-restaurant",
   "metadata": {},
   "outputs": [],
   "source": [
    "def calculate_senses_numbers(samples):\n",
    "    return [len(sample['probs1']) for sample in samples]"
   ]
  },
  {
   "cell_type": "code",
   "execution_count": 88,
   "id": "blessed-concrete",
   "metadata": {},
   "outputs": [
    {
     "name": "stdout",
     "output_type": "stream",
     "text": [
      "Aver frequency for dev: 4.736\n",
      "Aver frequency for train: 4.899123904881101\n"
     ]
    }
   ],
   "source": [
    "dev_senses_numbers = calculate_senses_numbers(dev_samples)\n",
    "train_senses_numbers = calculate_senses_numbers(train_samples)\n",
    "\n",
    "print('Aver frequency for dev:', np.mean(dev_senses_numbers))\n",
    "print('Aver frequency for train:', np.mean(train_senses_numbers))"
   ]
  },
  {
   "cell_type": "code",
   "execution_count": 90,
   "id": "younger-turkey",
   "metadata": {},
   "outputs": [
    {
     "data": {
      "image/png": "[encoded data removed]",
      "text/plain": [
       "<Figure size 1080x432 with 2 Axes>"
      ]
     },
     "metadata": {
      "needs_background": "light"
     },
     "output_type": "display_data"
    }
   ],
   "source": [
    "fig, axes = plt.subplots(1, 2, figsize=(15, 6))\n",
    "\n",
    "axes[0].hist(dev_senses_numbers, log=True)\n",
    "axes[0].set_title('Dev')\n",
    "axes[1].hist(train_senses_numbers, log=True)\n",
    "axes[1].set_title('Train');"
   ]
  },
  {
   "cell_type": "markdown",
   "id": "behind-hungary",
   "metadata": {},
   "source": [
    "Submission"
   ]
  },
  {
   "cell_type": "code",
   "execution_count": 89,
   "id": "valid-playing",
   "metadata": {},
   "outputs": [],
   "source": [
    "def create_submission(samples, preds):\n",
    "    labels = ['T' if pred else 'F' for pred in preds]\n",
    "    submission = []\n",
    "    \n",
    "    for i in range(len(samples)):\n",
    "        current_pred = {\n",
    "            'id': samples[i]['id'],\n",
    "            'tag': labels[i]\n",
    "        }\n",
    "        submission.append(current_pred)\n",
    "        \n",
    "    return submission"
   ]
  },
  {
   "cell_type": "code",
   "execution_count": 27,
   "id": "olive-retail",
   "metadata": {},
   "outputs": [
    {
     "name": "stdout",
     "output_type": "stream",
     "text": [
      "0.556\n"
     ]
    }
   ],
   "source": [
    "div_predictor = DivergencePredictor(threshold=0.07357859531772575, divergence='Jensen–Shannon', normalize=False)\n",
    "\n",
    "test_preds = get_predictions(div_predictor, test_samples)\n",
    "print(sum(test_preds) / len(test_preds))"
   ]
  },
  {
   "cell_type": "code",
   "execution_count": 35,
   "id": "ready-membrane",
   "metadata": {},
   "outputs": [
    {
     "name": "stdout",
     "output_type": "stream",
     "text": [
      "[{'id': 'test.en-en.0', 'tag': 'F'}, {'id': 'test.en-en.1', 'tag': 'F'}, {'id': 'test.en-en.2', 'tag': 'T'}, {'id': 'test.en-en.3', 'tag': 'T'}, {'id': 'test.en-en.4', 'tag': 'T'}, {'id': 'test.en-en.5', 'tag': 'T'}, {'id': 'test.en-en.6', 'tag': 'T'}, {'id': 'test.en-en.7', 'tag': 'T'}, {'id': 'test.en-en.8', 'tag': 'T'}, {'id': 'test.en-en.9', 'tag': 'T'}]\n"
     ]
    }
   ],
   "source": [
    "submission = create_submission(test_samples, test_preds)\n",
    "\n",
    "with open('data/preds/test.en-en', 'w') as f:\n",
    "    json.dump(submission, f, indent=4)\n",
    "\n",
    "print(submission[:10])"
   ]
  },
  {
   "cell_type": "markdown",
   "id": "collected-cambridge",
   "metadata": {},
   "source": [
    "Experiments with translations"
   ]
  },
  {
   "cell_type": "code",
   "execution_count": 134,
   "id": "statewide-booking",
   "metadata": {},
   "outputs": [],
   "source": [
    "pred_dev_ru_filename = 'data/bem/dev_ar_ar_predictions.txt'\n",
    "data_dev_ru_files = 'data/translations_data/trans_dev.ar-en'\n",
    "\n",
    "pred_test_ru_filename = 'data/bem/test_ar_ar_predictions.txt'\n",
    "data_test_ru_files = 'data/translations_data/trans_test.ar-en'"
   ]
  },
  {
   "cell_type": "code",
   "execution_count": 135,
   "id": "unavailable-operations",
   "metadata": {},
   "outputs": [],
   "source": [
    "dev_ru_samples = construct_samples(data_dev_ru_files, pred_dev_ru_filename)\n",
    "test_ru_samples = construct_samples(data_test_ru_files, pred_test_ru_filename, with_labels=False)"
   ]
  },
  {
   "cell_type": "code",
   "execution_count": 136,
   "id": "extensive-festival",
   "metadata": {},
   "outputs": [],
   "source": [
    "def get_translated_predictions(predictor, samples):\n",
    "    preds = []\n",
    "    \n",
    "    for sample in samples:\n",
    "        if sample['match_count'] == 2:\n",
    "            if len(sample['probs1']) > 0:\n",
    "                preds.append(predictor.predict(sample['probs1'], sample['probs2']))\n",
    "            else:\n",
    "                preds.append(sample['is_trans_equal'])\n",
    "        elif sample['match_count'] == 1:\n",
    "            preds.append(False)\n",
    "        else:\n",
    "            preds.append(True)\n",
    "            \n",
    "    return preds"
   ]
  },
  {
   "cell_type": "code",
   "execution_count": 137,
   "id": "brilliant-poison",
   "metadata": {},
   "outputs": [
    {
     "data": {
      "text/plain": [
       "0.503"
      ]
     },
     "execution_count": 137,
     "metadata": {},
     "output_type": "execute_result"
    }
   ],
   "source": [
    "y_dev_ru_true = [sample['tag'] == 'T' for sample in dev_ru_samples]\n",
    "y_dev_ru_pred = get_translated_predictions(SimpleMatchPredictor(), dev_ru_samples)\n",
    "\n",
    "accuracy_score(y_dev_ru_true, y_dev_ru_pred)"
   ]
  },
  {
   "cell_type": "code",
   "execution_count": 138,
   "id": "early-dover",
   "metadata": {},
   "outputs": [],
   "source": [
    "def plot_translated_thresholds(predictor_class, samples, y_true, thresholds, **args):\n",
    "    scores = []\n",
    "\n",
    "    for threshold in thresholds:\n",
    "        y_pred = get_translated_predictions(predictor_class(threshold=threshold, **args), samples)\n",
    "        scores.append(accuracy_score(y_true, y_pred))\n",
    "\n",
    "    plt.plot(thresholds, scores)\n",
    "    \n",
    "    args_str = str(args) if len(args) > 0 else ''\n",
    "    plt.title(predictor_class.__name__ + ' ' + args_str)\n",
    "    plt.xlabel('thresholds')\n",
    "    plt.ylabel('accuracy')\n",
    "\n",
    "    print('Best score:', max(scores), 'at threshold:', thresholds[np.argmax(scores)])"
   ]
  },
  {
   "cell_type": "code",
   "execution_count": 139,
   "id": "interstate-terrorist",
   "metadata": {},
   "outputs": [
    {
     "name": "stdout",
     "output_type": "stream",
     "text": [
      "Best score: 0.504 at threshold: 0.05351170568561873\n"
     ]
    },
    {
     "data": {
      "image/png": "[encoded data removed]",
      "text/plain": [
       "<Figure size 432x288 with 1 Axes>"
      ]
     },
     "metadata": {
      "needs_background": "light"
     },
     "output_type": "display_data"
    }
   ],
   "source": [
    "plot_translated_thresholds(DivergencePredictor, dev_ru_samples, y_dev_ru_true, \n",
    "                           np.linspace(0, 1, 300), divergence='Jensen–Shannon', normalize=False)"
   ]
  },
  {
   "cell_type": "code",
   "execution_count": 85,
   "id": "demonstrated-excellence",
   "metadata": {},
   "outputs": [
    {
     "name": "stdout",
     "output_type": "stream",
     "text": [
      "Best score: 0.725 at threshold: 0.18729096989966554\n"
     ]
    },
    {
     "data": {
      "image/png": "[encoded data removed]",
      "text/plain": [
       "<Figure size 432x288 with 1 Axes>"
      ]
     },
     "metadata": {
      "needs_background": "light"
     },
     "output_type": "display_data"
    }
   ],
   "source": [
    "plot_translated_thresholds(DivergencePredictor, dev_ru_samples, y_dev_ru_true, \n",
    "                           np.linspace(0, 1, 300), divergence='Jensen–Shannon', normalize=False)"
   ]
  },
  {
   "cell_type": "markdown",
   "id": "empty-geneva",
   "metadata": {},
   "source": [
    "Submission"
   ]
  },
  {
   "cell_type": "code",
   "execution_count": 140,
   "id": "reserved-timer",
   "metadata": {},
   "outputs": [],
   "source": [
    "div_predictor = DivergencePredictor(threshold=0.05351170568561873, divergence='Jensen–Shannon', normalize=False)"
   ]
  },
  {
   "cell_type": "code",
   "execution_count": 141,
   "id": "dirty-alabama",
   "metadata": {},
   "outputs": [
    {
     "name": "stdout",
     "output_type": "stream",
     "text": [
      "0.983\n"
     ]
    }
   ],
   "source": [
    "test_preds = get_translated_predictions(div_predictor, test_ru_samples)\n",
    "print(sum(test_preds) / len(test_preds))"
   ]
  },
  {
   "cell_type": "code",
   "execution_count": 142,
   "id": "favorite-empire",
   "metadata": {},
   "outputs": [
    {
     "data": {
      "text/plain": [
       "[{'id': 'test.ar-ar.0',\n",
       "  'lemma': 'خَدَمَ',\n",
       "  'pos': 'VERB',\n",
       "  'sentence1': 'وكان ستون من مراقبي الشرطة هؤﻻء قد خدموا في اﻷمم المتحدة من قبل.',\n",
       "  'sentence2': 'وآخر فئة من الموظفين ينظر في أمر انهاء خدماتهم بشكل غير طوعي هم الخبراء والموظفون اﻷكفاء الذين خدموا المنظمة لفترات طويلة وساهموا في نجاح المنظمة.',\n",
       "  'start1': '35',\n",
       "  'end1': '40',\n",
       "  'start2': '95',\n",
       "  'end2': '100',\n",
       "  'trans_sentence1': 'Sixty of those police monitors had previously served in the United Nations.',\n",
       "  'trans_sentence2': 'The last category of staff considered for involuntary termination were experts and competent staff who had served the Organization for long periods and had contributed to the success of the Organization.',\n",
       "  'lemma_trans': [],\n",
       "  'match_count': 0,\n",
       "  'is_trans_equal': None,\n",
       "  'trans_start1': None,\n",
       "  'trans_end1': None,\n",
       "  'trans_start2': None,\n",
       "  'trans_end2': None,\n",
       "  'probs1': None,\n",
       "  'probs2': None},\n",
       " {'id': 'test.ar-ar.1',\n",
       "  'lemma': 'خَدَمَ',\n",
       "  'pos': 'VERB',\n",
       "  'sentence1': 'وكان ستون من مراقبي الشرطة هؤﻻء قد خدموا في اﻷمم المتحدة من قبل.',\n",
       "  'sentence2': 'وكما ورد في تعليقنا السابق، معظم اﻷطفال الجنود يخدمون حالياً في مجموعات مسلحة غير حكومية، وفي غياب مثل هذا الحكم، سيفقد البروتوكول اﻻختياري الكثير من قوته.',\n",
       "  'start1': '35',\n",
       "  'end1': '40',\n",
       "  'start2': '47',\n",
       "  'end2': '53',\n",
       "  'trans_sentence1': 'Sixty of those police monitors had previously served in the United Nations.',\n",
       "  'trans_sentence2': 'As stated in our previous comment, most child soldiers are currently serving in non-governmental armed groups and, in the absence of such a provision, the Optional Protocol will lose much of its strength.',\n",
       "  'lemma_trans': [],\n",
       "  'match_count': 0,\n",
       "  'is_trans_equal': None,\n",
       "  'trans_start1': None,\n",
       "  'trans_end1': None,\n",
       "  'trans_start2': None,\n",
       "  'trans_end2': None,\n",
       "  'probs1': None,\n",
       "  'probs2': None},\n",
       " {'id': 'test.ar-ar.2',\n",
       "  'lemma': 'نَاقَشَ',\n",
       "  'pos': 'VERB',\n",
       "  'sentence1': 'وناقشت أفرقة خبراء متعددة القوانين عبر اﻹقليمية والقوانين المتصلة بالمواد اﻹباحية المستغل فيها اﻷطفال.',\n",
       "  'sentence2': 'وناقش المشتركون في اﻻجتماع ١١ ورقة عمل، واستعرضوا التقدم المحرز في التعاون في ميدان التجارة والتنمية ووضعوا عدة توصيات من أجل اتخاذ إجراءات مستقبلية.',\n",
       "  'start1': '0',\n",
       "  'end1': '6',\n",
       "  'start2': '0',\n",
       "  'end2': '5',\n",
       "  'trans_sentence1': 'Multi-regional expert groups discussed cross-regional laws and laws relating to child pornography.',\n",
       "  'trans_sentence2': 'Participants discussed 11 working papers, reviewed progress made in cooperation in the field of trade and development and made several recommendations for future action.',\n",
       "  'lemma_trans': [],\n",
       "  'match_count': 0,\n",
       "  'is_trans_equal': None,\n",
       "  'trans_start1': None,\n",
       "  'trans_end1': None,\n",
       "  'trans_start2': None,\n",
       "  'trans_end2': None,\n",
       "  'probs1': None,\n",
       "  'probs2': None},\n",
       " {'id': 'test.ar-ar.3',\n",
       "  'lemma': 'نَاقَشَ',\n",
       "  'pos': 'VERB',\n",
       "  'sentence1': 'وناقشت أفرقة خبراء متعددة القوانين عبر اﻹقليمية والقوانين المتصلة بالمواد اﻹباحية المستغل فيها اﻷطفال.',\n",
       "  'sentence2': 'ووافق على أنه من اﻷفضل أن تناقش هذه المادة، مع ذكر هذه النقطة في دليل التشريع.',\n",
       "  'start1': '0',\n",
       "  'end1': '6',\n",
       "  'start2': '26',\n",
       "  'end2': '31',\n",
       "  'trans_sentence1': 'Multi-regional expert groups discussed cross-regional laws and laws relating to child pornography.',\n",
       "  'trans_sentence2': 'He agreed that it would be preferable to discuss the article, with that point mentioned in the Guide to Enactment.',\n",
       "  'lemma_trans': [],\n",
       "  'match_count': 0,\n",
       "  'is_trans_equal': None,\n",
       "  'trans_start1': None,\n",
       "  'trans_end1': None,\n",
       "  'trans_start2': None,\n",
       "  'trans_end2': None,\n",
       "  'probs1': None,\n",
       "  'probs2': None},\n",
       " {'id': 'test.ar-ar.4',\n",
       "  'lemma': 'فَهِمَ',\n",
       "  'pos': 'VERB',\n",
       "  'sentence1': 'ويرى الوزير أنه لا يزال يتعين على أفراد الشعب العاديين أن يفهموا أن التعذيب ممارسة غير قانونية وغير مقبولة.',\n",
       "  'sentence2': 'وقال إنه يفهم أن اللجنة ترغب في اتباع اﻹجراء ذاته في الدورة الحالية.',\n",
       "  'start1': '58',\n",
       "  'end1': '64',\n",
       "  'start2': '9',\n",
       "  'end2': '13',\n",
       "  'trans_sentence1': 'According to the Minister, ordinary people still have to understand that torture is illegal and unacceptable.',\n",
       "  'trans_sentence2': 'He took it that the Committee wished to follow the same procedure at the current session.',\n",
       "  'lemma_trans': [],\n",
       "  'match_count': 0,\n",
       "  'is_trans_equal': None,\n",
       "  'trans_start1': None,\n",
       "  'trans_end1': None,\n",
       "  'trans_start2': None,\n",
       "  'trans_end2': None,\n",
       "  'probs1': None,\n",
       "  'probs2': None}]"
      ]
     },
     "execution_count": 142,
     "metadata": {},
     "output_type": "execute_result"
    }
   ],
   "source": [
    "test_ru_samples[:5]"
   ]
  },
  {
   "cell_type": "code",
   "execution_count": 143,
   "id": "emerging-cowboy",
   "metadata": {},
   "outputs": [
    {
     "name": "stdout",
     "output_type": "stream",
     "text": [
      "[{'id': 'test.ar-ar.0', 'tag': 'T'}, {'id': 'test.ar-ar.1', 'tag': 'T'}, {'id': 'test.ar-ar.2', 'tag': 'T'}, {'id': 'test.ar-ar.3', 'tag': 'T'}, {'id': 'test.ar-ar.4', 'tag': 'T'}, {'id': 'test.ar-ar.5', 'tag': 'T'}, {'id': 'test.ar-ar.6', 'tag': 'T'}, {'id': 'test.ar-ar.7', 'tag': 'T'}, {'id': 'test.ar-ar.8', 'tag': 'T'}, {'id': 'test.ar-ar.9', 'tag': 'T'}]\n"
     ]
    }
   ],
   "source": [
    "submission = create_submission(test_ru_samples, test_preds)\n",
    "\n",
    "with open('data/preds/test.ar-ar', 'w') as f:\n",
    "    json.dump(submission, f, indent=4)\n",
    "\n",
    "print(submission[:10])"
   ]
  },
  {
   "cell_type": "code",
   "execution_count": null,
   "id": "split-basic",
   "metadata": {},
   "outputs": [],
   "source": []
  }
 ],
 "metadata": {
  "kernelspec": {
   "display_name": "Python 3",
   "language": "python",
   "name": "python3"
  },
  "language_info": {
   "codemirror_mode": {
    "name": "ipython",
    "version": 3
   },
   "file_extension": ".py",
   "mimetype": "text/x-python",
   "name": "python",
   "nbconvert_exporter": "python",
   "pygments_lexer": "ipython3",
   "version": "3.7.3"
  }
 },
 "nbformat": 4,
 "nbformat_minor": 5
}
