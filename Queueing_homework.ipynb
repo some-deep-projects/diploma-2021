{
 "cells": [
  {
   "cell_type": "code",
   "execution_count": 1,
   "id": "backed-summit",
   "metadata": {},
   "outputs": [],
   "source": [
    "import numpy as np\n",
    "import pandas as pd\n",
    "import matplotlib.pyplot as plt\n",
    "import heapq\n",
    "\n",
    "from scipy import stats"
   ]
  },
  {
   "cell_type": "code",
   "execution_count": 2,
   "id": "rotary-movie",
   "metadata": {},
   "outputs": [],
   "source": [
    "class Event:\n",
    "    def __init__(self, event_type, time):\n",
    "        assert event_type in ['arrival', 'departure']\n",
    "        self.event_type = event_type\n",
    "        self.time = time\n",
    "        \n",
    "    def __lt__(self, other):\n",
    "        return self.time < other.time"
   ]
  },
  {
   "cell_type": "code",
   "execution_count": 3,
   "id": "geographic-browser",
   "metadata": {},
   "outputs": [],
   "source": [
    "class SystemState:\n",
    "    def __init__(self, requests_in_system_num=None, time=None):\n",
    "        self.requests_in_system_num = requests_in_system_num\n",
    "        self.time = time"
   ]
  },
  {
   "cell_type": "code",
   "execution_count": 4,
   "id": "informational-creek",
   "metadata": {},
   "outputs": [],
   "source": [
    "class GGCCSimulator:\n",
    "    def __init__(self, get_interarrival_time, get_service_time, max_requests_in_system_num, steps_num):\n",
    "        self.get_interarrival_time = get_interarrival_time\n",
    "        self.get_service_time = get_service_time\n",
    "        self.max_requests_in_system_num = max_requests_in_system_num\n",
    "        self.steps_num = steps_num\n",
    "    \n",
    "    def simulate(self):\n",
    "        events = [Event(event_type='arrival', time=0)]\n",
    "        events_ordered_num = 0\n",
    "        requests_in_system_num = 0\n",
    "        states = []\n",
    "        \n",
    "        while events_ordered_num < self.steps_num:\n",
    "            current_event = heapq.heappop(events)\n",
    "\n",
    "            if current_event.event_type == 'arrival':\n",
    "                if requests_in_system_num < self.max_requests_in_system_num:\n",
    "                    heapq.heappush(events, Event(\n",
    "                        event_type='departure',\n",
    "                        time=current_event.time+self.get_service_time())\n",
    "                    )\n",
    "                    requests_in_system_num += 1\n",
    "                heapq.heappush(events, Event(\n",
    "                    event_type='arrival',\n",
    "                    time=current_event.time+self.get_interarrival_time())\n",
    "                )\n",
    "                \n",
    "            elif current_event.event_type == 'departure':\n",
    "                requests_in_system_num -= 1\n",
    "                \n",
    "            states.append(SystemState(\n",
    "                requests_in_system_num=requests_in_system_num,\n",
    "                time=current_event.time)\n",
    "            )\n",
    "            events_ordered_num += 1\n",
    "            \n",
    "        return states"
   ]
  },
  {
   "cell_type": "code",
   "execution_count": 5,
   "id": "mobile-rabbit",
   "metadata": {},
   "outputs": [],
   "source": [
    "class MMCCSimulator(GGCCSimulator):\n",
    "    def __init__(self, arrival_rate, service_rate, max_requests_in_system_num, steps_num):\n",
    "        super().__init__(\n",
    "            get_interarrival_time=lambda: np.random.exponential(scale=1/arrival_rate),\n",
    "            get_service_time=lambda: np.random.exponential(scale=1/service_rate),\n",
    "            max_requests_in_system_num=max_requests_in_system_num,\n",
    "            steps_num=steps_num\n",
    "        )"
   ]
  },
  {
   "cell_type": "code",
   "execution_count": 6,
   "id": "lightweight-sheriff",
   "metadata": {},
   "outputs": [],
   "source": [
    "class MUCCSimulator(GGCCSimulator):\n",
    "    def __init__(self, arrival_rate, max_service_time, max_requests_in_system_num, steps_num):\n",
    "        super().__init__(\n",
    "            get_interarrival_time=lambda: np.random.exponential(scale=1/arrival_rate),\n",
    "            get_service_time=lambda: np.random.uniform(low=0, high=max_service_time),\n",
    "            max_requests_in_system_num=max_requests_in_system_num,\n",
    "            steps_num=steps_num\n",
    "        )"
   ]
  },
  {
   "cell_type": "code",
   "execution_count": 7,
   "id": "connected-russian",
   "metadata": {},
   "outputs": [],
   "source": [
    "simulator = MMCCSimulator(\n",
    "    arrival_rate=1/2,\n",
    "    service_rate=1/12,\n",
    "    max_requests_in_system_num=5,\n",
    "    steps_num=100_000\n",
    ")\n",
    "\n",
    "states = simulator.simulate()"
   ]
  },
  {
   "cell_type": "code",
   "execution_count": 8,
   "id": "transparent-soundtrack",
   "metadata": {},
   "outputs": [],
   "source": [
    "# simulator = MUCCSimulator(\n",
    "#     arrival_rate=1/2,\n",
    "#     max_service_time=24,\n",
    "#     max_requests_in_system_num=5,\n",
    "#     steps_num=100_000\n",
    "# )\n",
    "\n",
    "# states = simulator.simulate()"
   ]
  },
  {
   "cell_type": "code",
   "execution_count": 9,
   "id": "intellectual-quarter",
   "metadata": {},
   "outputs": [],
   "source": [
    "def plot_requests_in_system(states):\n",
    "    requests_in_system = [state.requests_in_system_num for state in states]\n",
    "    times = [state.time for state in states]\n",
    "    plt.plot(times, requests_in_system)"
   ]
  },
  {
   "cell_type": "code",
   "execution_count": 10,
   "id": "compressed-mining",
   "metadata": {},
   "outputs": [
    {
     "data": {
      "image/png": "[encoded data removed]",
      "text/plain": [
       "<Figure size 432x288 with 1 Axes>"
      ]
     },
     "metadata": {
      "needs_background": "light"
     },
     "output_type": "display_data"
    }
   ],
   "source": [
    "plot_requests_in_system(states)"
   ]
  },
  {
   "cell_type": "code",
   "execution_count": 11,
   "id": "known-insight",
   "metadata": {},
   "outputs": [],
   "source": [
    "def aver_times_in_states_each_step(states):\n",
    "    requests_in_system_nums_unique = np.unique([state.requests_in_system_num for state in states])\n",
    "    times = {num: 0 for num in requests_in_system_nums_unique}\n",
    "    all_time = 0\n",
    "    steps = []\n",
    "    \n",
    "    for i in range(len(states) - 1):\n",
    "        current_time = states[i + 1].time - states[i].time\n",
    "        all_time += current_time\n",
    "        \n",
    "        times[states[i].requests_in_system_num] += current_time\n",
    "        steps.append({state: time / all_time for state, time in times.items()})\n",
    "        \n",
    "    return steps"
   ]
  },
  {
   "cell_type": "code",
   "execution_count": 12,
   "id": "introductory-webcam",
   "metadata": {},
   "outputs": [
    {
     "data": {
      "text/plain": [
       "{0: 0.005671776605451518,\n",
       " 1: 0.03465323840764611,\n",
       " 2: 0.10153640163743907,\n",
       " 3: 0.20204505738644296,\n",
       " 4: 0.29797298408111683,\n",
       " 5: 0.35812054188190356}"
      ]
     },
     "execution_count": 12,
     "metadata": {},
     "output_type": "execute_result"
    }
   ],
   "source": [
    "aver_times_steps = aver_times_in_states_each_step(states)\n",
    "final_aver_times_step = aver_times_steps[-1]\n",
    "\n",
    "final_aver_times_step"
   ]
  },
  {
   "cell_type": "code",
   "execution_count": 13,
   "id": "parallel-gross",
   "metadata": {},
   "outputs": [
    {
     "data": {
      "image/png": "[encoded data removed]",
      "text/plain": [
       "<Figure size 432x288 with 1 Axes>"
      ]
     },
     "metadata": {
      "needs_background": "light"
     },
     "output_type": "display_data"
    }
   ],
   "source": [
    "plt.bar(final_aver_times_step.keys(), final_aver_times_step.values());\n",
    "plt.xlabel('System state')\n",
    "plt.ylabel('Aver time in state');"
   ]
  },
  {
   "cell_type": "code",
   "execution_count": 14,
   "id": "hawaiian-beast",
   "metadata": {},
   "outputs": [
    {
     "data": {
      "image/png": "[encoded data removed]",
      "text/plain": [
       "<Figure size 432x288 with 1 Axes>"
      ]
     },
     "metadata": {
      "needs_background": "light"
     },
     "output_type": "display_data"
    }
   ],
   "source": [
    "all_requests_in_system_nums = {num: [] for num in final_aver_times_step.keys()}\n",
    "\n",
    "for aver_times_step in aver_times_steps:\n",
    "    for requests_in_system_num, aver_time in aver_times_step.items():\n",
    "        all_requests_in_system_nums[requests_in_system_num].append(aver_time)\n",
    "        \n",
    "for all_times in all_requests_in_system_nums.values():\n",
    "    plt.plot(range(len(all_times)), all_times)\n",
    "\n",
    "plt.legend(all_requests_in_system_nums.keys())\n",
    "plt.xlabel('Simulation step')\n",
    "plt.ylabel('Average time in state');"
   ]
  },
  {
   "cell_type": "code",
   "execution_count": 15,
   "id": "likely-auditor",
   "metadata": {},
   "outputs": [],
   "source": [
    "def requests_in_system_aver_num(states):\n",
    "    aver_num, all_time = 0, 0\n",
    "    \n",
    "    for i in range(len(states) - 1):\n",
    "        current_time = states[i + 1].time - states[i].time\n",
    "        all_time += current_time\n",
    "        aver_num += states[i].requests_in_system_num * current_time\n",
    "        \n",
    "    return aver_num / all_time"
   ]
  },
  {
   "cell_type": "code",
   "execution_count": 16,
   "id": "black-movement",
   "metadata": {},
   "outputs": [
    {
     "data": {
      "text/plain": [
       "3.8263558595758465"
      ]
     },
     "execution_count": 16,
     "metadata": {},
     "output_type": "execute_result"
    }
   ],
   "source": [
    "requests_in_system_aver_num(states)"
   ]
  },
  {
   "cell_type": "code",
   "execution_count": 17,
   "id": "massive-bahrain",
   "metadata": {},
   "outputs": [],
   "source": [
    "def loss_probs_with_channels(simulator, channels_num_range):\n",
    "    loss_probs = []\n",
    "    \n",
    "    for channels_num in channels_num_range:\n",
    "        simulator.max_requests_in_system_num = channels_num\n",
    "        states = simulator.simulate()\n",
    "        final_aver_times_step = aver_times_in_states_each_step(states)[-1]\n",
    "        loss_probs.append(final_aver_times_step[max(final_aver_times_step.keys())])\n",
    "        \n",
    "    return loss_probs"
   ]
  },
  {
   "cell_type": "code",
   "execution_count": 18,
   "id": "photographic-designation",
   "metadata": {},
   "outputs": [
    {
     "data": {
      "image/png": "[encoded data removed]",
      "text/plain": [
       "<Figure size 432x288 with 1 Axes>"
      ]
     },
     "metadata": {
      "needs_background": "light"
     },
     "output_type": "display_data"
    }
   ],
   "source": [
    "channels_num_range = range(1, 20)\n",
    "loss_probs = loss_probs_with_channels(simulator, channels_num_range)\n",
    "\n",
    "plt.plot(channels_num_range, loss_probs)\n",
    "plt.xlabel('Channels number')\n",
    "plt.ylabel('Prob of loss');"
   ]
  },
  {
   "cell_type": "code",
   "execution_count": null,
   "id": "greek-edmonton",
   "metadata": {},
   "outputs": [],
   "source": []
  }
 ],
 "metadata": {
  "kernelspec": {
   "display_name": "Python 3",
   "language": "python",
   "name": "python3"
  },
  "language_info": {
   "codemirror_mode": {
    "name": "ipython",
    "version": 3
   },
   "file_extension": ".py",
   "mimetype": "text/x-python",
   "name": "python",
   "nbconvert_exporter": "python",
   "pygments_lexer": "ipython3",
   "version": "3.7.3"
  }
 },
 "nbformat": 4,
 "nbformat_minor": 5
}
