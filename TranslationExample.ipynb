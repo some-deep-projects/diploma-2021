{
 "cells": [
  {
   "cell_type": "code",
   "execution_count": 1,
   "metadata": {},
   "outputs": [
    {
     "name": "stdout",
     "output_type": "stream",
     "text": [
      "Collecting word2word\n",
      "  Downloading word2word-1.0.0-py3-none-any.whl (31 kB)\n",
      "Requirement already satisfied: tqdm in ./venv/lib/python3.7/site-packages (from word2word) (4.56.0)\n",
      "Requirement already satisfied: requests in ./venv/lib/python3.7/site-packages (from word2word) (2.25.1)\n",
      "Requirement already satisfied: numpy in ./venv/lib/python3.7/site-packages (from word2word) (1.19.5)\n",
      "Collecting wget\n",
      "  Downloading wget-3.2.zip (10 kB)\n",
      "Requirement already satisfied: chardet<5,>=3.0.2 in ./venv/lib/python3.7/site-packages (from requests->word2word) (4.0.0)\n",
      "Requirement already satisfied: idna<3,>=2.5 in ./venv/lib/python3.7/site-packages (from requests->word2word) (2.10)\n",
      "Requirement already satisfied: urllib3<1.27,>=1.21.1 in ./venv/lib/python3.7/site-packages (from requests->word2word) (1.26.3)\n",
      "Requirement already satisfied: certifi>=2017.4.17 in ./venv/lib/python3.7/site-packages (from requests->word2word) (2020.12.5)\n",
      "Using legacy 'setup.py install' for wget, since package 'wheel' is not installed.\n",
      "Installing collected packages: wget, word2word\n",
      "    Running setup.py install for wget ... \u001b[?25ldone\n",
      "\u001b[?25hSuccessfully installed wget-3.2 word2word-1.0.0\n",
      "Requirement already satisfied: joblib in ./venv/lib/python3.7/site-packages (1.0.0)\n"
     ]
    }
   ],
   "source": [
    "!pip install word2word\n",
    "!pip install joblib"
   ]
  },
  {
   "cell_type": "code",
   "execution_count": 1,
   "metadata": {},
   "outputs": [],
   "source": [
    "import sys\n",
    "import os\n",
    "from pathlib import Path\n",
    "\n",
    "# translate_path = str(Path(\".\").resolve().parent / \"lexsubeval\")\n",
    "\n",
    "#if translate_path not in sys.path:\n",
    "#    sys.path.append(translate_path)"
   ]
  },
  {
   "cell_type": "code",
   "execution_count": 4,
   "metadata": {},
   "outputs": [],
   "source": [
    "from translate import get_translations"
   ]
  },
  {
   "cell_type": "markdown",
   "metadata": {},
   "source": [
    "В файле translate.py нужно заполнить переменную YANDEX_API_KEY, для запросов к серверу яндекса, ключ можно получить здесь https://yandex.com/dev/dictionary/"
   ]
  },
  {
   "cell_type": "markdown",
   "metadata": {},
   "source": [
    "Также в файле translate.py есть переменная CACHE_DIR, которую можно переопределить, чтобы кеш сохранялся в удобную для Вас директорию"
   ]
  },
  {
   "cell_type": "code",
   "execution_count": 13,
   "metadata": {},
   "outputs": [
    {
     "data": {
      "text/plain": [
       "{'представлять': ['represent',\n",
       "  'render',\n",
       "  'produce',\n",
       "  'perform',\n",
       "  'propose',\n",
       "  'file',\n",
       "  'adduce',\n",
       "  'recommend',\n",
       "  'subject'],\n",
       " 'требовать': ['require',\n",
       "  'claim',\n",
       "  'call',\n",
       "  'ask',\n",
       "  'take',\n",
       "  'required',\n",
       "  'want',\n",
       "  'warrant',\n",
       "  'charge',\n",
       "  'exact',\n",
       "  'challenge',\n",
       "  'indicate']}"
      ]
     },
     "execution_count": 13,
     "metadata": {},
     "output_type": "execute_result"
    }
   ],
   "source": [
    "lemma2translations, _, _ = get_translations([\"представлять\", \"требовать\"], mode=\"yandex\", src_lang=\"ru\", dst_lang=\"en\")\n",
    "lemma2translations"
   ]
  },
  {
   "cell_type": "raw",
   "metadata": {},
   "source": [
    "# Здесь переводы разных источников объединяются в один\n",
    "lemma2translations, _, _ = get_translations([\"представлять\", \"требовать\"], mode=\"yandex+w2w\", src_lang=\"ru\", dst_lang=\"en\")\n",
    "lemma2translations"
   ]
  },
  {
   "cell_type": "code",
   "execution_count": 11,
   "metadata": {},
   "outputs": [
    {
     "data": {
      "text/plain": [
       "{'представлять': ['represent',\n",
       "  'present',\n",
       "  'submit',\n",
       "  'introduce',\n",
       "  'provide',\n",
       "  'deliver',\n",
       "  'envision',\n",
       "  'furnish',\n",
       "  'render',\n",
       "  'produce',\n",
       "  'perform',\n",
       "  'propose',\n",
       "  'file',\n",
       "  'adduce',\n",
       "  'recommend',\n",
       "  'subject'],\n",
       " 'требовать': ['require',\n",
       "  'demand',\n",
       "  'necessitate',\n",
       "  'need',\n",
       "  'claim',\n",
       "  'call',\n",
       "  'ask',\n",
       "  'request',\n",
       "  'solicit',\n",
       "  'take',\n",
       "  'required',\n",
       "  'want',\n",
       "  'crave',\n",
       "  'warrant',\n",
       "  'charge',\n",
       "  'exact',\n",
       "  'challenge',\n",
       "  'indicate']}"
      ]
     },
     "execution_count": 11,
     "metadata": {},
     "output_type": "execute_result"
    }
   ],
   "source": [
    "lemma2translations, _, _ = get_translations([\"представлять\", \"требовать\"], mode=\"yandex_syns\", src_lang=\"ru\", dst_lang=\"en\")\n",
    "lemma2translations"
   ]
  },
  {
   "cell_type": "code",
   "execution_count": 35,
   "metadata": {},
   "outputs": [],
   "source": [
    "import json"
   ]
  },
  {
   "cell_type": "code",
   "execution_count": 91,
   "metadata": {},
   "outputs": [],
   "source": [
    "translations_file = 'data/translations/test_trans.ar-en'\n",
    "data_samples_file = 'data/MCL-WiC/test/multilingual/test.ar-ar.data'"
   ]
  },
  {
   "cell_type": "code",
   "execution_count": 92,
   "metadata": {},
   "outputs": [
    {
     "name": "stdout",
     "output_type": "stream",
     "text": [
      "1000\n"
     ]
    }
   ],
   "source": [
    "with open(data_samples_file) as f:\n",
    "    samples = json.load(f)\n",
    "    \n",
    "print(len(samples))"
   ]
  },
  {
   "cell_type": "code",
   "execution_count": 93,
   "metadata": {},
   "outputs": [],
   "source": [
    "lemmas = [sample['lemma'] for sample in samples]\n",
    "trans_lemmas, _, _ = get_translations(lemmas, mode=\"w2w\", src_lang=\"ar\", dst_lang=\"en\")"
   ]
  },
  {
   "cell_type": "code",
   "execution_count": 94,
   "metadata": {},
   "outputs": [
    {
     "data": {
      "text/plain": [
       "['خَدَمَ', 'خَدَمَ', 'نَاقَشَ', 'نَاقَشَ', 'فَهِمَ']"
      ]
     },
     "execution_count": 94,
     "metadata": {},
     "output_type": "execute_result"
    }
   ],
   "source": [
    "lemmas[:5]"
   ]
  },
  {
   "cell_type": "code",
   "execution_count": 95,
   "metadata": {},
   "outputs": [
    {
     "name": "stdout",
     "output_type": "stream",
     "text": [
      "1000\n"
     ]
    }
   ],
   "source": [
    "trans_samples = []\n",
    "\n",
    "for sample in samples:\n",
    "    current_trans_sample = {\n",
    "        'id': sample['id'],\n",
    "        'lemma_trans': trans_lemmas[sample['lemma']]\n",
    "    }\n",
    "    trans_samples.append(current_trans_sample)\n",
    "    \n",
    "with open(translations_file, 'w', encoding='utf-8') as f:\n",
    "    json.dump(trans_samples, f, ensure_ascii=False, indent=4)\n",
    "    \n",
    "print(len(trans_samples))"
   ]
  },
  {
   "cell_type": "code",
   "execution_count": null,
   "metadata": {},
   "outputs": [],
   "source": []
  }
 ],
 "metadata": {
  "kernelspec": {
   "display_name": "Python 3",
   "language": "python",
   "name": "python3"
  },
  "language_info": {
   "codemirror_mode": {
    "name": "ipython",
    "version": 3
   },
   "file_extension": ".py",
   "mimetype": "text/x-python",
   "name": "python",
   "nbconvert_exporter": "python",
   "pygments_lexer": "ipython3",
   "version": "3.7.3"
  }
 },
 "nbformat": 4,
 "nbformat_minor": 2
}
