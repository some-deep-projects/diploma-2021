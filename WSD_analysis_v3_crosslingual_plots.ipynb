{
 "cells": [
  {
   "cell_type": "markdown",
   "id": "convinced-trance",
   "metadata": {},
   "source": [
    "Эта версия сделана для работы с cross-lingual выходами BEM модели. Само соревнование было полностью сделано на _v1"
   ]
  },
  {
   "cell_type": "code",
   "execution_count": 1,
   "id": "personalized-great",
   "metadata": {},
   "outputs": [],
   "source": [
    "import numpy as np\n",
    "import pandas as pd\n",
    "import matplotlib.pyplot as plt\n",
    "import json\n",
    "from scipy import stats\n",
    "from tqdm.auto import tqdm"
   ]
  },
  {
   "cell_type": "code",
   "execution_count": 2,
   "id": "contained-conflict",
   "metadata": {},
   "outputs": [],
   "source": [
    "pred_dev_filename = 'data/BEM-WiC-preds/XLM-R_05_unbal_large_best/preds_dev.en-en.data'\n",
    "\n",
    "pred_test_en_en_filename = 'data/BEM-WiC-preds/XLM-R_05_unbal_large_best/preds_dev.en-en.data'\n",
    "pred_test_ar_ar_filename = 'data/BEM-WiC-preds/XLM-R_05_unbal_large_best/preds_dev.ar-ar.data'\n",
    "pred_test_fr_fr_filename = 'data/BEM-WiC-preds/XLM-R_05_unbal_large_best/preds_dev.fr-fr.data'\n",
    "pred_test_ru_ru_filename = 'data/BEM-WiC-preds/XLM-R_05_unbal_large_best/preds_dev.ru-ru.data'\n",
    "pred_test_zh_zh_filename = 'data/BEM-WiC-preds/XLM-R_05_unbal_large_best/preds_dev.zh-zh.data'\n",
    "\n",
    "pred_trial_en_ar_filename = 'data/BEM-WiC-preds/crosslingual/trial/preds_trial.en-ar.data'\n",
    "pred_trial_en_fr_filename = 'data/BEM-WiC-preds/crosslingual/trial/preds_trial.en-fr.data'\n",
    "pred_trial_en_ru_filename = 'data/BEM-WiC-preds/crosslingual/trial/preds_trial.en-ru.data'\n",
    "pred_trial_en_zh_filename = 'data/BEM-WiC-preds/crosslingual/trial/preds_trial.en-zh.data'\n",
    "\n",
    "pred_test_en_ar_filename = 'data/BEM-WiC-preds/crosslingual/last_range/preds_test.en-ar.data'\n",
    "pred_test_en_fr_filename = 'data/BEM-WiC-preds/crosslingual/last_range/preds_test.en-fr.data'\n",
    "pred_test_en_ru_filename = 'data/BEM-WiC-preds/crosslingual/last_range/preds_test.en-ru.data'\n",
    "pred_test_en_zh_filename = 'data/BEM-WiC-preds/crosslingual/last_range/preds_test.en-zh.data'"
   ]
  },
  {
   "cell_type": "code",
   "execution_count": 3,
   "id": "amino-extension",
   "metadata": {},
   "outputs": [],
   "source": [
    "def construct_preds(pred_filename):\n",
    "    with open(pred_filename) as f:\n",
    "        return json.load(f)"
   ]
  },
  {
   "cell_type": "code",
   "execution_count": 4,
   "id": "central-aberdeen",
   "metadata": {},
   "outputs": [],
   "source": [
    "data_dev_files = 'data/MCL-WiC/dev/multilingual/dev.en-en'\n",
    "\n",
    "data_test_en_en_files = 'data/MCL-WiC/dev/multilingual/dev.en-en'\n",
    "data_test_ar_ar_files = 'data/MCL-WiC/dev/multilingual/dev.ar-ar'\n",
    "data_test_fr_fr_files = 'data/MCL-WiC/dev/multilingual/dev.fr-fr'\n",
    "data_test_ru_ru_files = 'data/MCL-WiC/dev/multilingual/dev.ru-ru'\n",
    "data_test_zh_zh_files = 'data/MCL-WiC/dev/multilingual/dev.zh-zh'\n",
    "\n",
    "data_trial_en_ar_files = 'data/MCL-WiC/trial/crosslingual/trial.en-ar'\n",
    "data_trial_en_fr_files = 'data/MCL-WiC/trial/crosslingual/trial.en-fr'\n",
    "data_trial_en_ru_files = 'data/MCL-WiC/trial/crosslingual/trial.en-ru'\n",
    "data_trial_en_zh_files = 'data/MCL-WiC/trial/crosslingual/trial.en-zh'\n",
    "\n",
    "data_test_en_ar_files = 'data/MCL-WiC/test/crosslingual/test.en-ar'\n",
    "data_test_en_fr_files = 'data/MCL-WiC/test/crosslingual/test.en-fr'\n",
    "data_test_en_ru_files = 'data/MCL-WiC/test/crosslingual/test.en-ru'\n",
    "data_test_en_zh_files = 'data/MCL-WiC/test/crosslingual/test.en-zh'"
   ]
  },
  {
   "cell_type": "code",
   "execution_count": 5,
   "id": "graduate-basement",
   "metadata": {},
   "outputs": [],
   "source": [
    "def construct_data_samples(data_files):\n",
    "    with open(data_files + '.data') as f_data, open(data_files + '.gold') as f_labels:\n",
    "        data_json = json.load(f_data)\n",
    "        labels_json = json.load(f_labels)\n",
    "    \n",
    "    labels_dict = {sample['id']: sample for sample in labels_json}\n",
    "    for sample in data_json:\n",
    "        sample['tag'] = labels_dict[sample['id']]['tag']\n",
    "\n",
    "    return data_json"
   ]
  },
  {
   "cell_type": "code",
   "execution_count": 6,
   "id": "occasional-explosion",
   "metadata": {},
   "outputs": [],
   "source": [
    "def construct_test_data_samples(data_files):\n",
    "    with open(data_files + '.data') as f_data:\n",
    "        data_json = json.load(f_data)\n",
    "\n",
    "    return data_json"
   ]
  },
  {
   "cell_type": "code",
   "execution_count": 7,
   "id": "boxed-cemetery",
   "metadata": {},
   "outputs": [],
   "source": [
    "def construct_samples(data_files, pred_filename, with_labels=True):\n",
    "    preds = construct_preds(pred_filename)\n",
    "    if with_labels:\n",
    "        samples = construct_data_samples(data_files)\n",
    "    else:\n",
    "        samples = construct_test_data_samples(data_files)\n",
    "    \n",
    "    preds_dict = {pred['id']: pred for pred in preds}\n",
    "\n",
    "    for sample in samples:\n",
    "        pred = preds_dict[sample['id']]\n",
    "        for key, value in pred.items():\n",
    "            sample[key] = value\n",
    "    \n",
    "    return samples"
   ]
  },
  {
   "cell_type": "code",
   "execution_count": 8,
   "id": "fewer-childhood",
   "metadata": {},
   "outputs": [],
   "source": [
    "dev_samples = construct_samples(data_dev_files, pred_dev_filename)\n",
    "\n",
    "test_en_en_samples = construct_samples(data_test_en_en_files, pred_test_en_en_filename)\n",
    "test_ar_ar_samples = construct_samples(data_test_ar_ar_files, pred_test_ar_ar_filename)\n",
    "test_fr_fr_samples = construct_samples(data_test_fr_fr_files, pred_test_fr_fr_filename)\n",
    "test_ru_ru_samples = construct_samples(data_test_ru_ru_files, pred_test_ru_ru_filename)\n",
    "test_zh_zh_samples = construct_samples(data_test_zh_zh_files, pred_test_zh_zh_filename)\n",
    "\n",
    "trial_en_ar_samples = construct_samples(data_trial_en_ar_files, pred_trial_en_ar_filename)\n",
    "trial_en_fr_samples = construct_samples(data_trial_en_fr_files, pred_trial_en_fr_filename)\n",
    "trial_en_ru_samples = construct_samples(data_trial_en_ru_files, pred_trial_en_ru_filename)\n",
    "trial_en_zh_samples = construct_samples(data_trial_en_zh_files, pred_trial_en_zh_filename)\n",
    "trial_samples = trial_en_ar_samples + trial_en_fr_samples + trial_en_ru_samples + trial_en_zh_samples\n",
    "\n",
    "test_en_ar_samples = construct_samples(data_test_en_ar_files, pred_test_en_ar_filename)\n",
    "test_en_fr_samples = construct_samples(data_test_en_fr_files, pred_test_en_fr_filename)\n",
    "test_en_ru_samples = construct_samples(data_test_en_ru_files, pred_test_en_ru_filename)\n",
    "test_en_zh_samples = construct_samples(data_test_en_zh_files, pred_test_en_zh_filename)\n",
    "\n",
    "y_dev_true = [sample['tag'] == 'T' for sample in dev_samples]\n",
    "\n",
    "y_test_en_en_true = [sample['tag'] == 'T' for sample in test_en_en_samples]\n",
    "y_test_ar_ar_true = [sample['tag'] == 'T' for sample in test_ar_ar_samples]\n",
    "y_test_fr_fr_true = [sample['tag'] == 'T' for sample in test_fr_fr_samples]\n",
    "y_test_ru_ru_true = [sample['tag'] == 'T' for sample in test_ru_ru_samples]\n",
    "y_test_zh_zh_true = [sample['tag'] == 'T' for sample in test_zh_zh_samples]\n",
    "\n",
    "y_trial_en_ar_true = [sample['tag'] == 'T' for sample in trial_en_ar_samples]\n",
    "y_trial_en_fr_true = [sample['tag'] == 'T' for sample in trial_en_fr_samples]\n",
    "y_trial_en_ru_true = [sample['tag'] == 'T' for sample in trial_en_ru_samples]\n",
    "y_trial_en_zh_true = [sample['tag'] == 'T' for sample in trial_en_zh_samples]\n",
    "y_trial_true = [sample['tag'] == 'T' for sample in trial_samples]\n",
    "\n",
    "y_test_en_ar_true = [sample['tag'] == 'T' for sample in test_en_ar_samples]\n",
    "y_test_en_fr_true = [sample['tag'] == 'T' for sample in test_en_fr_samples]\n",
    "y_test_en_ru_true = [sample['tag'] == 'T' for sample in test_en_ru_samples]\n",
    "y_test_en_zh_true = [sample['tag'] == 'T' for sample in test_en_zh_samples]"
   ]
  },
  {
   "cell_type": "code",
   "execution_count": 11,
   "id": "joint-reality",
   "metadata": {},
   "outputs": [
    {
     "data": {
      "text/plain": [
       "32"
      ]
     },
     "execution_count": 11,
     "metadata": {},
     "output_type": "execute_result"
    }
   ],
   "source": [
    "len(trial_samples)"
   ]
  },
  {
   "cell_type": "code",
   "execution_count": 12,
   "id": "ecological-tribune",
   "metadata": {},
   "outputs": [],
   "source": [
    "from abc import ABC, abstractmethod"
   ]
  },
  {
   "cell_type": "code",
   "execution_count": 13,
   "id": "unexpected-sleeve",
   "metadata": {},
   "outputs": [],
   "source": [
    "class AbsPredictor(ABC):\n",
    "    @abstractmethod\n",
    "    def predict(self, probs_1, probs_2):\n",
    "        pass\n",
    "    \n",
    "    @abstractmethod\n",
    "    def predict_proba(self, probs_1, probs_2):\n",
    "        pass"
   ]
  },
  {
   "cell_type": "code",
   "execution_count": 14,
   "id": "bizarre-maker",
   "metadata": {},
   "outputs": [],
   "source": [
    "class SimpleMatchPredictor(AbsPredictor):\n",
    "    def predict(self, probs_1, probs_2):\n",
    "        def get_biggest(d):\n",
    "            return list(sorted(d.items(), key=lambda item: item[1], reverse=True))[0][0]\n",
    "\n",
    "        return get_biggest(probs_1) == get_biggest(probs_2)\n",
    "    \n",
    "    def predict_proba(self, probs_1, probs_2):\n",
    "        return None"
   ]
  },
  {
   "cell_type": "code",
   "execution_count": 15,
   "id": "extraordinary-converter",
   "metadata": {},
   "outputs": [],
   "source": [
    "class ConfidentPredictor(AbsPredictor):\n",
    "    def __init__(self, threshold):\n",
    "        self.threshold = threshold\n",
    "        self.simple_predictor = SimpleMatchPredictor()\n",
    "    \n",
    "    def predict(self, probs_1, probs_2):\n",
    "        is_conf_1 = max(probs_1.values()) >= self.threshold\n",
    "        is_conf_2 = max(probs_2.values()) >= self.threshold\n",
    "        conf_sum = sum([is_conf_1, is_conf_2])\n",
    "        \n",
    "        if conf_sum == 1:\n",
    "            return False\n",
    "    \n",
    "        return self.simple_predictor.predict(probs_1, probs_2)\n",
    "    \n",
    "    def predict_proba(self, probs_1, probs_2):\n",
    "        return None"
   ]
  },
  {
   "cell_type": "code",
   "execution_count": 16,
   "id": "naked-commissioner",
   "metadata": {},
   "outputs": [],
   "source": [
    "class CorrPredictor(AbsPredictor):\n",
    "    def __init__(self, threshold, stats_corr='pears'):\n",
    "        assert stats_corr in ['pears', 'spearm']\n",
    "        \n",
    "        self.threshold = threshold\n",
    "        self.stats_corr = stats_corr\n",
    "    \n",
    "    def predict_proba(self, probs_1, probs_2):\n",
    "        if len(probs_1) < 2:\n",
    "            return True\n",
    "        \n",
    "        lst_probs_1, lst_probs_2 = [], []\n",
    "        for key in probs_1:\n",
    "            lst_probs_1.append(probs_1[key])\n",
    "            lst_probs_2.append(probs_2[key])\n",
    "            \n",
    "        if self.stats_corr == 'pears':\n",
    "            corr, _ = stats.pearsonr(lst_probs_1, lst_probs_2)\n",
    "        elif self.stats_corr == 'spearm':\n",
    "            corr, _ = stats.spearmanr(lst_probs_1, lst_probs_2)\n",
    "            \n",
    "        return corr\n",
    "    \n",
    "    def predict(self, probs_1, probs_2):\n",
    "        return self.predict_proba(probs_1, probs_2) >= self.threshold"
   ]
  },
  {
   "cell_type": "code",
   "execution_count": 17,
   "id": "fluid-atlas",
   "metadata": {},
   "outputs": [],
   "source": [
    "class DiffPredictor(AbsPredictor):\n",
    "    def __init__(self, threshold, normalize=True):\n",
    "        self.threshold = threshold\n",
    "        self.normalize = normalize\n",
    "        \n",
    "    def predict_proba(self, probs_1, probs_2):\n",
    "        diff_sum = 0\n",
    "        \n",
    "        for key in probs_1:\n",
    "            diff_sum += abs(probs_1[key] - probs_2[key])\n",
    "        \n",
    "        if self.normalize:\n",
    "            diff_sum /= len(probs_1)\n",
    "            \n",
    "        return diff_sum\n",
    "    \n",
    "    def predict(self, probs_1, probs_2):\n",
    "        return self.predict_proba(probs_1, probs_2) < self.threshold"
   ]
  },
  {
   "cell_type": "code",
   "execution_count": 18,
   "id": "embedded-panama",
   "metadata": {},
   "outputs": [],
   "source": [
    "class DivergencePredictor(AbsPredictor):\n",
    "    def __init__(self, threshold, normalize=True, divergence='Kullback–Leibler'):\n",
    "        assert divergence in ['Kullback–Leibler', 'Jensen–Shannon']\n",
    "        \n",
    "        self.threshold = threshold\n",
    "        self.normalize = normalize\n",
    "        self.divergence = divergence\n",
    "        \n",
    "    @staticmethod\n",
    "    def _kullback_leibler(probs_1, probs_2):\n",
    "        return sum(probs_1 * np.log(probs_1 / probs_2))\n",
    "        \n",
    "    def predict_proba(self, probs_1, probs_2):\n",
    "        if len(probs_1) < 2:\n",
    "            return True\n",
    "        \n",
    "        lst_probs_1, lst_probs_2 = [], []\n",
    "        for key in probs_1:\n",
    "            lst_probs_1.append(probs_1[key])\n",
    "            lst_probs_2.append(probs_2[key])\n",
    "            \n",
    "        lst_probs_1 = np.array(lst_probs_1, dtype=np.float128)\n",
    "        lst_probs_2 = np.array(lst_probs_2, dtype=np.float128)\n",
    "            \n",
    "        lst_probs_1 = np.exp(lst_probs_1) / sum(np.exp(lst_probs_1))\n",
    "        lst_probs_2 = np.exp(lst_probs_2) / sum(np.exp(lst_probs_2))\n",
    "        \n",
    "        if self.divergence == 'Kullback–Leibler':\n",
    "            diver = self._kullback_leibler(lst_probs_1, lst_probs_2)\n",
    "        elif self.divergence == 'Jensen–Shannon':\n",
    "            m = (lst_probs_1 + lst_probs_2) / 2\n",
    "            diver = (self._kullback_leibler(lst_probs_1, m)\n",
    "                   + self._kullback_leibler(lst_probs_2, m)) / 2\n",
    "        \n",
    "        if self.normalize:\n",
    "            diver /= len(probs_1)\n",
    "        \n",
    "        return diver\n",
    "    \n",
    "    def predict(self, probs_1, probs_2):\n",
    "        return self.predict_proba(probs_1, probs_2) < self.threshold"
   ]
  },
  {
   "cell_type": "code",
   "execution_count": 19,
   "id": "photographic-geography",
   "metadata": {},
   "outputs": [],
   "source": [
    "class ProbsDotPredictor(AbsPredictor):\n",
    "    def __init__(self, threshold):\n",
    "        self.threshold = threshold\n",
    "        \n",
    "    def predict_proba(self, probs_1, probs_2):\n",
    "        lst_probs_1, lst_probs_2 = [], []\n",
    "        for key in probs_1:\n",
    "            lst_probs_1.append(probs_1[key])\n",
    "            lst_probs_2.append(probs_2[key])\n",
    "            \n",
    "        lst_probs_1 = np.array(lst_probs_1, dtype=np.float128)\n",
    "        lst_probs_2 = np.array(lst_probs_2, dtype=np.float128)\n",
    "            \n",
    "        lst_probs_1 = np.exp(lst_probs_1) / sum(np.exp(lst_probs_1))\n",
    "        lst_probs_2 = np.exp(lst_probs_2) / sum(np.exp(lst_probs_2))\n",
    "        \n",
    "        return sum(lst_probs_1 * lst_probs_2)\n",
    "    \n",
    "    def predict(self, probs_1, probs_2):\n",
    "        return self.predict_proba(probs_1, probs_2) > self.threshold"
   ]
  },
  {
   "cell_type": "code",
   "execution_count": 20,
   "id": "active-sudan",
   "metadata": {},
   "outputs": [],
   "source": [
    "class VectorsDotPredictor(AbsPredictor):\n",
    "    def __init__(self, threshold, normalize=True, norm_ord=2):\n",
    "        self.threshold = threshold\n",
    "        self.normalize = normalize\n",
    "        self.norm_ord = norm_ord\n",
    "    \n",
    "    def predict(self, out_vector_1, out_vector_2):\n",
    "        return self.predict_proba(out_vector_1, out_vector_2) > self.threshold\n",
    "    \n",
    "    def predict_proba(self, out_vector_1, out_vector_2):\n",
    "        out_vector_1 = np.array(out_vector_1)\n",
    "        out_vector_2 = np.array(out_vector_2)\n",
    "        \n",
    "        if self.normalize:\n",
    "            out_vector_1 /= np.linalg.norm(out_vector_1, ord=self.norm_ord)\n",
    "            out_vector_2 /= np.linalg.norm(out_vector_2, ord=self.norm_ord)\n",
    "            \n",
    "        return sum(out_vector_1 * out_vector_2)"
   ]
  },
  {
   "cell_type": "code",
   "execution_count": 21,
   "id": "romance-enterprise",
   "metadata": {},
   "outputs": [],
   "source": [
    "class VectorsDistPredictor(AbsPredictor):\n",
    "    def __init__(self, threshold, normalize=True, norm_ord=2):\n",
    "        self.threshold = threshold\n",
    "        self.normalize = normalize\n",
    "        self.norm_ord = norm_ord\n",
    "    \n",
    "    def predict(self, out_vector_1, out_vector_2):\n",
    "        return self.predict_proba(out_vector_1, out_vector_2) < self.threshold\n",
    "    \n",
    "    def predict_proba(self, out_vector_1, out_vector_2):\n",
    "        out_vector_1 = np.array(out_vector_1)\n",
    "        out_vector_2 = np.array(out_vector_2)\n",
    "        \n",
    "        if self.normalize:\n",
    "            out_vector_1 /= np.linalg.norm(out_vector_1, ord=self.norm_ord)\n",
    "            out_vector_2 /= np.linalg.norm(out_vector_2, ord=self.norm_ord)\n",
    "        \n",
    "        return np.linalg.norm(out_vector_1 - out_vector_2, ord=self.norm_ord)"
   ]
  },
  {
   "cell_type": "code",
   "execution_count": 22,
   "id": "adult-thing",
   "metadata": {},
   "outputs": [],
   "source": [
    "def get_predictions(predictor, samples):\n",
    "    return [predictor.predict(sample['probs1'], sample['probs2']) for sample in samples]"
   ]
  },
  {
   "cell_type": "code",
   "execution_count": 23,
   "id": "choice-edmonton",
   "metadata": {},
   "outputs": [],
   "source": [
    "from sklearn.metrics import accuracy_score"
   ]
  },
  {
   "cell_type": "markdown",
   "id": "accomplished-miracle",
   "metadata": {},
   "source": [
    "Simple matching"
   ]
  },
  {
   "cell_type": "code",
   "execution_count": 24,
   "id": "backed-franklin",
   "metadata": {},
   "outputs": [
    {
     "data": {
      "text/plain": [
       "0.815"
      ]
     },
     "execution_count": 24,
     "metadata": {},
     "output_type": "execute_result"
    }
   ],
   "source": [
    "y_dev_pred = get_predictions(SimpleMatchPredictor(), dev_samples)\n",
    "\n",
    "accuracy_score(y_dev_true, y_dev_pred)"
   ]
  },
  {
   "cell_type": "code",
   "execution_count": 31,
   "id": "meaningful-thing",
   "metadata": {},
   "outputs": [],
   "source": [
    "#y_test_pred = get_predictions(SimpleMatchPredictor(), test_samples)\n",
    "\n",
    "#accuracy_score(y_test_true, y_test_pred)"
   ]
  },
  {
   "cell_type": "markdown",
   "id": "elect-participation",
   "metadata": {},
   "source": [
    "Matching with thresholds"
   ]
  },
  {
   "cell_type": "code",
   "execution_count": 25,
   "id": "designed-listening",
   "metadata": {},
   "outputs": [],
   "source": [
    "def plot_thresholds(predictor_class, samples, y_true, thresholds, linestyle='solid', **args):\n",
    "    scores = []\n",
    "\n",
    "    for threshold in tqdm(thresholds):\n",
    "        y_pred = get_predictions(predictor_class(threshold=threshold, **args), samples)\n",
    "        scores.append(accuracy_score(y_true, y_pred))\n",
    "\n",
    "    plt.plot(thresholds, scores, linestyle=linestyle)\n",
    "    \n",
    "    args_str = str(args) if len(args) > 0 else ''\n",
    "    plt.title(predictor_class.__name__ + ' ' + args_str)\n",
    "    plt.xlabel('thresholds')\n",
    "    plt.ylabel('accuracy')\n",
    "\n",
    "    print('Best score:', max(scores), 'at threshold:', thresholds[np.argmax(scores)])"
   ]
  },
  {
   "cell_type": "raw",
   "id": "promotional-practitioner",
   "metadata": {},
   "source": [
    "plot_thresholds(ConfidentPredictor, train_samples, y_train_true, np.linspace(-7, 20, 300))\n",
    "plot_thresholds(ConfidentPredictor, dev_samples, y_dev_true, np.linspace(-7, 20, 300))\n",
    "\n",
    "plt.legend(['train', 'dev']);"
   ]
  },
  {
   "cell_type": "raw",
   "id": "invalid-perth",
   "metadata": {},
   "source": [
    "plot_thresholds(CorrPredictor, train_samples, y_train_true, np.linspace(0, 1, 100), stats_corr='pears')\n",
    "plot_thresholds(CorrPredictor, dev_samples, y_dev_true, np.linspace(0, 1, 100), stats_corr='pears')\n",
    "\n",
    "plt.legend(['train', 'dev']);"
   ]
  },
  {
   "cell_type": "raw",
   "id": "stainless-somalia",
   "metadata": {},
   "source": [
    "plot_thresholds(CorrPredictor, train_samples, y_train_true, np.linspace(0, 1, 100), stats_corr='spearm')\n",
    "plot_thresholds(CorrPredictor, dev_samples, y_dev_true, np.linspace(0, 1, 100), stats_corr='spearm')\n",
    "\n",
    "plt.legend(['train', 'dev']);"
   ]
  },
  {
   "cell_type": "raw",
   "id": "stuck-chile",
   "metadata": {},
   "source": [
    "plot_thresholds(DiffPredictor, train_samples, y_train_true, np.linspace(0, 20, 100), normalize=True)\n",
    "plot_thresholds(DiffPredictor, dev_samples, y_dev_true, np.linspace(0, 20, 100), normalize=True)\n",
    "\n",
    "plt.legend(['train', 'dev']);"
   ]
  },
  {
   "cell_type": "raw",
   "id": "veterinary-series",
   "metadata": {},
   "source": [
    "plot_thresholds(DiffPredictor, train_samples, y_train_true, np.linspace(0, 20, 100), normalize=False)\n",
    "plot_thresholds(DiffPredictor, dev_samples, y_dev_true, np.linspace(0, 20, 100), normalize=False)\n",
    "\n",
    "plt.legend(['train', 'dev']);"
   ]
  },
  {
   "cell_type": "code",
   "execution_count": 24,
   "id": "native-clearance",
   "metadata": {},
   "outputs": [
    {
     "data": {
      "application/vnd.jupyter.widget-view+json": {
       "model_id": "4a0e3fdfc2e04fafbdf656f38b1e0adc",
       "version_major": 2,
       "version_minor": 0
      },
      "text/plain": [
       "  0%|          | 0/100 [00:00<?, ?it/s]"
      ]
     },
     "metadata": {},
     "output_type": "display_data"
    },
    {
     "ename": "KeyError",
     "evalue": "'probs1'",
     "output_type": "error",
     "traceback": [
      "\u001b[0;31m---------------------------------------------------------------------------\u001b[0m",
      "\u001b[0;31mKeyError\u001b[0m                                  Traceback (most recent call last)",
      "\u001b[0;32m<ipython-input-24-a3518e9d364d>\u001b[0m in \u001b[0;36m<module>\u001b[0;34m\u001b[0m\n\u001b[0;32m----> 1\u001b[0;31m \u001b[0mplot_thresholds\u001b[0m\u001b[0;34m(\u001b[0m\u001b[0mProbsDotPredictor\u001b[0m\u001b[0;34m,\u001b[0m \u001b[0mdev_samples\u001b[0m\u001b[0;34m,\u001b[0m \u001b[0my_dev_true\u001b[0m\u001b[0;34m,\u001b[0m \u001b[0mnp\u001b[0m\u001b[0;34m.\u001b[0m\u001b[0mlinspace\u001b[0m\u001b[0;34m(\u001b[0m\u001b[0;36m0\u001b[0m\u001b[0;34m,\u001b[0m \u001b[0;36m1\u001b[0m\u001b[0;34m,\u001b[0m \u001b[0;36m100\u001b[0m\u001b[0;34m)\u001b[0m\u001b[0;34m)\u001b[0m\u001b[0;34m\u001b[0m\u001b[0;34m\u001b[0m\u001b[0m\n\u001b[0m\u001b[1;32m      2\u001b[0m \u001b[0;31m#plot_thresholds(ProbsDotPredictor, test_samples, y_test_true, np.linspace(0, 1, 100))\u001b[0m\u001b[0;34m\u001b[0m\u001b[0;34m\u001b[0m\u001b[0;34m\u001b[0m\u001b[0m\n\u001b[1;32m      3\u001b[0m \u001b[0;34m\u001b[0m\u001b[0m\n\u001b[1;32m      4\u001b[0m \u001b[0mplt\u001b[0m\u001b[0;34m.\u001b[0m\u001b[0mlegend\u001b[0m\u001b[0;34m(\u001b[0m\u001b[0;34m[\u001b[0m\u001b[0;34m'dev'\u001b[0m\u001b[0;34m,\u001b[0m \u001b[0;34m'test'\u001b[0m\u001b[0;34m]\u001b[0m\u001b[0;34m)\u001b[0m\u001b[0;34m;\u001b[0m\u001b[0;34m\u001b[0m\u001b[0;34m\u001b[0m\u001b[0m\n",
      "\u001b[0;32m<ipython-input-23-f5f0fe6492e5>\u001b[0m in \u001b[0;36mplot_thresholds\u001b[0;34m(predictor_class, samples, y_true, thresholds, **args)\u001b[0m\n\u001b[1;32m      3\u001b[0m \u001b[0;34m\u001b[0m\u001b[0m\n\u001b[1;32m      4\u001b[0m     \u001b[0;32mfor\u001b[0m \u001b[0mthreshold\u001b[0m \u001b[0;32min\u001b[0m \u001b[0mtqdm\u001b[0m\u001b[0;34m(\u001b[0m\u001b[0mthresholds\u001b[0m\u001b[0;34m)\u001b[0m\u001b[0;34m:\u001b[0m\u001b[0;34m\u001b[0m\u001b[0;34m\u001b[0m\u001b[0m\n\u001b[0;32m----> 5\u001b[0;31m         \u001b[0my_pred\u001b[0m \u001b[0;34m=\u001b[0m \u001b[0mget_predictions\u001b[0m\u001b[0;34m(\u001b[0m\u001b[0mpredictor_class\u001b[0m\u001b[0;34m(\u001b[0m\u001b[0mthreshold\u001b[0m\u001b[0;34m=\u001b[0m\u001b[0mthreshold\u001b[0m\u001b[0;34m,\u001b[0m \u001b[0;34m**\u001b[0m\u001b[0margs\u001b[0m\u001b[0;34m)\u001b[0m\u001b[0;34m,\u001b[0m \u001b[0msamples\u001b[0m\u001b[0;34m)\u001b[0m\u001b[0;34m\u001b[0m\u001b[0;34m\u001b[0m\u001b[0m\n\u001b[0m\u001b[1;32m      6\u001b[0m         \u001b[0mscores\u001b[0m\u001b[0;34m.\u001b[0m\u001b[0mappend\u001b[0m\u001b[0;34m(\u001b[0m\u001b[0maccuracy_score\u001b[0m\u001b[0;34m(\u001b[0m\u001b[0my_true\u001b[0m\u001b[0;34m,\u001b[0m \u001b[0my_pred\u001b[0m\u001b[0;34m)\u001b[0m\u001b[0;34m)\u001b[0m\u001b[0;34m\u001b[0m\u001b[0;34m\u001b[0m\u001b[0m\n\u001b[1;32m      7\u001b[0m \u001b[0;34m\u001b[0m\u001b[0m\n",
      "\u001b[0;32m<ipython-input-21-02b102355280>\u001b[0m in \u001b[0;36mget_predictions\u001b[0;34m(predictor, samples)\u001b[0m\n\u001b[1;32m      1\u001b[0m \u001b[0;32mdef\u001b[0m \u001b[0mget_predictions\u001b[0m\u001b[0;34m(\u001b[0m\u001b[0mpredictor\u001b[0m\u001b[0;34m,\u001b[0m \u001b[0msamples\u001b[0m\u001b[0;34m)\u001b[0m\u001b[0;34m:\u001b[0m\u001b[0;34m\u001b[0m\u001b[0;34m\u001b[0m\u001b[0m\n\u001b[0;32m----> 2\u001b[0;31m     \u001b[0;32mreturn\u001b[0m \u001b[0;34m[\u001b[0m\u001b[0mpredictor\u001b[0m\u001b[0;34m.\u001b[0m\u001b[0mpredict\u001b[0m\u001b[0;34m(\u001b[0m\u001b[0msample\u001b[0m\u001b[0;34m[\u001b[0m\u001b[0;34m'probs1'\u001b[0m\u001b[0;34m]\u001b[0m\u001b[0;34m,\u001b[0m \u001b[0msample\u001b[0m\u001b[0;34m[\u001b[0m\u001b[0;34m'probs2'\u001b[0m\u001b[0;34m]\u001b[0m\u001b[0;34m)\u001b[0m \u001b[0;32mfor\u001b[0m \u001b[0msample\u001b[0m \u001b[0;32min\u001b[0m \u001b[0msamples\u001b[0m\u001b[0;34m]\u001b[0m\u001b[0;34m\u001b[0m\u001b[0;34m\u001b[0m\u001b[0m\n\u001b[0m",
      "\u001b[0;32m<ipython-input-21-02b102355280>\u001b[0m in \u001b[0;36m<listcomp>\u001b[0;34m(.0)\u001b[0m\n\u001b[1;32m      1\u001b[0m \u001b[0;32mdef\u001b[0m \u001b[0mget_predictions\u001b[0m\u001b[0;34m(\u001b[0m\u001b[0mpredictor\u001b[0m\u001b[0;34m,\u001b[0m \u001b[0msamples\u001b[0m\u001b[0;34m)\u001b[0m\u001b[0;34m:\u001b[0m\u001b[0;34m\u001b[0m\u001b[0;34m\u001b[0m\u001b[0m\n\u001b[0;32m----> 2\u001b[0;31m     \u001b[0;32mreturn\u001b[0m \u001b[0;34m[\u001b[0m\u001b[0mpredictor\u001b[0m\u001b[0;34m.\u001b[0m\u001b[0mpredict\u001b[0m\u001b[0;34m(\u001b[0m\u001b[0msample\u001b[0m\u001b[0;34m[\u001b[0m\u001b[0;34m'probs1'\u001b[0m\u001b[0;34m]\u001b[0m\u001b[0;34m,\u001b[0m \u001b[0msample\u001b[0m\u001b[0;34m[\u001b[0m\u001b[0;34m'probs2'\u001b[0m\u001b[0;34m]\u001b[0m\u001b[0;34m)\u001b[0m \u001b[0;32mfor\u001b[0m \u001b[0msample\u001b[0m \u001b[0;32min\u001b[0m \u001b[0msamples\u001b[0m\u001b[0;34m]\u001b[0m\u001b[0;34m\u001b[0m\u001b[0;34m\u001b[0m\u001b[0m\n\u001b[0m",
      "\u001b[0;31mKeyError\u001b[0m: 'probs1'"
     ]
    }
   ],
   "source": [
    "plot_thresholds(ProbsDotPredictor, dev_samples, y_dev_true, np.linspace(0, 1, 100))\n",
    "#plot_thresholds(ProbsDotPredictor, test_samples, y_test_true, np.linspace(0, 1, 100))\n",
    "\n",
    "plt.legend(['dev', 'test']);"
   ]
  },
  {
   "cell_type": "code",
   "execution_count": 27,
   "id": "controlling-array",
   "metadata": {},
   "outputs": [
    {
     "data": {
      "text/plain": [
       "0.754"
      ]
     },
     "execution_count": 27,
     "metadata": {},
     "output_type": "execute_result"
    }
   ],
   "source": [
    "accuracy_score(y_test_true, get_predictions(\n",
    "    ProbsDotPredictor(threshold=0.26262626262626265),\n",
    "    test_samples))"
   ]
  },
  {
   "cell_type": "raw",
   "id": "catholic-ticket",
   "metadata": {},
   "source": [
    "plot_thresholds(DivergencePredictor, dev_samples, y_dev_true,\n",
    "                np.linspace(0, 10, 100), divergence='Kullback–Leibler', normalize=True)\n",
    "plot_thresholds(DivergencePredictor, test_samples, y_test_true,\n",
    "                np.linspace(0, 10, 100), divergence='Kullback–Leibler', normalize=True)\n",
    "\n",
    "plt.legend(['dev', 'test']);"
   ]
  },
  {
   "cell_type": "raw",
   "id": "quantitative-myanmar",
   "metadata": {},
   "source": [
    "plot_thresholds(DivergencePredictor, train_samples, y_train_true,\n",
    "                np.linspace(0, 10, 100), divergence='Kullback–Leibler', normalize=False)\n",
    "plot_thresholds(DivergencePredictor, dev_samples, y_dev_true,\n",
    "                np.linspace(0, 10, 100), divergence='Kullback–Leibler', normalize=False)\n",
    "\n",
    "plt.legend(['train', 'dev']);"
   ]
  },
  {
   "cell_type": "raw",
   "id": "color-wireless",
   "metadata": {},
   "source": [
    "plot_thresholds(DivergencePredictor, dev_samples, y_dev_true, \n",
    "                np.linspace(0, 1, 300), divergence='Jensen–Shannon', normalize=True)\n",
    "plot_thresholds(DivergencePredictor, test_samples, y_test_true, \n",
    "                np.linspace(0, 1, 300), divergence='Jensen–Shannon', normalize=True)\n",
    "\n",
    "plt.legend(['train', 'dev']);"
   ]
  },
  {
   "cell_type": "code",
   "execution_count": 28,
   "id": "varying-intention",
   "metadata": {},
   "outputs": [
    {
     "name": "stdout",
     "output_type": "stream",
     "text": [
      "Best score: 0.811 at threshold: 0.026755852842809364\n",
      "Best score: 0.863 at threshold: 0.023411371237458192\n"
     ]
    },
    {
     "data": {
      "image/png": "[encoded data removed]",
      "text/plain": [
       "<Figure size 432x288 with 1 Axes>"
      ]
     },
     "metadata": {
      "needs_background": "light"
     },
     "output_type": "display_data"
    }
   ],
   "source": [
    "plot_thresholds(DivergencePredictor, dev_samples, y_dev_true, \n",
    "                np.linspace(0, 1, 300), divergence='Jensen–Shannon', normalize=False)\n",
    "plot_thresholds(DivergencePredictor, test_samples, y_test_true, \n",
    "                np.linspace(0, 1, 300), divergence='Jensen–Shannon', normalize=False)\n",
    "\n",
    "plt.legend(['dev', 'test']);"
   ]
  },
  {
   "cell_type": "code",
   "execution_count": 26,
   "id": "deluxe-arbitration",
   "metadata": {},
   "outputs": [
    {
     "ename": "KeyError",
     "evalue": "'probs1'",
     "output_type": "error",
     "traceback": [
      "\u001b[0;31m---------------------------------------------------------------------------\u001b[0m",
      "\u001b[0;31mKeyError\u001b[0m                                  Traceback (most recent call last)",
      "\u001b[0;32m<ipython-input-26-64b6c2c33394>\u001b[0m in \u001b[0;36m<module>\u001b[0;34m\u001b[0m\n\u001b[1;32m      1\u001b[0m accuracy_score(y_test_true, get_predictions(\n\u001b[1;32m      2\u001b[0m     \u001b[0mDivergencePredictor\u001b[0m\u001b[0;34m(\u001b[0m\u001b[0mthreshold\u001b[0m\u001b[0;34m=\u001b[0m\u001b[0;36m0.026755852842809364\u001b[0m\u001b[0;34m,\u001b[0m \u001b[0mdivergence\u001b[0m\u001b[0;34m=\u001b[0m\u001b[0;34m'Jensen–Shannon'\u001b[0m\u001b[0;34m,\u001b[0m \u001b[0mnormalize\u001b[0m\u001b[0;34m=\u001b[0m\u001b[0;32mFalse\u001b[0m\u001b[0;34m)\u001b[0m\u001b[0;34m,\u001b[0m\u001b[0;34m\u001b[0m\u001b[0;34m\u001b[0m\u001b[0m\n\u001b[0;32m----> 3\u001b[0;31m     test_samples))\n\u001b[0m",
      "\u001b[0;32m<ipython-input-21-02b102355280>\u001b[0m in \u001b[0;36mget_predictions\u001b[0;34m(predictor, samples)\u001b[0m\n\u001b[1;32m      1\u001b[0m \u001b[0;32mdef\u001b[0m \u001b[0mget_predictions\u001b[0m\u001b[0;34m(\u001b[0m\u001b[0mpredictor\u001b[0m\u001b[0;34m,\u001b[0m \u001b[0msamples\u001b[0m\u001b[0;34m)\u001b[0m\u001b[0;34m:\u001b[0m\u001b[0;34m\u001b[0m\u001b[0;34m\u001b[0m\u001b[0m\n\u001b[0;32m----> 2\u001b[0;31m     \u001b[0;32mreturn\u001b[0m \u001b[0;34m[\u001b[0m\u001b[0mpredictor\u001b[0m\u001b[0;34m.\u001b[0m\u001b[0mpredict\u001b[0m\u001b[0;34m(\u001b[0m\u001b[0msample\u001b[0m\u001b[0;34m[\u001b[0m\u001b[0;34m'probs1'\u001b[0m\u001b[0;34m]\u001b[0m\u001b[0;34m,\u001b[0m \u001b[0msample\u001b[0m\u001b[0;34m[\u001b[0m\u001b[0;34m'probs2'\u001b[0m\u001b[0;34m]\u001b[0m\u001b[0;34m)\u001b[0m \u001b[0;32mfor\u001b[0m \u001b[0msample\u001b[0m \u001b[0;32min\u001b[0m \u001b[0msamples\u001b[0m\u001b[0;34m]\u001b[0m\u001b[0;34m\u001b[0m\u001b[0;34m\u001b[0m\u001b[0m\n\u001b[0m",
      "\u001b[0;32m<ipython-input-21-02b102355280>\u001b[0m in \u001b[0;36m<listcomp>\u001b[0;34m(.0)\u001b[0m\n\u001b[1;32m      1\u001b[0m \u001b[0;32mdef\u001b[0m \u001b[0mget_predictions\u001b[0m\u001b[0;34m(\u001b[0m\u001b[0mpredictor\u001b[0m\u001b[0;34m,\u001b[0m \u001b[0msamples\u001b[0m\u001b[0;34m)\u001b[0m\u001b[0;34m:\u001b[0m\u001b[0;34m\u001b[0m\u001b[0;34m\u001b[0m\u001b[0m\n\u001b[0;32m----> 2\u001b[0;31m     \u001b[0;32mreturn\u001b[0m \u001b[0;34m[\u001b[0m\u001b[0mpredictor\u001b[0m\u001b[0;34m.\u001b[0m\u001b[0mpredict\u001b[0m\u001b[0;34m(\u001b[0m\u001b[0msample\u001b[0m\u001b[0;34m[\u001b[0m\u001b[0;34m'probs1'\u001b[0m\u001b[0;34m]\u001b[0m\u001b[0;34m,\u001b[0m \u001b[0msample\u001b[0m\u001b[0;34m[\u001b[0m\u001b[0;34m'probs2'\u001b[0m\u001b[0;34m]\u001b[0m\u001b[0;34m)\u001b[0m \u001b[0;32mfor\u001b[0m \u001b[0msample\u001b[0m \u001b[0;32min\u001b[0m \u001b[0msamples\u001b[0m\u001b[0;34m]\u001b[0m\u001b[0;34m\u001b[0m\u001b[0;34m\u001b[0m\u001b[0m\n\u001b[0m",
      "\u001b[0;31mKeyError\u001b[0m: 'probs1'"
     ]
    }
   ],
   "source": [
    "accuracy_score(y_test_true, get_predictions(\n",
    "    DivergencePredictor(threshold=0.026755852842809364, divergence='Jensen–Shannon', normalize=False),\n",
    "    test_samples))"
   ]
  },
  {
   "cell_type": "markdown",
   "id": "duplicate-steel",
   "metadata": {},
   "source": [
    "# Context outputs"
   ]
  },
  {
   "cell_type": "code",
   "execution_count": 26,
   "id": "false-design",
   "metadata": {},
   "outputs": [],
   "source": [
    "def get_predictions(predictor, samples):\n",
    "    return [predictor.predict(sample['context_output1'], sample['context_output2']) for sample in samples]"
   ]
  },
  {
   "cell_type": "code",
   "execution_count": 35,
   "id": "roman-saturn",
   "metadata": {},
   "outputs": [],
   "source": [
    "def get_probs(predictor, samples):\n",
    "    return [predictor.predict_proba(sample['context_output1'], sample['context_output2']) for sample in samples]"
   ]
  },
  {
   "cell_type": "raw",
   "id": "former-uncertainty",
   "metadata": {},
   "source": [
    "probs_rushift1 = get_probs(VectorsDistPredictor(threshold=None, normalize=True, norm_ord=1), dev_samples)\n",
    "probs_rushift2 = get_probs(VectorsDistPredictor(threshold=None, normalize=True, norm_ord=1), test_samples)\n",
    "\n",
    "for i in range(len(dev_samples)):\n",
    "    dev_samples[i]['score'] = probs_rushift1[i]\n",
    "    \n",
    "for i in range(len(test_samples)):\n",
    "    test_samples[i]['score'] = probs_rushift2[i]"
   ]
  },
  {
   "cell_type": "raw",
   "id": "universal-bumper",
   "metadata": {},
   "source": [
    "max(probs_rushift1)"
   ]
  },
  {
   "cell_type": "raw",
   "id": "bigger-headquarters",
   "metadata": {},
   "source": [
    "with open('data/preds_dev.rusemshift_1_v2.data', 'w', encoding='utf-8') as f:\n",
    "    json.dump(dev_samples, f, indent=4, ensure_ascii=False)\n",
    "\n",
    "with open('data/preds_dev.rusemshift_2_v2.data', 'w', encoding='utf-8') as f:\n",
    "    json.dump(test_samples, f, indent=4, ensure_ascii=False)"
   ]
  },
  {
   "cell_type": "code",
   "execution_count": 26,
   "id": "thick-greeting",
   "metadata": {},
   "outputs": [
    {
     "data": {
      "application/vnd.jupyter.widget-view+json": {
       "model_id": "b717d72afd1e45648e44a4d72507c9d3",
       "version_major": 2,
       "version_minor": 0
      },
      "text/plain": [
       "  0%|          | 0/100 [00:00<?, ?it/s]"
      ]
     },
     "metadata": {},
     "output_type": "display_data"
    },
    {
     "name": "stdout",
     "output_type": "stream",
     "text": [
      "Best score: 0.869 at threshold: 0.9434343434343434\n"
     ]
    },
    {
     "data": {
      "application/vnd.jupyter.widget-view+json": {
       "model_id": "edbf1160fe564dbfab5ed6600db00ba8",
       "version_major": 2,
       "version_minor": 0
      },
      "text/plain": [
       "  0%|          | 0/100 [00:00<?, ?it/s]"
      ]
     },
     "metadata": {},
     "output_type": "display_data"
    },
    {
     "name": "stdout",
     "output_type": "stream",
     "text": [
      "Best score: 0.825 at threshold: 0.9232323232323232\n"
     ]
    },
    {
     "data": {
      "image/png": "[encoded data removed]",
      "text/plain": [
       "<Figure size 432x288 with 1 Axes>"
      ]
     },
     "metadata": {
      "needs_background": "light"
     },
     "output_type": "display_data"
    }
   ],
   "source": [
    "plot_thresholds(VectorsDotPredictor, dev_samples, y_dev_true, \n",
    "                np.linspace(0.6, 1, 100), normalize=True, norm_ord=2)\n",
    "plot_thresholds(VectorsDotPredictor, test_samples, y_test_true, \n",
    "                np.linspace(0.6, 1, 100), normalize=True, norm_ord=2)\n",
    "\n",
    "plt.legend(['dev', 'test']);"
   ]
  },
  {
   "cell_type": "code",
   "execution_count": 53,
   "id": "numerical-richards",
   "metadata": {},
   "outputs": [
    {
     "data": {
      "text/plain": [
       "0.5"
      ]
     },
     "execution_count": 53,
     "metadata": {},
     "output_type": "execute_result"
    }
   ],
   "source": [
    "sum(y_test_en_ar_true) / len(y_test_en_ar_true)"
   ]
  },
  {
   "cell_type": "code",
   "execution_count": 48,
   "id": "parliamentary-scheduling",
   "metadata": {},
   "outputs": [
    {
     "data": {
      "application/vnd.jupyter.widget-view+json": {
       "model_id": "652bc47a4b504396b20c8f5ead810073",
       "version_major": 2,
       "version_minor": 0
      },
      "text/plain": [
       "  0%|          | 0/100 [00:00<?, ?it/s]"
      ]
     },
     "metadata": {},
     "output_type": "display_data"
    },
    {
     "name": "stdout",
     "output_type": "stream",
     "text": [
      "Best score: 0.9375 at threshold: 0.8787878787878788\n"
     ]
    },
    {
     "data": {
      "application/vnd.jupyter.widget-view+json": {
       "model_id": "a5185245498b48e3b8c1a2d95388e371",
       "version_major": 2,
       "version_minor": 0
      },
      "text/plain": [
       "  0%|          | 0/100 [00:00<?, ?it/s]"
      ]
     },
     "metadata": {},
     "output_type": "display_data"
    },
    {
     "name": "stdout",
     "output_type": "stream",
     "text": [
      "Best score: 0.825 at threshold: 0.9232323232323232\n"
     ]
    },
    {
     "data": {
      "application/vnd.jupyter.widget-view+json": {
       "model_id": "c41cff912d994b7c80124d4572d82133",
       "version_major": 2,
       "version_minor": 0
      },
      "text/plain": [
       "  0%|          | 0/100 [00:00<?, ?it/s]"
      ]
     },
     "metadata": {},
     "output_type": "display_data"
    },
    {
     "name": "stdout",
     "output_type": "stream",
     "text": [
      "Best score: 0.841 at threshold: 0.9272727272727272\n"
     ]
    },
    {
     "data": {
      "application/vnd.jupyter.widget-view+json": {
       "model_id": "50bc58205d324828a2e0492e711111a8",
       "version_major": 2,
       "version_minor": 0
      },
      "text/plain": [
       "  0%|          | 0/100 [00:00<?, ?it/s]"
      ]
     },
     "metadata": {},
     "output_type": "display_data"
    },
    {
     "name": "stdout",
     "output_type": "stream",
     "text": [
      "Best score: 0.857 at threshold: 0.9191919191919191\n"
     ]
    },
    {
     "data": {
      "application/vnd.jupyter.widget-view+json": {
       "model_id": "986efb68f5eb46a489b33c172d8a4cb1",
       "version_major": 2,
       "version_minor": 0
      },
      "text/plain": [
       "  0%|          | 0/100 [00:00<?, ?it/s]"
      ]
     },
     "metadata": {},
     "output_type": "display_data"
    },
    {
     "name": "stdout",
     "output_type": "stream",
     "text": [
      "Best score: 0.852 at threshold: 0.9272727272727272\n"
     ]
    },
    {
     "data": {
      "image/png": "[encoded data removed]",
      "text/plain": [
       "<Figure size 432x288 with 1 Axes>"
      ]
     },
     "metadata": {
      "needs_background": "light"
     },
     "output_type": "display_data"
    }
   ],
   "source": [
    "plot_thresholds(VectorsDotPredictor, trial_samples, y_trial_true, \n",
    "                np.linspace(0.6, 1, 100), linestyle='dashed', normalize=True, norm_ord=2)\n",
    "plot_thresholds(VectorsDotPredictor, trial_samples, y_trial_true, \n",
    "                np.linspace(0.6, 1, 100), linestyle='dashed', normalize=True, norm_ord=2)\n",
    "\n",
    "plot_thresholds(VectorsDotPredictor, test_en_ar_samples, y_test_en_ar_true, \n",
    "                np.linspace(0.6, 1, 100), linestyle='solid', normalize=True, norm_ord=2)\n",
    "plot_thresholds(VectorsDotPredictor, test_en_fr_samples, y_test_en_fr_true, \n",
    "                np.linspace(0.6, 1, 100), linestyle='solid', normalize=True, norm_ord=2)\n",
    "plot_thresholds(VectorsDotPredictor, test_en_ru_samples, y_test_en_ru_true, \n",
    "                np.linspace(0.6, 1, 100), linestyle='solid', normalize=True, norm_ord=2)\n",
    "plot_thresholds(VectorsDotPredictor, test_en_zh_samples, y_test_en_zh_true, \n",
    "                np.linspace(0.6, 1, 100), linestyle='solid', normalize=True, norm_ord=2)\n",
    "\n",
    "plt.legend([\n",
    "    'trial',\n",
    "    #'en-en', 'ar-ar', 'fr-fr', 'ru-ru', 'zh-zh',\n",
    "    'en-ar', 'en-fr', 'en-ru', 'en-zh'\n",
    "]);\n",
    "plt.savefig('data/image.pdf', bbox_inches='tight')"
   ]
  },
  {
   "cell_type": "code",
   "execution_count": 46,
   "id": "hydraulic-elevation",
   "metadata": {},
   "outputs": [
    {
     "data": {
      "text/plain": [
       "0.683"
      ]
     },
     "execution_count": 46,
     "metadata": {},
     "output_type": "execute_result"
    }
   ],
   "source": [
    "accuracy_score(y_test_en_zh_true, get_predictions(\n",
    "    VectorsDotPredictor(threshold=0.8787878787878788, normalize=True, norm_ord=2),\n",
    "    test_en_zh_samples))"
   ]
  },
  {
   "cell_type": "raw",
   "id": "worse-shadow",
   "metadata": {},
   "source": [
    "plot_thresholds(VectorsDotPredictor, train_samples, y_train_true, \n",
    "                np.linspace(50, 100, 100), normalize=False, norm_ord=2)"
   ]
  },
  {
   "cell_type": "raw",
   "id": "decent-natural",
   "metadata": {},
   "source": [
    "accuracy_score(y_dev_true, get_predictions(\n",
    "    VectorsDotPredictor(threshold=67.67676767676768, normalize=False, norm_ord=2),\n",
    "    dev_samples))"
   ]
  },
  {
   "cell_type": "raw",
   "id": "after-ready",
   "metadata": {},
   "source": [
    "norm_ords = np.linspace(0.1, 2, 10)\n",
    "\n",
    "for norm_ord in norm_ords:\n",
    "    print('Ord:', norm_ord, end=' ')\n",
    "    plot_thresholds(VectorsDistPredictor, train_samples, y_train_true, \n",
    "                    np.linspace(0, 1, 100), normalize=True, norm_ord=norm_ord)\n",
    "\n",
    "plt.legend(norm_ords.astype(str))"
   ]
  },
  {
   "cell_type": "code",
   "execution_count": 27,
   "id": "requested-worship",
   "metadata": {},
   "outputs": [
    {
     "data": {
      "application/vnd.jupyter.widget-view+json": {
       "model_id": "83a2f9c56ff847389000e3efe305122b",
       "version_major": 2,
       "version_minor": 0
      },
      "text/plain": [
       "  0%|          | 0/100 [00:00<?, ?it/s]"
      ]
     },
     "metadata": {},
     "output_type": "display_data"
    },
    {
     "name": "stdout",
     "output_type": "stream",
     "text": [
      "Best score: 0.867 at threshold: 0.33333333333333337\n"
     ]
    },
    {
     "data": {
      "application/vnd.jupyter.widget-view+json": {
       "model_id": "14eae64be2e34ff49d2ca23b1e8e1242",
       "version_major": 2,
       "version_minor": 0
      },
      "text/plain": [
       "  0%|          | 0/100 [00:00<?, ?it/s]"
      ]
     },
     "metadata": {},
     "output_type": "display_data"
    },
    {
     "name": "stdout",
     "output_type": "stream",
     "text": [
      "Best score: 0.853 at threshold: 0.37373737373737376\n"
     ]
    },
    {
     "data": {
      "image/png": "[encoded data removed]",
      "text/plain": [
       "<Figure size 432x288 with 1 Axes>"
      ]
     },
     "metadata": {
      "needs_background": "light"
     },
     "output_type": "display_data"
    }
   ],
   "source": [
    "plot_thresholds(VectorsDistPredictor, dev_samples, y_dev_true, \n",
    "                np.linspace(0, 1, 100), normalize=True, norm_ord=2)\n",
    "plot_thresholds(VectorsDistPredictor, test_samples, y_test_true, \n",
    "                np.linspace(0, 1, 100), normalize=True, norm_ord=2)\n",
    "\n",
    "plt.legend(['dev', 'test']);"
   ]
  },
  {
   "cell_type": "code",
   "execution_count": 35,
   "id": "metropolitan-alias",
   "metadata": {},
   "outputs": [
    {
     "data": {
      "application/vnd.jupyter.widget-view+json": {
       "model_id": "6755ece693564b09a5be36e9d55c04f8",
       "version_major": 2,
       "version_minor": 0
      },
      "text/plain": [
       "  0%|          | 0/100 [00:00<?, ?it/s]"
      ]
     },
     "metadata": {},
     "output_type": "display_data"
    },
    {
     "name": "stdout",
     "output_type": "stream",
     "text": [
      "Best score: 0.9375 at threshold: 0.4444444444444445\n"
     ]
    },
    {
     "data": {
      "application/vnd.jupyter.widget-view+json": {
       "model_id": "c923b55d521248bbb861a798b8dfb42b",
       "version_major": 2,
       "version_minor": 0
      },
      "text/plain": [
       "  0%|          | 0/100 [00:00<?, ?it/s]"
      ]
     },
     "metadata": {},
     "output_type": "display_data"
    },
    {
     "name": "stdout",
     "output_type": "stream",
     "text": [
      "Best score: 0.824 at threshold: 0.38383838383838387\n"
     ]
    },
    {
     "data": {
      "application/vnd.jupyter.widget-view+json": {
       "model_id": "1ffdf3344d764d358e5ec5ec2351039a",
       "version_major": 2,
       "version_minor": 0
      },
      "text/plain": [
       "  0%|          | 0/100 [00:00<?, ?it/s]"
      ]
     },
     "metadata": {},
     "output_type": "display_data"
    },
    {
     "name": "stdout",
     "output_type": "stream",
     "text": [
      "Best score: 0.84 at threshold: 0.38383838383838387\n"
     ]
    },
    {
     "data": {
      "application/vnd.jupyter.widget-view+json": {
       "model_id": "283010d26300453ca0e8307412ab7b1f",
       "version_major": 2,
       "version_minor": 0
      },
      "text/plain": [
       "  0%|          | 0/100 [00:00<?, ?it/s]"
      ]
     },
     "metadata": {},
     "output_type": "display_data"
    },
    {
     "name": "stdout",
     "output_type": "stream",
     "text": [
      "Best score: 0.859 at threshold: 0.393939393939394\n"
     ]
    },
    {
     "data": {
      "application/vnd.jupyter.widget-view+json": {
       "model_id": "bdff280f7be44146becf38fcee9a2b00",
       "version_major": 2,
       "version_minor": 0
      },
      "text/plain": [
       "  0%|          | 0/100 [00:00<?, ?it/s]"
      ]
     },
     "metadata": {},
     "output_type": "display_data"
    },
    {
     "name": "stdout",
     "output_type": "stream",
     "text": [
      "Best score: 0.853 at threshold: 0.37373737373737376\n"
     ]
    },
    {
     "data": {
      "image/png": "[encoded data removed]",
      "text/plain": [
       "<Figure size 432x288 with 1 Axes>"
      ]
     },
     "metadata": {
      "needs_background": "light"
     },
     "output_type": "display_data"
    }
   ],
   "source": [
    "plot_thresholds(VectorsDistPredictor, trial_samples, y_trial_true, \n",
    "                np.linspace(0, 1, 100), linestyle='dashed', normalize=True, norm_ord=2)\n",
    "\n",
    "plot_thresholds(VectorsDistPredictor, test_en_ar_samples, y_test_en_ar_true, \n",
    "                np.linspace(0, 1, 100), linestyle='solid', normalize=True, norm_ord=2)\n",
    "plot_thresholds(VectorsDistPredictor, test_en_fr_samples, y_test_en_fr_true, \n",
    "                np.linspace(0, 1, 100), linestyle='solid', normalize=True, norm_ord=2)\n",
    "plot_thresholds(VectorsDistPredictor, test_en_ru_samples, y_test_en_ru_true, \n",
    "                np.linspace(0, 1, 100), linestyle='solid', normalize=True, norm_ord=2)\n",
    "plot_thresholds(VectorsDistPredictor, test_en_zh_samples, y_test_en_zh_true, \n",
    "                np.linspace(0, 1, 100), linestyle='solid', normalize=True, norm_ord=2)\n",
    "\n",
    "plt.legend([\n",
    "    'trial',\n",
    "    #'en-en', 'ar-ar', 'fr-fr', 'ru-ru', 'zh-zh',\n",
    "    'en-ar', 'en-fr', 'en-ru', 'en-zh'\n",
    "]);\n",
    "plt.savefig('data/image.pdf', bbox_inches='tight')"
   ]
  },
  {
   "cell_type": "code",
   "execution_count": 40,
   "id": "received-michael",
   "metadata": {},
   "outputs": [
    {
     "data": {
      "text/plain": [
       "0.777"
      ]
     },
     "execution_count": 40,
     "metadata": {},
     "output_type": "execute_result"
    }
   ],
   "source": [
    "accuracy_score(y_test_en_zh_true, get_predictions(\n",
    "    VectorsDistPredictor(threshold=0.4444444444444445, normalize=True, norm_ord=2),\n",
    "    test_en_zh_samples))"
   ]
  },
  {
   "cell_type": "code",
   "execution_count": 30,
   "id": "brief-allah",
   "metadata": {},
   "outputs": [],
   "source": [
    "def set_up_fonts():\n",
    "    sns.set_context(\"paper\", rc={\n",
    "        \"font.size\": 15,\"axes.titlesize\": 15,\"axes.labelsize\": 17, \"legend.fontsize\": 17,\n",
    "        \"xtick.labelsize\": 14, \"ytick.labelsize\": 14\n",
    "    })"
   ]
  },
  {
   "cell_type": "code",
   "execution_count": 27,
   "id": "reported-coordination",
   "metadata": {},
   "outputs": [
    {
     "data": {
      "application/vnd.jupyter.widget-view+json": {
       "model_id": "539b7e56f85142f981a1c3bb6bd98d25",
       "version_major": 2,
       "version_minor": 0
      },
      "text/plain": [
       "  0%|          | 0/100 [00:00<?, ?it/s]"
      ]
     },
     "metadata": {},
     "output_type": "display_data"
    },
    {
     "name": "stdout",
     "output_type": "stream",
     "text": [
      "Best score: 0.9375 at threshold: 0.787878787878788\n"
     ]
    },
    {
     "data": {
      "application/vnd.jupyter.widget-view+json": {
       "model_id": "3c36f8d4c6d84f438b18f66be5e04734",
       "version_major": 2,
       "version_minor": 0
      },
      "text/plain": [
       "  0%|          | 0/100 [00:00<?, ?it/s]"
      ]
     },
     "metadata": {},
     "output_type": "display_data"
    },
    {
     "name": "stdout",
     "output_type": "stream",
     "text": [
      "Best score: 0.853 at threshold: 0.797979797979798\n"
     ]
    },
    {
     "data": {
      "application/vnd.jupyter.widget-view+json": {
       "model_id": "6452da57a29a4e6ea58109870d57f01a",
       "version_major": 2,
       "version_minor": 0
      },
      "text/plain": [
       "  0%|          | 0/100 [00:00<?, ?it/s]"
      ]
     },
     "metadata": {},
     "output_type": "display_data"
    },
    {
     "name": "stdout",
     "output_type": "stream",
     "text": [
      "Best score: 0.863 at threshold: 0.7676767676767677\n"
     ]
    },
    {
     "data": {
      "application/vnd.jupyter.widget-view+json": {
       "model_id": "6d730f6a91c5492e8b9017de202d8e62",
       "version_major": 2,
       "version_minor": 0
      },
      "text/plain": [
       "  0%|          | 0/100 [00:00<?, ?it/s]"
      ]
     },
     "metadata": {},
     "output_type": "display_data"
    },
    {
     "name": "stdout",
     "output_type": "stream",
     "text": [
      "Best score: 0.872 at threshold: 0.787878787878788\n"
     ]
    },
    {
     "data": {
      "application/vnd.jupyter.widget-view+json": {
       "model_id": "fd9a0e4d6a1043aa99747c9feae63ef5",
       "version_major": 2,
       "version_minor": 0
      },
      "text/plain": [
       "  0%|          | 0/100 [00:00<?, ?it/s]"
      ]
     },
     "metadata": {},
     "output_type": "display_data"
    },
    {
     "name": "stdout",
     "output_type": "stream",
     "text": [
      "Best score: 0.892 at threshold: 0.787878787878788\n"
     ]
    },
    {
     "data": {
      "image/png": "[encoded data removed]",
      "text/plain": [
       "<Figure size 432x288 with 1 Axes>"
      ]
     },
     "metadata": {
      "needs_background": "light"
     },
     "output_type": "display_data"
    }
   ],
   "source": [
    "# plot_thresholds(VectorsDistPredictor, dev_samples, y_dev_true, \n",
    "#                 np.linspace(0, 1, 100), normalize=True, norm_ord=1)\n",
    "\n",
    "# plot_thresholds(VectorsDistPredictor, test_en_en_samples, y_test_en_en_true, \n",
    "#                 np.linspace(0, 1, 100), linestyle='dashed', normalize=True, norm_ord=1)\n",
    "# plot_thresholds(VectorsDistPredictor, test_ar_ar_samples, y_test_ar_ar_true, \n",
    "#                 np.linspace(0, 1, 100), linestyle='dashed', normalize=True, norm_ord=1)\n",
    "# plot_thresholds(VectorsDistPredictor, test_fr_fr_samples, y_test_fr_fr_true, \n",
    "#                 np.linspace(0, 1, 100), linestyle='dashed', normalize=True, norm_ord=1)\n",
    "# plot_thresholds(VectorsDistPredictor, test_ru_ru_samples, y_test_ru_ru_true, \n",
    "#                 np.linspace(0, 1, 100), linestyle='dashed', normalize=True, norm_ord=1)\n",
    "# plot_thresholds(VectorsDistPredictor, test_zh_zh_samples, y_test_zh_zh_true, \n",
    "#                 np.linspace(0, 1, 100), linestyle='dashed', normalize=True, norm_ord=1)\n",
    "\n",
    "# plot_thresholds(VectorsDistPredictor, trial_en_ar_samples, y_trial_en_ar_true, \n",
    "#                 np.linspace(0, 1, 100), linestyle='dashed', normalize=True, norm_ord=1)\n",
    "# plot_thresholds(VectorsDistPredictor, trial_en_fr_samples, y_trial_en_fr_true, \n",
    "#                 np.linspace(0, 1, 100), linestyle='dashed', normalize=True, norm_ord=1)\n",
    "# plot_thresholds(VectorsDistPredictor, trial_en_ru_samples, y_trial_en_ru_true, \n",
    "#                 np.linspace(0, 1, 100), linestyle='dashed', normalize=True, norm_ord=1)\n",
    "# plot_thresholds(VectorsDistPredictor, trial_en_zh_samples, y_trial_en_zh_true, \n",
    "#                 np.linspace(0, 1, 100), linestyle='dashed', normalize=True, norm_ord=1)\n",
    "\n",
    "plot_thresholds(VectorsDistPredictor, trial_samples, y_trial_true, \n",
    "                np.linspace(0, 1, 100), linestyle='dashed', normalize=True, norm_ord=1)\n",
    "\n",
    "plot_thresholds(VectorsDistPredictor, test_en_ar_samples, y_test_en_ar_true, \n",
    "                np.linspace(0, 1, 100), linestyle='solid', normalize=True, norm_ord=1)\n",
    "plot_thresholds(VectorsDistPredictor, test_en_fr_samples, y_test_en_fr_true, \n",
    "                np.linspace(0, 1, 100), linestyle='solid', normalize=True, norm_ord=1)\n",
    "plot_thresholds(VectorsDistPredictor, test_en_ru_samples, y_test_en_ru_true, \n",
    "                np.linspace(0, 1, 100), linestyle='solid', normalize=True, norm_ord=1)\n",
    "plot_thresholds(VectorsDistPredictor, test_en_zh_samples, y_test_en_zh_true, \n",
    "                np.linspace(0, 1, 100), linestyle='solid', normalize=True, norm_ord=1)\n",
    "\n",
    "plt.legend([\n",
    "    'trial',\n",
    "    #'en-en', 'ar-ar', 'fr-fr', 'ru-ru', 'zh-zh',\n",
    "    'en-ar', 'en-fr', 'en-ru', 'en-zh'\n",
    "]);\n",
    "plt.savefig('data/image.pdf', bbox_inches='tight')"
   ]
  },
  {
   "cell_type": "code",
   "execution_count": 34,
   "id": "pleased-harbor",
   "metadata": {},
   "outputs": [
    {
     "data": {
      "text/plain": [
       "0.892"
      ]
     },
     "execution_count": 34,
     "metadata": {},
     "output_type": "execute_result"
    }
   ],
   "source": [
    "accuracy_score(y_test_en_zh_true, get_predictions(\n",
    "    VectorsDistPredictor(threshold=0.787878787878788, normalize=True, norm_ord=1),\n",
    "    test_en_zh_samples))"
   ]
  },
  {
   "cell_type": "code",
   "execution_count": 43,
   "id": "north-sacramento",
   "metadata": {},
   "outputs": [
    {
     "data": {
      "image/png": "[encoded data removed]",
      "text/plain": [
       "<Figure size 432x288 with 1 Axes>"
      ]
     },
     "metadata": {
      "needs_background": "light"
     },
     "output_type": "display_data"
    }
   ],
   "source": [
    "crosslingual_distances = get_probs(VectorsDistPredictor(threshold=None, normalize=True, norm_ord=1), \n",
    "                                    test_en_zh_samples)\n",
    "\n",
    "plt.hist(crosslingual_distances, bins=50);\n",
    "plt.title('Distances for en-zh samples');"
   ]
  },
  {
   "cell_type": "code",
   "execution_count": 129,
   "id": "conscious-scottish",
   "metadata": {},
   "outputs": [],
   "source": [
    "# 0.6464646464646465, Dev en threshold\n",
    "# 0.7171717171717172, SemCor threshold\n",
    "# 32,781 WiC samples transformed from SemCor data"
   ]
  },
  {
   "cell_type": "raw",
   "id": "meaningful-title",
   "metadata": {},
   "source": [
    "plot_thresholds(VectorsDistPredictor, test_samples, y_test_true, \n",
    "                    np.linspace(0, 10, 100), normalize=True, norm_ord=1)"
   ]
  },
  {
   "cell_type": "raw",
   "id": "pacific-warning",
   "metadata": {},
   "source": [
    "plot_thresholds(VectorsDistPredictor, train_samples, y_train_true, \n",
    "                    np.linspace(0, 1, 100), normalize=True, norm_ord=2)"
   ]
  },
  {
   "cell_type": "raw",
   "id": "recent-entity",
   "metadata": {},
   "source": [
    "plot_thresholds(VectorsDistPredictor, train_samples, y_train_true, \n",
    "                np.linspace(0, 100, 100), normalize=False, norm_ord=1)"
   ]
  },
  {
   "cell_type": "markdown",
   "id": "diverse-atlanta",
   "metadata": {},
   "source": [
    "accuracy_score(y_dev_true, get_predictions(\n",
    "    VectorsDistPredictor(threshold=88.8888888888889, normalize=False, norm_ord=1),\n",
    "    dev_samples))"
   ]
  },
  {
   "cell_type": "markdown",
   "id": "secret-double",
   "metadata": {},
   "source": [
    "Creating log-reg with params"
   ]
  },
  {
   "cell_type": "code",
   "execution_count": 20,
   "id": "dressed-blackjack",
   "metadata": {},
   "outputs": [],
   "source": [
    "from sklearn.linear_model import LogisticRegression\n",
    "from sklearn.model_selection import GridSearchCV\n",
    "import inspect"
   ]
  },
  {
   "cell_type": "code",
   "execution_count": 21,
   "id": "lyric-absolute",
   "metadata": {},
   "outputs": [],
   "source": [
    "def get_probs(predictor, samples):\n",
    "    return [predictor.predict_proba(sample['probs1'], sample['probs2']) for sample in samples]"
   ]
  },
  {
   "cell_type": "code",
   "execution_count": 22,
   "id": "extended-diana",
   "metadata": {},
   "outputs": [],
   "source": [
    "def construct_X_lr(base_predictors, samples):\n",
    "    predictors_train_probs = [get_probs(predictor, samples) for predictor in base_predictors]\n",
    "    return np.vstack(predictors_train_probs).T"
   ]
  },
  {
   "cell_type": "code",
   "execution_count": 23,
   "id": "mature-removal",
   "metadata": {},
   "outputs": [],
   "source": [
    "lr_base_predictors = [\n",
    "    CorrPredictor(threshold=None, stats_corr='pears'),\n",
    "    CorrPredictor(threshold=None, stats_corr='spearm'),\n",
    "    DiffPredictor(threshold=None, normalize=True),\n",
    "    #DiffPredictor(threshold=None, normalize=False),\n",
    "    #DivergencePredictor(threshold=None, divergence='Kullback–Leibler', normalize=True),\n",
    "    DivergencePredictor(threshold=None, divergence='Kullback–Leibler', normalize=False),\n",
    "    #DivergencePredictor(threshold=None, divergence='Jensen–Shannon', normalize=True),\n",
    "    DivergencePredictor(threshold=None, divergence='Jensen–Shannon', normalize=False)\n",
    "]\n",
    "\n",
    "X_train = construct_X_lr(lr_base_predictors, train_samples)\n",
    "X_dev = construct_X_lr(lr_base_predictors, dev_samples)"
   ]
  },
  {
   "cell_type": "code",
   "execution_count": 24,
   "id": "accessible-market",
   "metadata": {},
   "outputs": [
    {
     "name": "stdout",
     "output_type": "stream",
     "text": [
      "Best model params: {'C': 0.7368421052631579, 'penalty': 'l2'}\n",
      "Train accuracy: 0.7981226533166458\n",
      "Dev accuracy: 0.841\n"
     ]
    },
    {
     "name": "stderr",
     "output_type": "stream",
     "text": [
      "/Users/maxim_rachinskiy/Develop/Education/Coursework_2020-2021/MCL_WiC/venv/lib/python3.7/site-packages/sklearn/model_selection/_search.py:921: UserWarning: One or more of the test scores are non-finite: [       nan        nan        nan 0.79536921        nan 0.79612015\n",
      "        nan 0.79586984        nan 0.79574468        nan 0.79586984\n",
      "        nan 0.79624531        nan 0.79599499        nan 0.79624531\n",
      "        nan 0.79662078        nan 0.79674593        nan 0.79662078\n",
      "        nan 0.7971214         nan 0.79737171        nan 0.79749687\n",
      "        nan 0.79749687        nan 0.79737171        nan 0.79737171\n",
      "        nan 0.79724656        nan 0.79724656]\n",
      "  category=UserWarning\n"
     ]
    }
   ],
   "source": [
    "grid_params = {\n",
    "    'C': np.linspace(0, 1, 20),\n",
    "    'penalty': ['l1', 'l2']\n",
    "}\n",
    "\n",
    "lr = LogisticRegression(max_iter=300)\n",
    "clf = GridSearchCV(lr, param_grid=grid_params, cv=5, n_jobs=-1)\n",
    "\n",
    "clf.fit(X_train, y_train_true)\n",
    "print('Best model params:', clf.best_params_)\n",
    "best_clf = clf.best_estimator_\n",
    "print('Train accuracy:', accuracy_score(y_train_true, best_clf.predict(X_train)))\n",
    "print('Dev accuracy:', accuracy_score(y_dev_true, best_clf.predict(X_dev)))"
   ]
  },
  {
   "cell_type": "code",
   "execution_count": 236,
   "id": "employed-fields",
   "metadata": {},
   "outputs": [],
   "source": [
    "def get_obj_info(obj):\n",
    "    return obj.__class__.__name__ + \": \" + str(obj.__dict__)"
   ]
  },
  {
   "cell_type": "code",
   "execution_count": 237,
   "id": "liquid-justice",
   "metadata": {},
   "outputs": [
    {
     "data": {
      "text/html": [
       "<div>\n",
       "<style scoped>\n",
       "    .dataframe tbody tr th:only-of-type {\n",
       "        vertical-align: middle;\n",
       "    }\n",
       "\n",
       "    .dataframe tbody tr th {\n",
       "        vertical-align: top;\n",
       "    }\n",
       "\n",
       "    .dataframe thead th {\n",
       "        text-align: right;\n",
       "    }\n",
       "</style>\n",
       "<table border=\"1\" class=\"dataframe\">\n",
       "  <thead>\n",
       "    <tr style=\"text-align: right;\">\n",
       "      <th></th>\n",
       "      <th>coef</th>\n",
       "      <th>base_model</th>\n",
       "    </tr>\n",
       "  </thead>\n",
       "  <tbody>\n",
       "    <tr>\n",
       "      <th>0</th>\n",
       "      <td>0.461818</td>\n",
       "      <td>CorrPredictor: {'threshold': None, 'stats_corr': 'pears'}</td>\n",
       "    </tr>\n",
       "    <tr>\n",
       "      <th>1</th>\n",
       "      <td>0.358924</td>\n",
       "      <td>CorrPredictor: {'threshold': None, 'stats_corr': 'spearm'}</td>\n",
       "    </tr>\n",
       "    <tr>\n",
       "      <th>2</th>\n",
       "      <td>-0.420496</td>\n",
       "      <td>DiffPredictor: {'threshold': None, 'normalize': True}</td>\n",
       "    </tr>\n",
       "    <tr>\n",
       "      <th>3</th>\n",
       "      <td>-0.727151</td>\n",
       "      <td>DivergencePredictor: {'threshold': None, 'normalize': False, 'divergence': 'Kullback–Leibler'}</td>\n",
       "    </tr>\n",
       "    <tr>\n",
       "      <th>4</th>\n",
       "      <td>-4.458015</td>\n",
       "      <td>DivergencePredictor: {'threshold': None, 'normalize': False, 'divergence': 'Jensen–Shannon'}</td>\n",
       "    </tr>\n",
       "  </tbody>\n",
       "</table>\n",
       "</div>"
      ],
      "text/plain": [
       "       coef  \\\n",
       "0  0.461818   \n",
       "1  0.358924   \n",
       "2 -0.420496   \n",
       "3 -0.727151   \n",
       "4 -4.458015   \n",
       "\n",
       "                                                                                       base_model  \n",
       "0                                       CorrPredictor: {'threshold': None, 'stats_corr': 'pears'}  \n",
       "1                                      CorrPredictor: {'threshold': None, 'stats_corr': 'spearm'}  \n",
       "2                                           DiffPredictor: {'threshold': None, 'normalize': True}  \n",
       "3  DivergencePredictor: {'threshold': None, 'normalize': False, 'divergence': 'Kullback–Leibler'}  \n",
       "4    DivergencePredictor: {'threshold': None, 'normalize': False, 'divergence': 'Jensen–Shannon'}  "
      ]
     },
     "execution_count": 237,
     "metadata": {},
     "output_type": "execute_result"
    }
   ],
   "source": [
    "importance_df = pd.DataFrame({\n",
    "    'coef': best_clf.coef_[0],\n",
    "    'base_model': [get_obj_info(pred) for pred in lr_base_predictors]\n",
    "})\n",
    "\n",
    "pd.set_option('max_colwidth', None)\n",
    "importance_df.sort_values(by='coef', ascending=False)"
   ]
  },
  {
   "cell_type": "markdown",
   "id": "antique-plumbing",
   "metadata": {},
   "source": [
    "Analysis of train and dev dataset"
   ]
  },
  {
   "cell_type": "code",
   "execution_count": 20,
   "id": "minimal-console",
   "metadata": {},
   "outputs": [],
   "source": [
    "from sklearn.model_selection import KFold"
   ]
  },
  {
   "cell_type": "code",
   "execution_count": 21,
   "id": "attempted-shell",
   "metadata": {},
   "outputs": [],
   "source": [
    "def test_folds(predictor, samples, y_true, n_splits=8, random_state=42):\n",
    "    kf = KFold(n_splits=n_splits, shuffle=True, random_state=random_state)\n",
    "    samples_np = np.array(samples)\n",
    "    y_true_np = np.array(y_true)\n",
    "\n",
    "    for i, (_, test_index) in enumerate(kf.split(samples_np)):\n",
    "        y_train_pred = get_predictions(predictor, samples_np[test_index])\n",
    "        print(f'Fold #{i}', accuracy_score(y_true_np[test_index], y_train_pred))"
   ]
  },
  {
   "cell_type": "code",
   "execution_count": 22,
   "id": "infrared-helping",
   "metadata": {},
   "outputs": [],
   "source": [
    "div_predictor = DivergencePredictor(threshold=0.07357859531772575, divergence='Jensen–Shannon', normalize=False)"
   ]
  },
  {
   "cell_type": "code",
   "execution_count": 23,
   "id": "unauthorized-holder",
   "metadata": {},
   "outputs": [
    {
     "name": "stdout",
     "output_type": "stream",
     "text": [
      "Train results:\n",
      "Fold #0 0.8048048048048048\n",
      "Fold #1 0.7827827827827828\n",
      "Fold #2 0.8158158158158159\n",
      "Fold #3 0.7907907907907908\n",
      "Fold #4 0.7777777777777778\n",
      "Fold #5 0.7837837837837838\n",
      "Fold #6 0.7775551102204409\n",
      "Fold #7 0.7955911823647295\n"
     ]
    }
   ],
   "source": [
    "print('Train results:')\n",
    "test_folds(div_predictor, train_samples, y_train_true, n_splits=8, random_state=42)"
   ]
  },
  {
   "cell_type": "code",
   "execution_count": 24,
   "id": "fallen-lunch",
   "metadata": {},
   "outputs": [
    {
     "name": "stdout",
     "output_type": "stream",
     "text": [
      "Dev results:\n",
      "Fold #0 0.848\n",
      "Fold #1 0.848\n",
      "Fold #2 0.832\n",
      "Fold #3 0.864\n",
      "Fold #4 0.792\n",
      "Fold #5 0.832\n",
      "Fold #6 0.888\n",
      "Fold #7 0.816\n"
     ]
    }
   ],
   "source": [
    "print('Dev results:')\n",
    "test_folds(div_predictor, dev_samples, y_dev_true, n_splits=8, random_state=42)"
   ]
  },
  {
   "cell_type": "markdown",
   "id": "manufactured-parcel",
   "metadata": {},
   "source": [
    "Analysis of frequencies of words in train and dev"
   ]
  },
  {
   "cell_type": "code",
   "execution_count": 61,
   "id": "charged-syracuse",
   "metadata": {},
   "outputs": [],
   "source": [
    "from wordfreq import word_frequency"
   ]
  },
  {
   "cell_type": "code",
   "execution_count": 72,
   "id": "static-spread",
   "metadata": {},
   "outputs": [],
   "source": [
    "def calculate_frequencies(samples):\n",
    "    return [word_frequency(sample['lemma'], 'en') for sample in samples]"
   ]
  },
  {
   "cell_type": "code",
   "execution_count": 257,
   "id": "adult-modeling",
   "metadata": {},
   "outputs": [
    {
     "name": "stdout",
     "output_type": "stream",
     "text": [
      "Aver frequency for dev: 7.850000000000001e-06\n",
      "Aver frequency for train: 9.55e-06\n"
     ]
    }
   ],
   "source": [
    "dev_freqs = calculate_frequencies(dev_samples)\n",
    "train_freqs = calculate_frequencies(train_samples)\n",
    "\n",
    "print('Aver frequency for dev:', np.quantile(dev_freqs, q=0.5))\n",
    "print('Aver frequency for train:', np.quantile(train_freqs, q=0.5))"
   ]
  },
  {
   "cell_type": "code",
   "execution_count": 85,
   "id": "large-means",
   "metadata": {},
   "outputs": [
    {
     "data": {
      "image/png": "[encoded data removed]",
      "text/plain": [
       "<Figure size 1080x432 with 2 Axes>"
      ]
     },
     "metadata": {
      "needs_background": "light"
     },
     "output_type": "display_data"
    }
   ],
   "source": [
    "fig, axes = plt.subplots(1, 2, figsize=(15, 6))\n",
    "\n",
    "axes[0].hist(dev_freqs, log=True, density=True)\n",
    "axes[0].set_title('Dev')\n",
    "axes[1].hist(train_freqs, log=True, density=True)\n",
    "axes[1].set_title('Train');"
   ]
  },
  {
   "cell_type": "markdown",
   "id": "exact-safety",
   "metadata": {},
   "source": [
    "Analysis of senses number in train and dev"
   ]
  },
  {
   "cell_type": "code",
   "execution_count": 87,
   "id": "interior-restaurant",
   "metadata": {},
   "outputs": [],
   "source": [
    "def calculate_senses_numbers(samples):\n",
    "    return [len(sample['probs1']) for sample in samples]"
   ]
  },
  {
   "cell_type": "code",
   "execution_count": 88,
   "id": "blessed-concrete",
   "metadata": {},
   "outputs": [
    {
     "name": "stdout",
     "output_type": "stream",
     "text": [
      "Aver frequency for dev: 4.736\n",
      "Aver frequency for train: 4.899123904881101\n"
     ]
    }
   ],
   "source": [
    "dev_senses_numbers = calculate_senses_numbers(dev_samples)\n",
    "train_senses_numbers = calculate_senses_numbers(train_samples)\n",
    "\n",
    "print('Aver frequency for dev:', np.mean(dev_senses_numbers))\n",
    "print('Aver frequency for train:', np.mean(train_senses_numbers))"
   ]
  },
  {
   "cell_type": "code",
   "execution_count": 90,
   "id": "younger-turkey",
   "metadata": {},
   "outputs": [
    {
     "data": {
      "image/png": "[encoded data removed]",
      "text/plain": [
       "<Figure size 1080x432 with 2 Axes>"
      ]
     },
     "metadata": {
      "needs_background": "light"
     },
     "output_type": "display_data"
    }
   ],
   "source": [
    "fig, axes = plt.subplots(1, 2, figsize=(15, 6))\n",
    "\n",
    "axes[0].hist(dev_senses_numbers, log=True)\n",
    "axes[0].set_title('Dev')\n",
    "axes[1].hist(train_senses_numbers, log=True)\n",
    "axes[1].set_title('Train');"
   ]
  },
  {
   "cell_type": "markdown",
   "id": "behind-hungary",
   "metadata": {},
   "source": [
    "Submission"
   ]
  },
  {
   "cell_type": "code",
   "execution_count": 89,
   "id": "valid-playing",
   "metadata": {},
   "outputs": [],
   "source": [
    "def create_submission(samples, preds):\n",
    "    labels = ['T' if pred else 'F' for pred in preds]\n",
    "    submission = []\n",
    "    \n",
    "    for i in range(len(samples)):\n",
    "        current_pred = {\n",
    "            'id': samples[i]['id'],\n",
    "            'tag': labels[i]\n",
    "        }\n",
    "        submission.append(current_pred)\n",
    "        \n",
    "    return submission"
   ]
  },
  {
   "cell_type": "code",
   "execution_count": 27,
   "id": "olive-retail",
   "metadata": {},
   "outputs": [
    {
     "name": "stdout",
     "output_type": "stream",
     "text": [
      "0.556\n"
     ]
    }
   ],
   "source": [
    "div_predictor = DivergencePredictor(threshold=0.07357859531772575, divergence='Jensen–Shannon', normalize=False)\n",
    "\n",
    "test_preds = get_predictions(div_predictor, test_samples)\n",
    "print(sum(test_preds) / len(test_preds))"
   ]
  },
  {
   "cell_type": "code",
   "execution_count": 35,
   "id": "ready-membrane",
   "metadata": {},
   "outputs": [
    {
     "name": "stdout",
     "output_type": "stream",
     "text": [
      "[{'id': 'test.en-en.0', 'tag': 'F'}, {'id': 'test.en-en.1', 'tag': 'F'}, {'id': 'test.en-en.2', 'tag': 'T'}, {'id': 'test.en-en.3', 'tag': 'T'}, {'id': 'test.en-en.4', 'tag': 'T'}, {'id': 'test.en-en.5', 'tag': 'T'}, {'id': 'test.en-en.6', 'tag': 'T'}, {'id': 'test.en-en.7', 'tag': 'T'}, {'id': 'test.en-en.8', 'tag': 'T'}, {'id': 'test.en-en.9', 'tag': 'T'}]\n"
     ]
    }
   ],
   "source": [
    "submission = create_submission(test_samples, test_preds)\n",
    "\n",
    "with open('data/preds/test.en-en', 'w') as f:\n",
    "    json.dump(submission, f, indent=4)\n",
    "\n",
    "print(submission[:10])"
   ]
  },
  {
   "cell_type": "markdown",
   "id": "collected-cambridge",
   "metadata": {},
   "source": [
    "Experiments with translations"
   ]
  },
  {
   "cell_type": "code",
   "execution_count": 134,
   "id": "statewide-booking",
   "metadata": {},
   "outputs": [],
   "source": [
    "pred_dev_ru_filename = 'data/bem/dev_ar_ar_predictions.txt'\n",
    "data_dev_ru_files = 'data/translations_data/trans_dev.ar-en'\n",
    "\n",
    "pred_test_ru_filename = 'data/bem/test_ar_ar_predictions.txt'\n",
    "data_test_ru_files = 'data/translations_data/trans_test.ar-en'"
   ]
  },
  {
   "cell_type": "code",
   "execution_count": 135,
   "id": "unavailable-operations",
   "metadata": {},
   "outputs": [],
   "source": [
    "dev_ru_samples = construct_samples(data_dev_ru_files, pred_dev_ru_filename)\n",
    "test_ru_samples = construct_samples(data_test_ru_files, pred_test_ru_filename, with_labels=False)"
   ]
  },
  {
   "cell_type": "code",
   "execution_count": 136,
   "id": "extensive-festival",
   "metadata": {},
   "outputs": [],
   "source": [
    "def get_translated_predictions(predictor, samples):\n",
    "    preds = []\n",
    "    \n",
    "    for sample in samples:\n",
    "        if sample['match_count'] == 2:\n",
    "            if len(sample['probs1']) > 0:\n",
    "                preds.append(predictor.predict(sample['probs1'], sample['probs2']))\n",
    "            else:\n",
    "                preds.append(sample['is_trans_equal'])\n",
    "        elif sample['match_count'] == 1:\n",
    "            preds.append(False)\n",
    "        else:\n",
    "            preds.append(True)\n",
    "            \n",
    "    return preds"
   ]
  },
  {
   "cell_type": "code",
   "execution_count": 137,
   "id": "brilliant-poison",
   "metadata": {},
   "outputs": [
    {
     "data": {
      "text/plain": [
       "0.503"
      ]
     },
     "execution_count": 137,
     "metadata": {},
     "output_type": "execute_result"
    }
   ],
   "source": [
    "y_dev_ru_true = [sample['tag'] == 'T' for sample in dev_ru_samples]\n",
    "y_dev_ru_pred = get_translated_predictions(SimpleMatchPredictor(), dev_ru_samples)\n",
    "\n",
    "accuracy_score(y_dev_ru_true, y_dev_ru_pred)"
   ]
  },
  {
   "cell_type": "code",
   "execution_count": 138,
   "id": "early-dover",
   "metadata": {},
   "outputs": [],
   "source": [
    "def plot_translated_thresholds(predictor_class, samples, y_true, thresholds, **args):\n",
    "    scores = []\n",
    "\n",
    "    for threshold in thresholds:\n",
    "        y_pred = get_translated_predictions(predictor_class(threshold=threshold, **args), samples)\n",
    "        scores.append(accuracy_score(y_true, y_pred))\n",
    "\n",
    "    plt.plot(thresholds, scores)\n",
    "    \n",
    "    args_str = str(args) if len(args) > 0 else ''\n",
    "    plt.title(predictor_class.__name__ + ' ' + args_str)\n",
    "    plt.xlabel('thresholds')\n",
    "    plt.ylabel('accuracy')\n",
    "\n",
    "    print('Best score:', max(scores), 'at threshold:', thresholds[np.argmax(scores)])"
   ]
  },
  {
   "cell_type": "code",
   "execution_count": 139,
   "id": "interstate-terrorist",
   "metadata": {},
   "outputs": [
    {
     "name": "stdout",
     "output_type": "stream",
     "text": [
      "Best score: 0.504 at threshold: 0.05351170568561873\n"
     ]
    },
    {
     "data": {
      "image/png": "[encoded data removed]",
      "text/plain": [
       "<Figure size 432x288 with 1 Axes>"
      ]
     },
     "metadata": {
      "needs_background": "light"
     },
     "output_type": "display_data"
    }
   ],
   "source": [
    "plot_translated_thresholds(DivergencePredictor, dev_ru_samples, y_dev_ru_true, \n",
    "                           np.linspace(0, 1, 300), divergence='Jensen–Shannon', normalize=False)"
   ]
  },
  {
   "cell_type": "code",
   "execution_count": 85,
   "id": "demonstrated-excellence",
   "metadata": {},
   "outputs": [
    {
     "name": "stdout",
     "output_type": "stream",
     "text": [
      "Best score: 0.725 at threshold: 0.18729096989966554\n"
     ]
    },
    {
     "data": {
      "image/png": "[encoded data removed]",
      "text/plain": [
       "<Figure size 432x288 with 1 Axes>"
      ]
     },
     "metadata": {
      "needs_background": "light"
     },
     "output_type": "display_data"
    }
   ],
   "source": [
    "plot_translated_thresholds(DivergencePredictor, dev_ru_samples, y_dev_ru_true, \n",
    "                           np.linspace(0, 1, 300), divergence='Jensen–Shannon', normalize=False)"
   ]
  },
  {
   "cell_type": "markdown",
   "id": "empty-geneva",
   "metadata": {},
   "source": [
    "Submission"
   ]
  },
  {
   "cell_type": "code",
   "execution_count": 140,
   "id": "reserved-timer",
   "metadata": {},
   "outputs": [],
   "source": [
    "div_predictor = DivergencePredictor(threshold=0.05351170568561873, divergence='Jensen–Shannon', normalize=False)"
   ]
  },
  {
   "cell_type": "code",
   "execution_count": 141,
   "id": "dirty-alabama",
   "metadata": {},
   "outputs": [
    {
     "name": "stdout",
     "output_type": "stream",
     "text": [
      "0.983\n"
     ]
    }
   ],
   "source": [
    "test_preds = get_translated_predictions(div_predictor, test_ru_samples)\n",
    "print(sum(test_preds) / len(test_preds))"
   ]
  },
  {
   "cell_type": "code",
   "execution_count": 142,
   "id": "favorite-empire",
   "metadata": {},
   "outputs": [
    {
     "data": {
      "text/plain": [
       "[{'id': 'test.ar-ar.0',\n",
       "  'lemma': 'خَدَمَ',\n",
       "  'pos': 'VERB',\n",
       "  'sentence1': 'وكان ستون من مراقبي الشرطة هؤﻻء قد خدموا في اﻷمم المتحدة من قبل.',\n",
       "  'sentence2': 'وآخر فئة من الموظفين ينظر في أمر انهاء خدماتهم بشكل غير طوعي هم الخبراء والموظفون اﻷكفاء الذين خدموا المنظمة لفترات طويلة وساهموا في نجاح المنظمة.',\n",
       "  'start1': '35',\n",
       "  'end1': '40',\n",
       "  'start2': '95',\n",
       "  'end2': '100',\n",
       "  'trans_sentence1': 'Sixty of those police monitors had previously served in the United Nations.',\n",
       "  'trans_sentence2': 'The last category of staff considered for involuntary termination were experts and competent staff who had served the Organization for long periods and had contributed to the success of the Organization.',\n",
       "  'lemma_trans': [],\n",
       "  'match_count': 0,\n",
       "  'is_trans_equal': None,\n",
       "  'trans_start1': None,\n",
       "  'trans_end1': None,\n",
       "  'trans_start2': None,\n",
       "  'trans_end2': None,\n",
       "  'probs1': None,\n",
       "  'probs2': None},\n",
       " {'id': 'test.ar-ar.1',\n",
       "  'lemma': 'خَدَمَ',\n",
       "  'pos': 'VERB',\n",
       "  'sentence1': 'وكان ستون من مراقبي الشرطة هؤﻻء قد خدموا في اﻷمم المتحدة من قبل.',\n",
       "  'sentence2': 'وكما ورد في تعليقنا السابق، معظم اﻷطفال الجنود يخدمون حالياً في مجموعات مسلحة غير حكومية، وفي غياب مثل هذا الحكم، سيفقد البروتوكول اﻻختياري الكثير من قوته.',\n",
       "  'start1': '35',\n",
       "  'end1': '40',\n",
       "  'start2': '47',\n",
       "  'end2': '53',\n",
       "  'trans_sentence1': 'Sixty of those police monitors had previously served in the United Nations.',\n",
       "  'trans_sentence2': 'As stated in our previous comment, most child soldiers are currently serving in non-governmental armed groups and, in the absence of such a provision, the Optional Protocol will lose much of its strength.',\n",
       "  'lemma_trans': [],\n",
       "  'match_count': 0,\n",
       "  'is_trans_equal': None,\n",
       "  'trans_start1': None,\n",
       "  'trans_end1': None,\n",
       "  'trans_start2': None,\n",
       "  'trans_end2': None,\n",
       "  'probs1': None,\n",
       "  'probs2': None},\n",
       " {'id': 'test.ar-ar.2',\n",
       "  'lemma': 'نَاقَشَ',\n",
       "  'pos': 'VERB',\n",
       "  'sentence1': 'وناقشت أفرقة خبراء متعددة القوانين عبر اﻹقليمية والقوانين المتصلة بالمواد اﻹباحية المستغل فيها اﻷطفال.',\n",
       "  'sentence2': 'وناقش المشتركون في اﻻجتماع ١١ ورقة عمل، واستعرضوا التقدم المحرز في التعاون في ميدان التجارة والتنمية ووضعوا عدة توصيات من أجل اتخاذ إجراءات مستقبلية.',\n",
       "  'start1': '0',\n",
       "  'end1': '6',\n",
       "  'start2': '0',\n",
       "  'end2': '5',\n",
       "  'trans_sentence1': 'Multi-regional expert groups discussed cross-regional laws and laws relating to child pornography.',\n",
       "  'trans_sentence2': 'Participants discussed 11 working papers, reviewed progress made in cooperation in the field of trade and development and made several recommendations for future action.',\n",
       "  'lemma_trans': [],\n",
       "  'match_count': 0,\n",
       "  'is_trans_equal': None,\n",
       "  'trans_start1': None,\n",
       "  'trans_end1': None,\n",
       "  'trans_start2': None,\n",
       "  'trans_end2': None,\n",
       "  'probs1': None,\n",
       "  'probs2': None},\n",
       " {'id': 'test.ar-ar.3',\n",
       "  'lemma': 'نَاقَشَ',\n",
       "  'pos': 'VERB',\n",
       "  'sentence1': 'وناقشت أفرقة خبراء متعددة القوانين عبر اﻹقليمية والقوانين المتصلة بالمواد اﻹباحية المستغل فيها اﻷطفال.',\n",
       "  'sentence2': 'ووافق على أنه من اﻷفضل أن تناقش هذه المادة، مع ذكر هذه النقطة في دليل التشريع.',\n",
       "  'start1': '0',\n",
       "  'end1': '6',\n",
       "  'start2': '26',\n",
       "  'end2': '31',\n",
       "  'trans_sentence1': 'Multi-regional expert groups discussed cross-regional laws and laws relating to child pornography.',\n",
       "  'trans_sentence2': 'He agreed that it would be preferable to discuss the article, with that point mentioned in the Guide to Enactment.',\n",
       "  'lemma_trans': [],\n",
       "  'match_count': 0,\n",
       "  'is_trans_equal': None,\n",
       "  'trans_start1': None,\n",
       "  'trans_end1': None,\n",
       "  'trans_start2': None,\n",
       "  'trans_end2': None,\n",
       "  'probs1': None,\n",
       "  'probs2': None},\n",
       " {'id': 'test.ar-ar.4',\n",
       "  'lemma': 'فَهِمَ',\n",
       "  'pos': 'VERB',\n",
       "  'sentence1': 'ويرى الوزير أنه لا يزال يتعين على أفراد الشعب العاديين أن يفهموا أن التعذيب ممارسة غير قانونية وغير مقبولة.',\n",
       "  'sentence2': 'وقال إنه يفهم أن اللجنة ترغب في اتباع اﻹجراء ذاته في الدورة الحالية.',\n",
       "  'start1': '58',\n",
       "  'end1': '64',\n",
       "  'start2': '9',\n",
       "  'end2': '13',\n",
       "  'trans_sentence1': 'According to the Minister, ordinary people still have to understand that torture is illegal and unacceptable.',\n",
       "  'trans_sentence2': 'He took it that the Committee wished to follow the same procedure at the current session.',\n",
       "  'lemma_trans': [],\n",
       "  'match_count': 0,\n",
       "  'is_trans_equal': None,\n",
       "  'trans_start1': None,\n",
       "  'trans_end1': None,\n",
       "  'trans_start2': None,\n",
       "  'trans_end2': None,\n",
       "  'probs1': None,\n",
       "  'probs2': None}]"
      ]
     },
     "execution_count": 142,
     "metadata": {},
     "output_type": "execute_result"
    }
   ],
   "source": [
    "test_ru_samples[:5]"
   ]
  },
  {
   "cell_type": "code",
   "execution_count": 143,
   "id": "emerging-cowboy",
   "metadata": {},
   "outputs": [
    {
     "name": "stdout",
     "output_type": "stream",
     "text": [
      "[{'id': 'test.ar-ar.0', 'tag': 'T'}, {'id': 'test.ar-ar.1', 'tag': 'T'}, {'id': 'test.ar-ar.2', 'tag': 'T'}, {'id': 'test.ar-ar.3', 'tag': 'T'}, {'id': 'test.ar-ar.4', 'tag': 'T'}, {'id': 'test.ar-ar.5', 'tag': 'T'}, {'id': 'test.ar-ar.6', 'tag': 'T'}, {'id': 'test.ar-ar.7', 'tag': 'T'}, {'id': 'test.ar-ar.8', 'tag': 'T'}, {'id': 'test.ar-ar.9', 'tag': 'T'}]\n"
     ]
    }
   ],
   "source": [
    "submission = create_submission(test_ru_samples, test_preds)\n",
    "\n",
    "with open('data/preds/test.ar-ar', 'w') as f:\n",
    "    json.dump(submission, f, indent=4)\n",
    "\n",
    "print(submission[:10])"
   ]
  },
  {
   "cell_type": "code",
   "execution_count": null,
   "id": "split-basic",
   "metadata": {},
   "outputs": [],
   "source": []
  }
 ],
 "metadata": {
  "kernelspec": {
   "display_name": "Python 3",
   "language": "python",
   "name": "python3"
  },
  "language_info": {
   "codemirror_mode": {
    "name": "ipython",
    "version": 3
   },
   "file_extension": ".py",
   "mimetype": "text/x-python",
   "name": "python",
   "nbconvert_exporter": "python",
   "pygments_lexer": "ipython3",
   "version": "3.7.3"
  }
 },
 "nbformat": 4,
 "nbformat_minor": 5
}
