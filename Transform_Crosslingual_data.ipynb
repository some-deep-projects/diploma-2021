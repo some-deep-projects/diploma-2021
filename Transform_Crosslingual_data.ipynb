{
 "cells": [
  {
   "cell_type": "code",
   "execution_count": 1,
   "id": "buried-innocent",
   "metadata": {},
   "outputs": [],
   "source": [
    "import json"
   ]
  },
  {
   "cell_type": "code",
   "execution_count": 14,
   "id": "electric-duncan",
   "metadata": {},
   "outputs": [],
   "source": [
    "origin_path = 'data/MCL-WiC/test/crosslingual/test.en-zh.data'\n",
    "transformed_path = 'data/MCL-WiC/test/crosslingual_transformed/test.en-zh.data'"
   ]
  },
  {
   "cell_type": "code",
   "execution_count": 15,
   "id": "composite-input",
   "metadata": {},
   "outputs": [
    {
     "data": {
      "text/plain": [
       "1000"
      ]
     },
     "execution_count": 15,
     "metadata": {},
     "output_type": "execute_result"
    }
   ],
   "source": [
    "with open(origin_path) as f:\n",
    "    samples = json.load(f)\n",
    "    \n",
    "len(samples)"
   ]
  },
  {
   "cell_type": "code",
   "execution_count": 16,
   "id": "civil-wright",
   "metadata": {},
   "outputs": [
    {
     "data": {
      "text/plain": [
       "{'id': 'test.en-zh.0',\n",
       " 'lemma': 'gently',\n",
       " 'pos': 'ADV',\n",
       " 'sentence1': \"Unfortunately, that pressure seemed to have had some effect, and the Islamic Republic of Iran had been treated more gently in the 2008 Chairman's working paper.\",\n",
       " 'sentence2': '在这十年期间，实际商品价格属于缓慢上升趋势。',\n",
       " 'start1': 116,\n",
       " 'end1': 122,\n",
       " 'start2': 15,\n",
       " 'end2': 17}"
      ]
     },
     "execution_count": 16,
     "metadata": {},
     "output_type": "execute_result"
    }
   ],
   "source": [
    "for sample in samples:\n",
    "    range_1 = sample['ranges1']\n",
    "    range_2 = sample['ranges2']\n",
    "    \n",
    "    del sample['ranges1']\n",
    "    del sample['ranges2']\n",
    "    \n",
    "    if range_1.count('-') > 1:\n",
    "        range_1 = range_1.split(',')[-1]\n",
    "    if range_2.count('-') > 1:\n",
    "        range_2 = range_2.split(',')[-1]\n",
    "        \n",
    "    start_1, end_1 = range_1.split('-')\n",
    "    sample['start1'], sample['end1'] = int(start_1), int(end_1)\n",
    "    \n",
    "    start_2, end_2 = range_2.split('-')\n",
    "    sample['start2'], sample['end2'] = int(start_2), int(end_2)\n",
    "    \n",
    "samples[0]"
   ]
  },
  {
   "cell_type": "code",
   "execution_count": 17,
   "id": "multiple-bunny",
   "metadata": {},
   "outputs": [],
   "source": [
    "with open(transformed_path, 'w', encoding='utf-8') as f:\n",
    "    json.dump(samples, f, indent=4, ensure_ascii=False)"
   ]
  },
  {
   "cell_type": "code",
   "execution_count": null,
   "id": "accepting-republican",
   "metadata": {},
   "outputs": [],
   "source": []
  }
 ],
 "metadata": {
  "kernelspec": {
   "display_name": "Python 3",
   "language": "python",
   "name": "python3"
  },
  "language_info": {
   "codemirror_mode": {
    "name": "ipython",
    "version": 3
   },
   "file_extension": ".py",
   "mimetype": "text/x-python",
   "name": "python",
   "nbconvert_exporter": "python",
   "pygments_lexer": "ipython3",
   "version": "3.7.3"
  }
 },
 "nbformat": 4,
 "nbformat_minor": 5
}
