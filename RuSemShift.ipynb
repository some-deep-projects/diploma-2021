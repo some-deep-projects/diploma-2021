{
 "cells": [
  {
   "cell_type": "code",
   "execution_count": 2,
   "id": "pointed-aquatic",
   "metadata": {},
   "outputs": [],
   "source": [
    "import re\n",
    "import json\n",
    "import pandas as pd\n",
    "import matplotlib.pyplot as plt"
   ]
  },
  {
   "cell_type": "code",
   "execution_count": 2,
   "id": "greatest-evidence",
   "metadata": {},
   "outputs": [],
   "source": [
    "def semshift2wic(semshift_raw, set_prefix, mode='median'):\n",
    "    df = pd.read_csv(semshift_raw, sep='\\t')\n",
    "    data, data_labels = [], []\n",
    "\n",
    "    def extract_spans(string):\n",
    "        regex = re.compile(r'(?P<start><b><i>)(?P<word>\\w+)(?P<nonalpha>\\W*)(?P<end><\\/i><\\/b>)')\n",
    "        spans = []\n",
    "        while True:\n",
    "            match = regex.search(string)\n",
    "            if match is None:\n",
    "                break\n",
    "            start = len(string[:match.start('start')])\n",
    "            end = match.end('word') - len('<b><i>')\n",
    "            string = \\\n",
    "                string[:match.start('start')] + \\\n",
    "                string[match.start('word'):match.end('nonalpha')] + \\\n",
    "                string[match.end('end'):]\n",
    "            spans.append((start, end))\n",
    "        return spans, string\n",
    "\n",
    "    ex_id = 0\n",
    "    for row_id, row in enumerate(df.itertuples()):\n",
    "        lemma = row.word\n",
    "        pos = 'NOUN'\n",
    "        sent1_spans, sent1 = extract_spans(row.sent1)\n",
    "        sent2_spans, sent2 = extract_spans(row.sent2)\n",
    "        for (s1, e1) in sent1_spans:\n",
    "            for (s2, e2) in sent2_spans:\n",
    "                idx = f'{set_prefix}.{ex_id}'\n",
    "                ex_id += 1\n",
    "                example = {\n",
    "                    'id': idx,\n",
    "                    'lemma': lemma,\n",
    "                    'pos': pos,\n",
    "                    'sentence1': sent1,\n",
    "                    'sentence2': sent2,\n",
    "                    'start1': s1,\n",
    "                    'end1': e1,\n",
    "                    'start2': s2,\n",
    "                    'end2': e2,\n",
    "                    'grp': row.group\n",
    "                }\n",
    "                if mode == 'median':\n",
    "                    score = sorted([row.annotator1, row.annotator2, row.annotator3, row.annotator4, row.annotator5])[2]\n",
    "                elif mode == 'mean':\n",
    "                    score = row.mean\n",
    "\n",
    "                if score >= 3.0:\n",
    "                    tag = 'T'\n",
    "                elif score <= 2.0:\n",
    "                    tag = 'F'\n",
    "                else:\n",
    "                    continue\n",
    "\n",
    "                label = {\n",
    "                    'id': idx,\n",
    "                    'tag': tag,\n",
    "                    'row': row_id,\n",
    "                    'score': score\n",
    "                }\n",
    "                data.append(example)\n",
    "                data_labels.append(label)\n",
    "\n",
    "    return data, data_labels"
   ]
  },
  {
   "cell_type": "code",
   "execution_count": 3,
   "id": "several-jumping",
   "metadata": {},
   "outputs": [],
   "source": [
    "data, data_labels = semshift2wic('data/RuSemShift/rusemshift_1_raw_annotations.tsv', 'dev.rusemshift_1')"
   ]
  },
  {
   "cell_type": "code",
   "execution_count": 15,
   "id": "greenhouse-cuisine",
   "metadata": {},
   "outputs": [],
   "source": [
    "with open('data/RuSemShift/dev.rusemshift_1.data', 'w', encoding='utf-8') as data_f:\n",
    "    json.dump(data, data_f, indent=4, ensure_ascii=False)\n",
    "with open('data/RuSemShift/dev.rusemshift_1.gold', 'w', encoding='utf-8') as labels_f:\n",
    "    json.dump(data_labels, labels_f, indent=4, ensure_ascii=False)"
   ]
  },
  {
   "cell_type": "code",
   "execution_count": 16,
   "id": "changed-hypothetical",
   "metadata": {},
   "outputs": [],
   "source": [
    "data, data_labels = semshift2wic('data/RuSemShift/rusemshift_2_raw_annotations.tsv', 'dev.rusemshift_2')"
   ]
  },
  {
   "cell_type": "code",
   "execution_count": 17,
   "id": "suspected-association",
   "metadata": {},
   "outputs": [],
   "source": [
    "with open('data/RuSemShift/dev.rusemshift_2.data', 'w', encoding='utf-8') as data_f:\n",
    "    json.dump(data, data_f, indent=4, ensure_ascii=False)\n",
    "with open('data/RuSemShift/dev.rusemshift_2.gold', 'w', encoding='utf-8') as labels_f:\n",
    "    json.dump(data_labels, labels_f, indent=4, ensure_ascii=False)"
   ]
  },
  {
   "cell_type": "code",
   "execution_count": 9,
   "id": "adjustable-hardwood",
   "metadata": {},
   "outputs": [
    {
     "name": "stdout",
     "output_type": "stream",
     "text": [
      "3370\n",
      "{'id': 'dev.rusemshift_1.3370', 'lemma': 'стиль', 'pos': 'NOUN', 'sentence1': 'Индеец хотел поразить Ихтиандра и повел его по главным улицам города -- Авенида Альвар, Вертис, показал площадь Виктории с кафедральным собором и ратушей в мавританском стиле, площадь Фуэрто и площадь Двадцать пятого мая [25 мая 1810 года провинции Ла-Плата образовали революционный союз -- \"Хунту\", арестовали местную власть, провозгласили временное правительство и отделились от Испании.] с обелиском Свободы, окруженным прекрасными деревьями, президентский дворец.', 'sentence2': 'Попытаемся представить себе фотографа в соломенном сомбреро, в сношенных сандалиях на больших пыльных ступнях загорелых ног; август, набережная, толпа, фоном -- фонтан и корпуса санатория, построенного в большом стиле конца тридцатых годов; группа здешних отдыхающих сбилась в кучу, и молодцу в сомбреро не сразу удается обуздать это пугливое и бестолковое стадо; но вот наконец мало-мальски пристойный порядок достигнут, отдыхающие построились и пооткрывали рты, уставясь в окошко камеры; птичка выпорхнула, и фотограф отер пот со лба; теперь -- увеличение: обладай наш юноша чуть большим воображением (впрочем, это лишь синоним любопытства), он задался бы вопросом, с чего крашенной перекисью водорода бабенке, четвертой справа во втором ряду, извлекать свое изображение из душноватой глянцевой прошлогодней мути нерезкого халтурного курортного фото И зачем тиражировать немолодую женщину в залихватски напяленной бесформенной панаме и больших пляжных очках, за которыми вовсе не видно ни глаз ее, ни меленьких черт лица, и этого вот гражданина в носках и ботинках, хоть и жарища несусветная, со стальными зубами (в одной руке у него женская пляжная сумка, другая робко водружена -- ради цельности композиции, надо полагать, -- на толстую шею соседки; она же -- игриво напряжена, смотрит в камеру, как на стартовый пистолет, с тем чтоб через мгновение после спуска затвора кокетливо высвободиться из неловкого объятия) Так и застыли они навеки: стыдливый охотник с ненатуральной стальной улыбкой и пугливая счастливая курочка, лелеющая свой многообещающий испуг, -- и какова будет судьба этих, новых отпечатков Пошлет ли она ему их заказным письмом, тайно надеясь если не разрушить провинциальную семью пансионатского ловеласа, то хоть лягнуть его жену, напомнить о себе и о своей уступчивости (привыкли, что для них все легко и даром); или же, всплакнув (сарафанчик-то хорошо сидел, удачные были и фасон, и рисунок), спрячет в ящик комода к другим дорогим вещам, как то: старая трудовая книжка, новая пенсионная, оплаченные еще в том году междугородные телефонные счета, книжка сберегательная, книжка платежей за коммунальные услуги, паспорт с просроченным гарантийным талоном на починку швейной машинки и несколько поздравительных открыток со знаменами, цветами и добродушным Дедом Морозом, а также чудом завалившийся старый-престарый карманный календарь с аккуратно отмеченными \"', 'start1': 169, 'end1': 174, 'start2': 212, 'end2': 217, 'grp': 'LATER'}\n",
      "стиле\n",
      "340\n",
      "340\n"
     ]
    }
   ],
   "source": [
    "lens = []\n",
    "\n",
    "for i, sample in enumerate(data):\n",
    "    lens.append(len(sample['sentence1'].split()))\n",
    "    lens.append(len(sample['sentence2'].split()))\n",
    "    \n",
    "    if i == 6741 // 2:\n",
    "        print(i)\n",
    "        print(sample)\n",
    "        print(sample['sentence2'][sample['start2']:sample['end2']])\n",
    "        print(len(sample['sentence2'].split()))\n",
    "    \n",
    "#     if (lens[-1] == 2842 or lens[-2] == 2842):\n",
    "#         print(sample)\n",
    "#         print(i)\n",
    "    \n",
    "print(max(lens))"
   ]
  },
  {
   "cell_type": "code",
   "execution_count": 24,
   "id": "adequate-night",
   "metadata": {},
   "outputs": [
    {
     "data": {
      "text/plain": [
       "0.25701881331403764"
      ]
     },
     "execution_count": 24,
     "metadata": {},
     "output_type": "execute_result"
    }
   ],
   "source": [
    "1776 / (len(data) * 2)"
   ]
  },
  {
   "cell_type": "code",
   "execution_count": 31,
   "id": "other-corps",
   "metadata": {},
   "outputs": [
    {
     "data": {
      "text/plain": [
       "100"
      ]
     },
     "execution_count": 31,
     "metadata": {},
     "output_type": "execute_result"
    }
   ],
   "source": [
    "with open('data/eval_12_True_True/1-2_2.data') as f:\n",
    "    train_data = json.load(f)\n",
    "    \n",
    "len(train_data)"
   ]
  },
  {
   "cell_type": "code",
   "execution_count": 32,
   "id": "separate-costs",
   "metadata": {},
   "outputs": [
    {
     "data": {
      "text/plain": [
       "{'id': 'test.scd_2.60',\n",
       " 'lemma': 'апостол',\n",
       " 'pos': 'NOUN',\n",
       " 'sentence1': 'Существовали легенды о видениях воскресшего Лазаря, апостола Павла и множество других, из которых самыми значительными и распространенными в ХII веке были три загробные видения ирландского происхождения: \"Путешествие св.',\n",
       " 'sentence2': 'Дай мне обстоятельства, при которых я мог бы вырасти в полную меру возраста Христова, как говорит апостол Павел (Еф. 4,13).',\n",
       " 'start1': 52,\n",
       " 'end1': 60,\n",
       " 'start2': 98,\n",
       " 'end2': 105,\n",
       " 'grp': 'COMPARE'}"
      ]
     },
     "execution_count": 32,
     "metadata": {},
     "output_type": "execute_result"
    }
   ],
   "source": [
    "train_data[60]"
   ]
  },
  {
   "cell_type": "code",
   "execution_count": null,
   "id": "fifth-present",
   "metadata": {},
   "outputs": [],
   "source": []
  }
 ],
 "metadata": {
  "kernelspec": {
   "display_name": "Python 3",
   "language": "python",
   "name": "python3"
  },
  "language_info": {
   "codemirror_mode": {
    "name": "ipython",
    "version": 3
   },
   "file_extension": ".py",
   "mimetype": "text/x-python",
   "name": "python",
   "nbconvert_exporter": "python",
   "pygments_lexer": "ipython3",
   "version": "3.7.3"
  }
 },
 "nbformat": 4,
 "nbformat_minor": 5
}
