{
 "cells": [
  {
   "cell_type": "markdown",
   "id": "thirty-dating",
   "metadata": {},
   "source": [
    "Only made to test numpy array"
   ]
  },
  {
   "cell_type": "code",
   "execution_count": 1,
   "id": "pointed-aquatic",
   "metadata": {},
   "outputs": [],
   "source": [
    "import re\n",
    "import os\n",
    "import json\n",
    "import numpy as np\n",
    "import pandas as pd\n",
    "import random\n",
    "import matplotlib.pyplot as plt\n",
    "from collections import defaultdict"
   ]
  },
  {
   "cell_type": "markdown",
   "id": "legislative-degree",
   "metadata": {},
   "source": [
    "# Merging data from NKRYa into one json"
   ]
  },
  {
   "cell_type": "code",
   "execution_count": 5,
   "id": "endless-spectrum",
   "metadata": {},
   "outputs": [],
   "source": [
    "words_num = 99\n",
    "data_files_format = 'data/RuShiftEval/test/eval_23_True_True/2-3_{0}.data'"
   ]
  },
  {
   "cell_type": "code",
   "execution_count": 6,
   "id": "configured-celtic",
   "metadata": {},
   "outputs": [],
   "source": [
    "def load_words(data_files_format, words_num=99):\n",
    "    all_words = []\n",
    "    \n",
    "    for word_id in range(words_num):\n",
    "        current_file = data_files_format.format(word_id)\n",
    "        with open(current_file) as f:\n",
    "            word_examples = json.load(f)\n",
    "            all_words.extend(word_examples)\n",
    "            \n",
    "    return all_words"
   ]
  },
  {
   "cell_type": "code",
   "execution_count": 7,
   "id": "completed-determination",
   "metadata": {},
   "outputs": [
    {
     "data": {
      "text/plain": [
       "9149"
      ]
     },
     "execution_count": 7,
     "metadata": {},
     "output_type": "execute_result"
    }
   ],
   "source": [
    "all_words = load_words(data_files_format, words_num=words_num)\n",
    "\n",
    "len(all_words)"
   ]
  },
  {
   "cell_type": "code",
   "execution_count": 46,
   "id": "urban-softball",
   "metadata": {},
   "outputs": [
    {
     "data": {
      "text/plain": [
       "{'id': 'test.scd_2.31',\n",
       " 'lemma': 'апостол',\n",
       " 'pos': 'NOUN',\n",
       " 'sentence1': 'Ложные пророки ее и апостолы -- Юнг-Штиллинг, Эккартсгаузен, Гион, Беме, Лабзин, Госнер, Фесслер, методисты, гернгутеры\"...',\n",
       " 'sentence2': 'Муки совести, трагедийное чувство вины приобретают у Петрухи едва ли не христианский характер и отделяют его от остальных \"апостолов\" нового мира, идущих \"без имени святого\".',\n",
       " 'start1': 20,\n",
       " 'end1': 28,\n",
       " 'start2': 123,\n",
       " 'end2': 132,\n",
       " 'grp': 'COMPARE'}"
      ]
     },
     "execution_count": 46,
     "metadata": {},
     "output_type": "execute_result"
    }
   ],
   "source": [
    "all_words[200]"
   ]
  },
  {
   "cell_type": "code",
   "execution_count": 47,
   "id": "associate-harris",
   "metadata": {},
   "outputs": [],
   "source": [
    "with open('data/RuShiftEval/test/eval_23.json', 'w', encoding='utf-8') as f:\n",
    "    json.dump(all_words, f, indent=4, ensure_ascii=False)"
   ]
  },
  {
   "cell_type": "markdown",
   "id": "sublime-production",
   "metadata": {},
   "source": [
    "# Getting average score per word"
   ]
  },
  {
   "cell_type": "code",
   "execution_count": 26,
   "id": "neutral-underwear",
   "metadata": {},
   "outputs": [],
   "source": [
    "preds_filename = 'data/RuShiftEval/RuShiftEvalPreds/base_raw/preds_eval_23.json'\n",
    "data_files_format = 'data/RuShiftEval/test/eval_23_True_True/2-3_{0}.data'\n",
    "output_epochs_filename = 'data/RuShiftEval/RuShiftEvalPreds/words_23.json'"
   ]
  },
  {
   "cell_type": "code",
   "execution_count": 27,
   "id": "eleven-corrections",
   "metadata": {},
   "outputs": [
    {
     "data": {
      "text/plain": [
       "9149"
      ]
     },
     "execution_count": 27,
     "metadata": {},
     "output_type": "execute_result"
    }
   ],
   "source": [
    "all_words = load_words(data_files_format, words_num=words_num)\n",
    "all_words = {word['id']: word for word in all_words}\n",
    "\n",
    "len(all_words)"
   ]
  },
  {
   "cell_type": "code",
   "execution_count": 28,
   "id": "parental-lotus",
   "metadata": {},
   "outputs": [],
   "source": [
    "class VectorsDotPredictor:\n",
    "    def __init__(self, threshold=None, normalize=True, norm_ord=2):\n",
    "        self.threshold = threshold\n",
    "        self.normalize = normalize\n",
    "        self.norm_ord = norm_ord\n",
    "    \n",
    "    def predict(self, out_vector_1, out_vector_2):\n",
    "        return self.predict_proba(out_vector_1, out_vector_2) > self.threshold\n",
    "    \n",
    "    def predict_proba(self, out_vector_1, out_vector_2):\n",
    "        out_vector_1 = np.array(out_vector_1, dtype='float64')\n",
    "        out_vector_2 = np.array(out_vector_2, dtype='float64')\n",
    "#         print(out_vector_1)\n",
    "#         print(out_vector_1 * out_vector_2)\n",
    "        \n",
    "        if self.normalize:\n",
    "            out_vector_1 /= np.linalg.norm(out_vector_1, ord=self.norm_ord)\n",
    "            out_vector_2 /= np.linalg.norm(out_vector_2, ord=self.norm_ord)\n",
    "            \n",
    "        return np.sum(out_vector_1 * out_vector_2)"
   ]
  },
  {
   "cell_type": "code",
   "execution_count": 29,
   "id": "opponent-illustration",
   "metadata": {},
   "outputs": [],
   "source": [
    "class VectorsDistPredictor:\n",
    "    def __init__(self, threshold, normalize=True, norm_ord=2):\n",
    "        self.threshold = threshold\n",
    "        self.normalize = normalize\n",
    "        self.norm_ord = norm_ord\n",
    "    \n",
    "    def predict(self, out_vector_1, out_vector_2):\n",
    "        return self.predict_proba(out_vector_1, out_vector_2) < self.threshold\n",
    "    \n",
    "    def predict_proba(self, out_vector_1, out_vector_2):\n",
    "        out_vector_1 = np.array(out_vector_1)\n",
    "        out_vector_2 = np.array(out_vector_2)\n",
    "        \n",
    "        if self.normalize:\n",
    "            out_vector_1 /= np.linalg.norm(out_vector_1, ord=self.norm_ord)\n",
    "            out_vector_2 /= np.linalg.norm(out_vector_2, ord=self.norm_ord)\n",
    "        \n",
    "        return np.linalg.norm(out_vector_1 - out_vector_2, ord=self.norm_ord)"
   ]
  },
  {
   "cell_type": "code",
   "execution_count": 30,
   "id": "central-secretary",
   "metadata": {},
   "outputs": [],
   "source": [
    "with open(preds_filename) as f:\n",
    "    eval_samples = json.load(f)"
   ]
  },
  {
   "cell_type": "code",
   "execution_count": 31,
   "id": "understood-million",
   "metadata": {},
   "outputs": [
    {
     "data": {
      "text/plain": [
       "99"
      ]
     },
     "execution_count": 31,
     "metadata": {},
     "output_type": "execute_result"
    }
   ],
   "source": [
    "word_to_dists = defaultdict(list)\n",
    "# predictor = VectorsDistPredictor(threshold=None, normalize=True, norm_ord=1)\n",
    "# predictor = VectorsDistPredictor(threshold=None, normalize=True, norm_ord=2)\n",
    "predictor = VectorsDotPredictor(threshold=None, normalize=False)\n",
    "\n",
    "for sample in eval_samples:\n",
    "    dist = predictor.predict_proba(sample['context_output1'], sample['context_output2'])\n",
    "    current_lemma = all_words[sample['id']]['lemma']\n",
    "    word_to_dists[current_lemma].append(dist)\n",
    "    \n",
    "len(word_to_dists)"
   ]
  },
  {
   "cell_type": "code",
   "execution_count": 32,
   "id": "dedicated-siemens",
   "metadata": {},
   "outputs": [
    {
     "data": {
      "text/plain": [
       "99"
      ]
     },
     "execution_count": 32,
     "metadata": {},
     "output_type": "execute_result"
    }
   ],
   "source": [
    "word_to_score = {}\n",
    "\n",
    "for word, dists in word_to_dists.items():\n",
    "    word_to_score[word] = np.mean(dists)    \n",
    "        \n",
    "len(word_to_score)"
   ]
  },
  {
   "cell_type": "code",
   "execution_count": 33,
   "id": "immediate-being",
   "metadata": {},
   "outputs": [],
   "source": [
    "with open(output_epochs_filename, 'w', encoding='utf-8') as f:\n",
    "    json.dump(word_to_score, f, indent=4, ensure_ascii=False)"
   ]
  },
  {
   "cell_type": "code",
   "execution_count": 34,
   "id": "cooked-wilson",
   "metadata": {
    "scrolled": true
   },
   "outputs": [
    {
     "data": {
      "text/plain": [
       "{'авторитет': 366.79812865806343,\n",
       " 'амбиция': 367.2768907843167,\n",
       " 'апостол': 369.0906733970125,\n",
       " 'благодарность': 365.20261136022253,\n",
       " 'блин': 363.41510445376525,\n",
       " 'блондин': 370.37098893158674,\n",
       " 'брат': 368.13799579496975,\n",
       " 'бригада': 368.29423997031097,\n",
       " 'веер': 362.9078374413895,\n",
       " 'век': 367.7791638279774,\n",
       " 'вызов': 364.20412905834326,\n",
       " 'головка': 365.30238379794594,\n",
       " 'грех': 366.09194974951345,\n",
       " 'дух': 368.10210429092854,\n",
       " 'дядька': 369.2114265593414,\n",
       " 'дядя': 370.40724664777485,\n",
       " 'железо': 364.3310378177398,\n",
       " 'жесть': 362.77303997994716,\n",
       " 'живот': 365.4523285382051,\n",
       " 'заблуждение': 366.99401648342604,\n",
       " 'издательство': 371.3032522249927,\n",
       " 'итальянец': 368.59500079573127,\n",
       " 'кабан': 364.6686926602189,\n",
       " 'карман': 364.49243658502945,\n",
       " 'крушение': 366.4311744643492,\n",
       " 'крыша': 365.9442301309654,\n",
       " 'кулиса': 362.67314967980616,\n",
       " 'лечение': 371.56879414880854,\n",
       " 'линейка': 365.29516780343414,\n",
       " 'лишение': 367.42099087312204,\n",
       " 'локоть': 363.2901587669237,\n",
       " 'любовник': 368.3733397283336,\n",
       " 'любовь': 370.07097228106664,\n",
       " 'маньяк': 366.8877597219947,\n",
       " 'монстр': 367.5994178496966,\n",
       " 'наволочка': 364.3319336342216,\n",
       " 'название': 368.4617269503295,\n",
       " 'наложение': 363.9846375761006,\n",
       " 'облако': 365.5880969487646,\n",
       " 'обоснование': 368.5151127748551,\n",
       " 'огонь': 366.3584989542765,\n",
       " 'памятник': 368.79405094366456,\n",
       " 'пафос': 364.14790635450777,\n",
       " 'писк': 363.61002098787685,\n",
       " 'план': 369.10651030012446,\n",
       " 'поколение': 371.68228015448847,\n",
       " 'половинка': 364.08896688362057,\n",
       " 'полоса': 364.89384757893544,\n",
       " 'полость': 365.5357478298017,\n",
       " 'полукруг': 362.262127074612,\n",
       " 'понедельник': 368.84404042231216,\n",
       " 'поставщик': 369.6731535142647,\n",
       " 'поэзия': 369.98139844867205,\n",
       " 'правда': 366.4389402815808,\n",
       " 'предательство': 367.54679891082196,\n",
       " 'прецедент': 365.77960474238085,\n",
       " 'проникновение': 368.0000268186754,\n",
       " 'прорыв': 364.95546625263415,\n",
       " 'путь': 371.47583444439164,\n",
       " 'размышление': 367.96878979962605,\n",
       " 'ранец': 363.1418807715845,\n",
       " 'расчет': 364.3106712993515,\n",
       " 'риторика': 367.83043514415704,\n",
       " 'роспись': 367.1111261131057,\n",
       " 'сверстник': 367.5369436413398,\n",
       " 'связка': 363.8716182739818,\n",
       " 'собрат': 366.9218431917188,\n",
       " 'совершенство': 367.94219235460497,\n",
       " 'советчик': 366.68861236115663,\n",
       " 'союзник': 369.74976141544505,\n",
       " 'список': 368.8166049037261,\n",
       " 'ссылка': 367.42466001329797,\n",
       " 'стена': 365.4905644401362,\n",
       " 'стипендия': 370.0831741683446,\n",
       " 'стол': 365.7282804674394,\n",
       " 'тачка': 366.3273385378725,\n",
       " 'тупик': 366.0435810138427,\n",
       " 'увольнение': 368.1659031852729,\n",
       " 'углеводород': 368.68667054006926,\n",
       " 'удобство': 366.38075144300933,\n",
       " 'уклад': 365.3490670934,\n",
       " 'университет': 370.8848682961221,\n",
       " 'установление': 368.0786191688559,\n",
       " 'фаворит': 365.3278477940891,\n",
       " 'формат': 367.5716206787807,\n",
       " 'формула': 364.79427289038244,\n",
       " 'хозяйка': 369.0594753741548,\n",
       " 'хор': 366.20437138274036,\n",
       " 'хрен': 362.3929756397916,\n",
       " 'цензура': 365.320678841428,\n",
       " 'центр': 370.5218609342199,\n",
       " 'цифра': 366.7385116199983,\n",
       " 'частица': 369.2184012473542,\n",
       " 'чек': 365.01669531947266,\n",
       " 'штаб': 368.24811007458374,\n",
       " 'эшелон': 365.2244595011689,\n",
       " 'юбилей': 368.24603408716104,\n",
       " 'ядро': 365.3850244318739,\n",
       " 'ясли': 366.04132793654946}"
      ]
     },
     "execution_count": 34,
     "metadata": {},
     "output_type": "execute_result"
    }
   ],
   "source": [
    "word_to_score"
   ]
  },
  {
   "cell_type": "markdown",
   "id": "indirect-chapter",
   "metadata": {},
   "source": [
    "# Geeting final results"
   ]
  },
  {
   "cell_type": "code",
   "execution_count": 35,
   "id": "specific-portfolio",
   "metadata": {},
   "outputs": [],
   "source": [
    "output_epochs_12_filename = 'data/RuShiftEval/RuShiftEvalPreds/words_12.json'\n",
    "output_epochs_13_filename = 'data/RuShiftEval/RuShiftEvalPreds/words_13.json'\n",
    "output_epochs_23_filename = 'data/RuShiftEval/RuShiftEvalPreds/words_23.json'\n",
    "\n",
    "prediction_filename = 'data/RuShiftEval/RuShiftEvalPreds/post_preds/prediction_base_mlm_dot_v3.tsv'"
   ]
  },
  {
   "cell_type": "code",
   "execution_count": 36,
   "id": "ruled-development",
   "metadata": {},
   "outputs": [],
   "source": [
    "def load_scores(filename):\n",
    "    with open(filename) as f:\n",
    "        return json.load(f)"
   ]
  },
  {
   "cell_type": "code",
   "execution_count": 37,
   "id": "retired-religion",
   "metadata": {},
   "outputs": [
    {
     "data": {
      "text/plain": [
       "(99, 99, 99)"
      ]
     },
     "execution_count": 37,
     "metadata": {},
     "output_type": "execute_result"
    }
   ],
   "source": [
    "scores_12 = load_scores(output_epochs_12_filename)\n",
    "scores_13 = load_scores(output_epochs_13_filename)\n",
    "scores_23 = load_scores(output_epochs_23_filename)\n",
    "\n",
    "len(scores_12), len(scores_13), len(scores_23)"
   ]
  },
  {
   "cell_type": "code",
   "execution_count": 38,
   "id": "incomplete-circuit",
   "metadata": {},
   "outputs": [],
   "source": [
    "with open(prediction_filename, 'w', encoding='utf-8') as f:\n",
    "    for word, score_12 in scores_12.items():\n",
    "#         score_12 = 1 / score_12\n",
    "#         score_13 = 1 / scores_13[word]\n",
    "#         score_23 = 1 / scores_23[word]\n",
    "        score_12 = score_12\n",
    "        score_13 = scores_13[word]\n",
    "        score_23 = scores_23[word]\n",
    "        f.write(f'{word}\\t{score_12}\\t{score_23}\\t{score_13}\\n')"
   ]
  },
  {
   "cell_type": "code",
   "execution_count": null,
   "id": "secret-macedonia",
   "metadata": {},
   "outputs": [],
   "source": []
  }
 ],
 "metadata": {
  "kernelspec": {
   "display_name": "Python 3",
   "language": "python",
   "name": "python3"
  },
  "language_info": {
   "codemirror_mode": {
    "name": "ipython",
    "version": 3
   },
   "file_extension": ".py",
   "mimetype": "text/x-python",
   "name": "python",
   "nbconvert_exporter": "python",
   "pygments_lexer": "ipython3",
   "version": "3.7.3"
  }
 },
 "nbformat": 4,
 "nbformat_minor": 5
}
