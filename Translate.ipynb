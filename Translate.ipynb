{
 "cells": [
  {
   "cell_type": "code",
   "execution_count": 13,
   "id": "existing-moscow",
   "metadata": {},
   "outputs": [
    {
     "name": "stdout",
     "output_type": "stream",
     "text": [
      "Requirement already satisfied: pip in ./venv/lib/python3.7/site-packages (21.0.1)\n",
      "Requirement already satisfied: transformers in ./venv/lib/python3.7/site-packages (4.2.2)\n",
      "Requirement already satisfied: tqdm>=4.27 in ./venv/lib/python3.7/site-packages (from transformers) (4.56.0)\n",
      "Requirement already satisfied: packaging in ./venv/lib/python3.7/site-packages (from transformers) (20.8)\n",
      "Requirement already satisfied: requests in ./venv/lib/python3.7/site-packages (from transformers) (2.25.1)\n",
      "Requirement already satisfied: tokenizers==0.9.4 in ./venv/lib/python3.7/site-packages (from transformers) (0.9.4)\n",
      "Requirement already satisfied: importlib-metadata in ./venv/lib/python3.7/site-packages (from transformers) (3.4.0)\n",
      "Requirement already satisfied: filelock in ./venv/lib/python3.7/site-packages (from transformers) (3.0.12)\n",
      "Requirement already satisfied: numpy in ./venv/lib/python3.7/site-packages (from transformers) (1.19.5)\n",
      "Requirement already satisfied: regex!=2019.12.17 in ./venv/lib/python3.7/site-packages (from transformers) (2020.11.13)\n",
      "Requirement already satisfied: sacremoses in ./venv/lib/python3.7/site-packages (from transformers) (0.0.43)\n",
      "Requirement already satisfied: zipp>=0.5 in ./venv/lib/python3.7/site-packages (from importlib-metadata->transformers) (3.4.0)\n",
      "Requirement already satisfied: typing-extensions>=3.6.4 in ./venv/lib/python3.7/site-packages (from importlib-metadata->transformers) (3.7.4.3)\n",
      "Requirement already satisfied: pyparsing>=2.0.2 in ./venv/lib/python3.7/site-packages (from packaging->transformers) (2.4.7)\n",
      "Requirement already satisfied: urllib3<1.27,>=1.21.1 in ./venv/lib/python3.7/site-packages (from requests->transformers) (1.26.3)\n",
      "Requirement already satisfied: idna<3,>=2.5 in ./venv/lib/python3.7/site-packages (from requests->transformers) (2.10)\n",
      "Requirement already satisfied: chardet<5,>=3.0.2 in ./venv/lib/python3.7/site-packages (from requests->transformers) (4.0.0)\n",
      "Requirement already satisfied: certifi>=2017.4.17 in ./venv/lib/python3.7/site-packages (from requests->transformers) (2020.12.5)\n",
      "Requirement already satisfied: six in ./venv/lib/python3.7/site-packages (from sacremoses->transformers) (1.15.0)\n",
      "Requirement already satisfied: click in ./venv/lib/python3.7/site-packages (from sacremoses->transformers) (7.1.2)\n",
      "Requirement already satisfied: joblib in ./venv/lib/python3.7/site-packages (from sacremoses->transformers) (1.0.0)\n",
      "Requirement already satisfied: torch in ./venv/lib/python3.7/site-packages (1.7.1)\n",
      "Requirement already satisfied: typing-extensions in ./venv/lib/python3.7/site-packages (from torch) (3.7.4.3)\n",
      "Requirement already satisfied: numpy in ./venv/lib/python3.7/site-packages (from torch) (1.19.5)\n",
      "Collecting sentencepiece\n",
      "  Downloading sentencepiece-0.1.95-cp37-cp37m-macosx_10_6_x86_64.whl (1.1 MB)\n",
      "\u001b[K     |████████████████████████████████| 1.1 MB 1.6 MB/s eta 0:00:01\n",
      "\u001b[?25hInstalling collected packages: sentencepiece\n",
      "Successfully installed sentencepiece-0.1.95\n"
     ]
    }
   ],
   "source": [
    "!pip install --upgrade pip\n",
    "!pip install transformers\n",
    "!pip install torch\n",
    "!pip install sentencepiece"
   ]
  },
  {
   "cell_type": "code",
   "execution_count": 1,
   "id": "coordinated-shannon",
   "metadata": {},
   "outputs": [],
   "source": [
    "import numpy as np\n",
    "import pandas as pd\n",
    "import matplotlib.pyplot as plt\n",
    "\n",
    "import json"
   ]
  },
  {
   "cell_type": "code",
   "execution_count": 2,
   "id": "manual-jumping",
   "metadata": {},
   "outputs": [],
   "source": [
    "data_dev_file = 'data/MCL-WiC/dev/multilingual/dev.ru-ru.data'"
   ]
  },
  {
   "cell_type": "code",
   "execution_count": 3,
   "id": "still-equation",
   "metadata": {},
   "outputs": [
    {
     "data": {
      "text/plain": [
       "{'id': 'dev.ru-ru.2',\n",
       " 'lemma': 'требовать',\n",
       " 'pos': 'VERB',\n",
       " 'sentence1': 'В каждой конкретной стране эта проблема имеет свои особенности и поэтому требует особого подхода.',\n",
       " 'sentence2': 'Все это порождает ситуацию, которая требует, чтобы международное сообщество сотрудничало и стало взаимозависимым в своих усилиях по обеспечению безопасности и прогресса.',\n",
       " 'start1': '73',\n",
       " 'end1': '80',\n",
       " 'start2': '36',\n",
       " 'end2': '43'}"
      ]
     },
     "execution_count": 3,
     "metadata": {},
     "output_type": "execute_result"
    }
   ],
   "source": [
    "with open(data_dev_file) as f_data:\n",
    "    data_samples = json.load(f_data)\n",
    "    \n",
    "data_samples[2]"
   ]
  },
  {
   "cell_type": "code",
   "execution_count": 30,
   "id": "entertaining-symphony",
   "metadata": {},
   "outputs": [],
   "source": [
    "from transformers import MarianMTModel, MarianTokenizer\n",
    "import torch"
   ]
  },
  {
   "cell_type": "code",
   "execution_count": 31,
   "id": "suspended-hygiene",
   "metadata": {},
   "outputs": [],
   "source": [
    "device = torch.device(\"cuda\" if torch.cuda.is_available() else \"cpu\")"
   ]
  },
  {
   "cell_type": "code",
   "execution_count": 5,
   "id": "grave-grain",
   "metadata": {},
   "outputs": [],
   "source": [
    "src_text = [\n",
    "    'Регистрация в суде представляет собой лишь уведомление, а не получение разрешения.',\n",
    "    'Касаясь апелляции, авторы заявляют, что адвокат, представлявший их в апелляционном суде, не проводил с ними никаких консультаций до слушания апелляции, на котором авторы не присутствовали.',\n",
    "    'В каждой конкретной стране эта проблема имеет свои особенности и поэтому требует особого подхода.',\n",
    "    'Все это порождает ситуацию, которая требует, чтобы международное сообщество сотрудничало и стало взаимозависимым в своих усилиях по обеспечению безопасности и прогресса.'\n",
    "]\n",
    "\n",
    "model_name = 'Helsinki-NLP/opus-mt-ru-en'\n",
    "tokenizer = MarianTokenizer.from_pretrained(model_name)\n",
    "model = MarianMTModel.from_pretrained(model_name).to(device)\n",
    "\n",
    "text_batch = tokenizer.prepare_seq2seq_batch(src_text, return_tensors=\"pt\").to(device)\n",
    "translated = model.generate(**text_batch)\n",
    "tgt_text = [tokenizer.decode(t, skip_special_tokens=True) for t in translated]"
   ]
  },
  {
   "cell_type": "code",
   "execution_count": 6,
   "id": "racial-theory",
   "metadata": {},
   "outputs": [
    {
     "data": {
      "text/plain": [
       "['Registration in court is only a notice, not a permit.',\n",
       " 'With regard to the appeal, the authors submit that the lawyer who represented them in the Court of Appeal did not consult them at all until the appeal hearing, at which the authors were not present.',\n",
       " 'In each particular country, the problem had its own characteristics and therefore required a special approach.',\n",
       " 'All of this creates a situation that requires the international community to cooperate and become interdependent in its efforts to ensure security and progress.']"
      ]
     },
     "execution_count": 6,
     "metadata": {},
     "output_type": "execute_result"
    }
   ],
   "source": [
    "tgt_text"
   ]
  },
  {
   "cell_type": "code",
   "execution_count": 7,
   "id": "close-compensation",
   "metadata": {},
   "outputs": [],
   "source": [
    "data_samples = data_samples[:10] # TODO - delete"
   ]
  },
  {
   "cell_type": "code",
   "execution_count": 8,
   "id": "unique-cargo",
   "metadata": {},
   "outputs": [],
   "source": [
    "from tqdm.auto import tqdm"
   ]
  },
  {
   "cell_type": "code",
   "execution_count": 9,
   "id": "instrumental-albuquerque",
   "metadata": {},
   "outputs": [
    {
     "data": {
      "application/vnd.jupyter.widget-view+json": {
       "model_id": "4e7fc864d57b44b882f804ccc8f95497",
       "version_major": 2,
       "version_minor": 0
      },
      "text/plain": [
       "  0%|          | 0/1 [00:00<?, ?it/s]"
      ]
     },
     "metadata": {},
     "output_type": "display_data"
    }
   ],
   "source": [
    "batch_size = 16\n",
    "\n",
    "for start_ind in tqdm(range(0, len(data_samples), batch_size)):\n",
    "    batch_sents = []\n",
    "    \n",
    "    for i in range(batch_size):\n",
    "        if start_ind + i >= len(data_samples):\n",
    "            break\n",
    "        current_sample = data_samples[start_ind+i]\n",
    "        batch_sents.append(current_sample['sentence1'])\n",
    "        batch_sents.append(current_sample['sentence2'])\n",
    "        \n",
    "    translated = model.generate(**tokenizer.prepare_seq2seq_batch(batch_sents, return_tensors=\"pt\"))\n",
    "    trans_texts = [tokenizer.decode(t, skip_special_tokens=True) for t in translated]\n",
    "    \n",
    "    for i in range(batch_size):\n",
    "        if start_ind + i >= len(data_samples):\n",
    "            break\n",
    "        current_sample = data_samples[start_ind+i]\n",
    "        current_sample['trans_sentence1'] = trans_texts[2 * i]\n",
    "        current_sample['trans_sentence2'] = trans_texts[2 * i + 1]"
   ]
  },
  {
   "cell_type": "code",
   "execution_count": 10,
   "id": "wicked-scale",
   "metadata": {
    "scrolled": true
   },
   "outputs": [
    {
     "data": {
      "text/plain": [
       "[{'id': 'dev.ru-ru.0',\n",
       "  'lemma': 'представлять',\n",
       "  'pos': 'VERB',\n",
       "  'sentence1': 'Регистрация в суде представляет собой лишь уведомление, а не получение разрешения.',\n",
       "  'sentence2': 'Касаясь апелляции, авторы заявляют, что адвокат, представлявший их в апелляционном суде, не проводил с ними никаких консультаций до слушания апелляции, на котором авторы не присутствовали.',\n",
       "  'start1': '19',\n",
       "  'end1': '31',\n",
       "  'start2': '49',\n",
       "  'end2': '63',\n",
       "  'trans_sentence1': 'Registration in court is only a notice, not a permit.',\n",
       "  'trans_sentence2': 'With regard to the appeal, the authors submit that the lawyer who represented them in the Court of Appeal did not consult them at all until the appeal hearing, at which the authors were not present.'},\n",
       " {'id': 'dev.ru-ru.1',\n",
       "  'lemma': 'представлять',\n",
       "  'pos': 'VERB',\n",
       "  'sentence1': 'Регистрация в суде представляет собой лишь уведомление, а не получение разрешения.',\n",
       "  'sentence2': 'В таких случаях размер пособия по безработице представляет собой разницу между обязательным пособием по безработице, с одной стороны, и заработной платой, с другой стороны.',\n",
       "  'start1': '19',\n",
       "  'end1': '31',\n",
       "  'start2': '46',\n",
       "  'end2': '58',\n",
       "  'trans_sentence1': 'Registration in court is only a notice, not a permit.',\n",
       "  'trans_sentence2': 'In such cases, the amount of the unemployment benefit is the difference between the compulsory unemployment benefit on the one hand and the wage on the other.'},\n",
       " {'id': 'dev.ru-ru.2',\n",
       "  'lemma': 'требовать',\n",
       "  'pos': 'VERB',\n",
       "  'sentence1': 'В каждой конкретной стране эта проблема имеет свои особенности и поэтому требует особого подхода.',\n",
       "  'sentence2': 'Все это порождает ситуацию, которая требует, чтобы международное сообщество сотрудничало и стало взаимозависимым в своих усилиях по обеспечению безопасности и прогресса.',\n",
       "  'start1': '73',\n",
       "  'end1': '80',\n",
       "  'start2': '36',\n",
       "  'end2': '43',\n",
       "  'trans_sentence1': 'In each particular country, the problem had its own characteristics and therefore required a special approach.',\n",
       "  'trans_sentence2': 'All of this creates a situation that requires the international community to cooperate and become interdependent in its efforts to ensure security and progress.'},\n",
       " {'id': 'dev.ru-ru.3',\n",
       "  'lemma': 'требовать',\n",
       "  'pos': 'VERB',\n",
       "  'sentence1': 'В каждой конкретной стране эта проблема имеет свои особенности и поэтому требует особого подхода.',\n",
       "  'sentence2': 'Рационализация работы Совета требует введения в повседневную практику консультаций с членами Совета по всем актуальным вопросам.',\n",
       "  'start1': '73',\n",
       "  'end1': '80',\n",
       "  'start2': '29',\n",
       "  'end2': '36',\n",
       "  'trans_sentence1': 'In each particular country, the problem had its own characteristics and therefore required a special approach.',\n",
       "  'trans_sentence2': 'Rationalization of the Council &apos; s work requires the introduction of consultations with Council members on all relevant issues in the day-to-day practice.'},\n",
       " {'id': 'dev.ru-ru.4',\n",
       "  'lemma': 'огонь',\n",
       "  'pos': 'NOUN',\n",
       "  'sentence1': 'Учреждения признали, что прекращение огня значительно улучшило бы гуманитарную ситуацию в южных районах Судана и позволило бы гуманитарным организациям более эффективно работать в направлении стабилизации нынешнего кризиса.',\n",
       "  'sentence2': 'В 08 ч. 55 м. патруль произраильского ополчения Лахад вошел в Каукабу и открыл огонь внутри города.',\n",
       "  'start1': '37',\n",
       "  'end1': '41',\n",
       "  'start2': '79',\n",
       "  'end2': '84',\n",
       "  'trans_sentence1': 'Agencies recognized that a ceasefire would significantly improve the humanitarian situation in southern Sudan and enable humanitarian organizations to work more effectively towards stabilizing the current crisis.',\n",
       "  'trans_sentence2': 'At 0855 hours a patrol of the Lahad proxy militia entered Kaukaba and opened fire inside the city.'}]"
      ]
     },
     "execution_count": 10,
     "metadata": {},
     "output_type": "execute_result"
    }
   ],
   "source": [
    "data_samples[:5]"
   ]
  },
  {
   "cell_type": "code",
   "execution_count": 14,
   "id": "local-movement",
   "metadata": {
    "scrolled": true
   },
   "outputs": [
    {
     "data": {
      "text/plain": [
       "[{'id': 'dev.ru-ru.138',\n",
       "  'lemma': 'убийство',\n",
       "  'pos': 'NOUN',\n",
       "  'sentence1': 'Европейский союз напоминает об общей позиции его Совета по Афганистану и об осуждении Европейским союзом убийства иранских дипломатов во время недавних боев в Мазари-Шарифе.',\n",
       "  'sentence2': 'Ему инкриминируется участие в массовых убийствах, имевших место в Багогве в 1992 году.',\n",
       "  'start1': '105',\n",
       "  'end1': '113',\n",
       "  'start2': '39',\n",
       "  'end2': '48',\n",
       "  'trans_sentence1': 'The European Union recalls the common position of its Council on Afghanistan and the European Union &apos; s condemnation of the murder of Iranian diplomats during the recent fighting in Mazar-i-Sharif.',\n",
       "  'trans_sentence2': 'He is accused of involvement in the massacres that took place in Bagogwe in 1992.'},\n",
       " {'id': 'dev.ru-ru.139',\n",
       "  'lemma': 'убийство',\n",
       "  'pos': 'NOUN',\n",
       "  'sentence1': 'Европейский союз напоминает об общей позиции его Совета по Афганистану и об осуждении Европейским союзом убийства иранских дипломатов во время недавних боев в Мазари-Шарифе.',\n",
       "  'sentence2': 'Еще большую сдержанность они проявили в случаях террористических актов и убийств граждан, направлявшихся на избирательные участки в рамках последних всеобщих выборов, состоявшихся 29 мая 1997 года.',\n",
       "  'start1': '105',\n",
       "  'end1': '113',\n",
       "  'start2': '73',\n",
       "  'end2': '80',\n",
       "  'trans_sentence1': 'The European Union recalls the common position of its Council on Afghanistan and the European Union &apos; s condemnation of the murder of Iranian diplomats during the recent fighting in Mazar-i-Sharif.',\n",
       "  'trans_sentence2': 'They have shown even greater restraint in cases of terrorist acts and killings of citizens on their way to the polling stations in the last general elections, held on 29 May 1997.'},\n",
       " {'id': 'dev.ru-ru.140',\n",
       "  'lemma': 'лицо',\n",
       "  'pos': 'NOUN',\n",
       "  'sentence1': 'Вместе с тем необходимо гарантировать это право не коренным народам как таковым, а любым индивидам, включая лиц коренных народов.',\n",
       "  'sentence2': 'Учитывая сложившуюся ситуацию, члены Комитета выразили серьезную озабоченность в отношении закона об амнистии и принятия лиц, нарушавших права человека, в вооруженные силы, национальную полицию, судебные органы и в другие органы государственной власти.',\n",
       "  'start1': '108',\n",
       "  'end1': '111',\n",
       "  'start2': '121',\n",
       "  'end2': '124',\n",
       "  'trans_sentence1': 'However, this right should not be guaranteed to indigenous peoples per se, but to any individual, including indigenous peoples.',\n",
       "  'trans_sentence2': 'In view of the situation, members of the Committee expressed serious concern about the amnesty law and the introduction of human rights violators into the armed forces, the national police, the judiciary and other public authorities.'},\n",
       " {'id': 'dev.ru-ru.141',\n",
       "  'lemma': 'лицо',\n",
       "  'pos': 'NOUN',\n",
       "  'sentence1': 'Вместе с тем необходимо гарантировать это право не коренным народам как таковым, а любым индивидам, включая лиц коренных народов.',\n",
       "  'sentence2': 'Жалоба также может быть принесена от имени другого лица родственником или представителем жалобщика.',\n",
       "  'start1': '108',\n",
       "  'end1': '111',\n",
       "  'start2': '51',\n",
       "  'end2': '55',\n",
       "  'trans_sentence1': 'However, this right should not be guaranteed to indigenous peoples per se, but to any individual, including indigenous peoples.',\n",
       "  'trans_sentence2': 'A complaint may also be lodged on behalf of another person by a relative or representative of the complainant.'},\n",
       " {'id': 'dev.ru-ru.142',\n",
       "  'lemma': 'иметь',\n",
       "  'pos': 'VERB',\n",
       "  'sentence1': 'Кроме того, коренные народы также должны иметь право представлять рекомендации относительно деятельности рабочей группы и непосредственно участвовать в составлении повестки дня, а также в процессе принятия других решений рабочей группы.',\n",
       "  'sentence2': 'Школы имеют свои собственные библиотеки.',\n",
       "  'start1': '41',\n",
       "  'end1': '46',\n",
       "  'start2': '6',\n",
       "  'end2': '11',\n",
       "  'trans_sentence1': 'In addition, indigenous peoples should also have the right to make recommendations on the work of the working group and to participate directly in the drafting of the agenda, as well as in other decisions of the working group.',\n",
       "  'trans_sentence2': 'Schools have their own libraries.'}]"
      ]
     },
     "execution_count": 14,
     "metadata": {},
     "output_type": "execute_result"
    }
   ],
   "source": [
    "data_samples[-5:]"
   ]
  },
  {
   "cell_type": "code",
   "execution_count": null,
   "id": "greenhouse-realtor",
   "metadata": {},
   "outputs": [],
   "source": []
  },
  {
   "cell_type": "raw",
   "id": "seeing-arthur",
   "metadata": {},
   "source": [
    "translations_file = 'data/translations/dev_trans.ru-en'"
   ]
  },
  {
   "cell_type": "raw",
   "id": "organic-bernard",
   "metadata": {},
   "source": [
    "with open(translations_file, encoding='utf-8') as f:\n",
    "    translations = json.load(f)\n",
    "    \n",
    "id_to_translation = {translation['id']: translation for translation in translations}\n",
    "    \n",
    "print(len(id_to_translation))"
   ]
  },
  {
   "cell_type": "raw",
   "id": "limiting-louis",
   "metadata": {},
   "source": [
    "for sample in data_samples:\n",
    "    sample['lemma_trans'] = id_to_translation[sample['id']]['lemma_trans']\n",
    "    \n",
    "data_samples[:5]"
   ]
  },
  {
   "cell_type": "raw",
   "id": "grand-latter",
   "metadata": {},
   "source": [
    "from nltk.tokenize import word_tokenize\n",
    "from nltk.stem import PorterStemmer"
   ]
  },
  {
   "cell_type": "raw",
   "id": "together-supervision",
   "metadata": {},
   "source": [
    "def trans_lemma_bounds(trans_sentence, lemma_translations, stemmer):\n",
    "    current_shift = 0\n",
    "    for word in word_tokenize(trans_sentence):\n",
    "        stemmed_word = stemmer.stem(word)\n",
    "        for translation in lemma_translations:\n",
    "            if stemmed_word == stemmer.stem(translation):\n",
    "                return current_shift, current_shift + len(word)\n",
    "        current_shift += len(word)\n",
    "                \n",
    "    return None, None"
   ]
  },
  {
   "cell_type": "raw",
   "id": "polyphonic-sunday",
   "metadata": {},
   "source": [
    "has_target_lemma = []\n",
    "ps = PorterStemmer()\n",
    "\n",
    "for sample in data_samples:\n",
    "    start1, end1 = trans_lemma_bounds(sample['trans_sentence1'], sample['lemma_trans'], ps)\n",
    "    start2, end2 = trans_lemma_bounds(sample['trans_sentence2'], sample['lemma_trans'], ps)\n",
    "    log_sum = sum([bool(start1), bool(start2)])\n",
    "    has_target_lemma.append(f'{log_sum} match')"
   ]
  },
  {
   "cell_type": "raw",
   "id": "configured-fellowship",
   "metadata": {},
   "source": [
    "has_target_lemma"
   ]
  },
  {
   "cell_type": "code",
   "execution_count": null,
   "id": "mathematical-encyclopedia",
   "metadata": {},
   "outputs": [],
   "source": []
  }
 ],
 "metadata": {
  "kernelspec": {
   "display_name": "Python 3",
   "language": "python",
   "name": "python3"
  },
  "language_info": {
   "codemirror_mode": {
    "name": "ipython",
    "version": 3
   },
   "file_extension": ".py",
   "mimetype": "text/x-python",
   "name": "python",
   "nbconvert_exporter": "python",
   "pygments_lexer": "ipython3",
   "version": "3.7.3"
  }
 },
 "nbformat": 4,
 "nbformat_minor": 5
}
